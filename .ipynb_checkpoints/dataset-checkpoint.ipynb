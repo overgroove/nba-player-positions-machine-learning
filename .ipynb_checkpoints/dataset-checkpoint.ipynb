{
 "cells": [
  {
   "cell_type": "code",
   "execution_count": 59,
   "metadata": {
    "collapsed": true
   },
   "outputs": [],
   "source": [
    "import numpy as np\n",
    "from pandas import DataFrame\n",
    "import pandas as pd"
   ]
  },
  {
   "cell_type": "markdown",
   "metadata": {},
   "source": [
    "# Kako izgleda Dataset?"
   ]
  },
  {
   "cell_type": "code",
   "execution_count": 60,
   "metadata": {
    "collapsed": false
   },
   "outputs": [
    {
     "data": {
      "text/plain": [
       "(1514, 26)"
      ]
     },
     "execution_count": 60,
     "metadata": {},
     "output_type": "execute_result"
    }
   ],
   "source": [
    "df = pd.read_csv('NBA_Stats.txt', sep='\\t')\n",
    "df.shape"
   ]
  },
  {
   "cell_type": "code",
   "execution_count": 61,
   "metadata": {
    "collapsed": true
   },
   "outputs": [],
   "source": [
    "df.columns = [\"GP\", \"GS\", \"MIN\", \"FGM\",\"FGA\",\"FG%\",\"3PM\",\"3PA\",\"3P%\",\"FTM\",\"FTA\",\"FT%\",\"OFF\",\"DEF\",\n",
    "              \"TRB\",\"AST\",\"STL\",\"BLK\",\"PF\",\"TOV\",\"PTS\",\"YR\",\"POS\",\"W\",\"H\",\"NAME\"]"
   ]
  },
  {
   "cell_type": "markdown",
   "metadata": {},
   "source": [
    "GP, GS - Games played, games started \n",
    "\n",
    "MIN - Minutes played\n",
    "\n",
    "FGM, FGA, FG% - Field goals MADE, ATEMPTED, PERCENTAGE\n",
    "\n",
    "3PM, 3PA, 3P% - Three point field goals MADE, ATEMPTED, PERCENTAGE\n",
    "\n",
    "FTM, FTA, FT% - Free throws MADE, ATEMPTED, PERCENTAGE\n",
    "\n",
    "OFF, DEF, TRB - Offensive Rebounds, Defensive Rebounds, TOTAL Rebounds\n",
    "\n",
    "AST - Assists\n",
    "\n",
    "STL - Steals\n",
    "\n",
    "BLK - Blocks\n",
    "\n",
    "PF - Personal Fouls\n",
    "\n",
    "TOV - Turnovers\n",
    "\n",
    "PTS - Points scorred\n",
    "\n",
    "YR - Years playing\n",
    "\n",
    "W - Weight\n",
    "\n",
    "H - Height \n",
    "\n",
    "POS - Position"
   ]
  },
  {
   "cell_type": "code",
   "execution_count": 62,
   "metadata": {
    "collapsed": false
   },
   "outputs": [],
   "source": [
    "columns = {\"GP\":0, \"GS\":1, \"MIN\":2, \"FGM\":3,\"FGA\":4,\"FG%\":5,\"3PM\":6,\"3PA\":7,\"3P%\":8,\"FTM\":9,\"FTA\":10,\"FT%\":11,\"OFF\":12,\"DEF\":13,\n",
    "              \"TRB\":14,\"AST\":15,\"STL\":16,\"BLK\":17,\"PF\":18,\"TOV\":19,\"PTS\":20,\"YR\":21,\"POS\":22,\"W\":23,\"H\":24, \"NAME\":25} \n",
    "\n",
    "columns_list = [\"GP\",\"GS\",\"MIN\",\"FGM\",\"FGA\",\"FG%\",\"3PM\",\"3PA\",\"3P%\",\"FTM\",\"FTA\",\"FT%\",\"OFF\",\"DEF\",\n",
    "              \"TRB\",\"AST\",\"STL\",\"BLK\",\"PF\",\"TOV\",\"PTS\",\"YR\",\"POS\",\"W\",\"H\", \"NAME\"]"
   ]
  },
  {
   "cell_type": "markdown",
   "metadata": {},
   "source": [
    "# Kako izgleda DataFrame? "
   ]
  },
  {
   "cell_type": "code",
   "execution_count": 63,
   "metadata": {
    "collapsed": false
   },
   "outputs": [
    {
     "data": {
      "text/html": [
       "<div>\n",
       "<table border=\"1\" class=\"dataframe\">\n",
       "  <thead>\n",
       "    <tr style=\"text-align: right;\">\n",
       "      <th></th>\n",
       "      <th>GP</th>\n",
       "      <th>GS</th>\n",
       "      <th>MIN</th>\n",
       "      <th>FGM</th>\n",
       "      <th>FGA</th>\n",
       "      <th>FG%</th>\n",
       "      <th>3PM</th>\n",
       "      <th>3PA</th>\n",
       "      <th>3P%</th>\n",
       "      <th>FTM</th>\n",
       "      <th>FTA</th>\n",
       "      <th>FT%</th>\n",
       "      <th>OFF</th>\n",
       "    </tr>\n",
       "  </thead>\n",
       "  <tbody>\n",
       "    <tr>\n",
       "      <th>0</th>\n",
       "      <td>479</td>\n",
       "      <td>81</td>\n",
       "      <td>22.9</td>\n",
       "      <td>4.08</td>\n",
       "      <td>7.65</td>\n",
       "      <td>0.534</td>\n",
       "      <td>0.01</td>\n",
       "      <td>0.04</td>\n",
       "      <td>0.176</td>\n",
       "      <td>2.72</td>\n",
       "      <td>3.45</td>\n",
       "      <td>0.788</td>\n",
       "      <td>1.98</td>\n",
       "    </tr>\n",
       "    <tr>\n",
       "      <th>1</th>\n",
       "      <td>62</td>\n",
       "      <td>0</td>\n",
       "      <td>7.4</td>\n",
       "      <td>0.73</td>\n",
       "      <td>2.26</td>\n",
       "      <td>0.321</td>\n",
       "      <td>0.27</td>\n",
       "      <td>0.97</td>\n",
       "      <td>0.283</td>\n",
       "      <td>0.29</td>\n",
       "      <td>0.37</td>\n",
       "      <td>0.783</td>\n",
       "      <td>0.16</td>\n",
       "    </tr>\n",
       "    <tr>\n",
       "      <th>2</th>\n",
       "      <td>514</td>\n",
       "      <td>120</td>\n",
       "      <td>21.1</td>\n",
       "      <td>3.14</td>\n",
       "      <td>7.03</td>\n",
       "      <td>0.447</td>\n",
       "      <td>0.02</td>\n",
       "      <td>0.11</td>\n",
       "      <td>0.182</td>\n",
       "      <td>1.70</td>\n",
       "      <td>2.43</td>\n",
       "      <td>0.700</td>\n",
       "      <td>1.42</td>\n",
       "    </tr>\n",
       "  </tbody>\n",
       "</table>\n",
       "</div>"
      ],
      "text/plain": [
       "    GP   GS   MIN   FGM   FGA    FG%   3PM   3PA    3P%   FTM   FTA    FT%  \\\n",
       "0  479   81  22.9  4.08  7.65  0.534  0.01  0.04  0.176  2.72  3.45  0.788   \n",
       "1   62    0   7.4  0.73  2.26  0.321  0.27  0.97  0.283  0.29  0.37  0.783   \n",
       "2  514  120  21.1  3.14  7.03  0.447  0.02  0.11  0.182  1.70  2.43  0.700   \n",
       "\n",
       "    OFF  \n",
       "0  1.98  \n",
       "1  0.16  \n",
       "2  1.42  "
      ]
     },
     "execution_count": 63,
     "metadata": {},
     "output_type": "execute_result"
    }
   ],
   "source": [
    "df.ix[:2,:13]"
   ]
  },
  {
   "cell_type": "code",
   "execution_count": 64,
   "metadata": {
    "collapsed": false
   },
   "outputs": [
    {
     "data": {
      "text/html": [
       "<div>\n",
       "<table border=\"1\" class=\"dataframe\">\n",
       "  <thead>\n",
       "    <tr style=\"text-align: right;\">\n",
       "      <th></th>\n",
       "      <th>DEF</th>\n",
       "      <th>TRB</th>\n",
       "      <th>AST</th>\n",
       "      <th>STL</th>\n",
       "      <th>BLK</th>\n",
       "      <th>PF</th>\n",
       "      <th>TOV</th>\n",
       "      <th>PTS</th>\n",
       "      <th>YR</th>\n",
       "      <th>POS</th>\n",
       "      <th>W</th>\n",
       "      <th>H</th>\n",
       "      <th>NAME</th>\n",
       "    </tr>\n",
       "  </thead>\n",
       "  <tbody>\n",
       "    <tr>\n",
       "      <th>0</th>\n",
       "      <td>3.03</td>\n",
       "      <td>5.01</td>\n",
       "      <td>0.68</td>\n",
       "      <td>0.43</td>\n",
       "      <td>0.41</td>\n",
       "      <td>2.39</td>\n",
       "      <td>1.22</td>\n",
       "      <td>10.89</td>\n",
       "      <td>8</td>\n",
       "      <td>34</td>\n",
       "      <td>112</td>\n",
       "      <td>206</td>\n",
       "      <td>Carl Landry</td>\n",
       "    </tr>\n",
       "    <tr>\n",
       "      <th>1</th>\n",
       "      <td>0.66</td>\n",
       "      <td>0.82</td>\n",
       "      <td>0.84</td>\n",
       "      <td>0.32</td>\n",
       "      <td>0.05</td>\n",
       "      <td>0.71</td>\n",
       "      <td>0.39</td>\n",
       "      <td>2.02</td>\n",
       "      <td>2</td>\n",
       "      <td>12</td>\n",
       "      <td>84</td>\n",
       "      <td>193</td>\n",
       "      <td>Gabe Pruitt</td>\n",
       "    </tr>\n",
       "    <tr>\n",
       "      <th>2</th>\n",
       "      <td>2.93</td>\n",
       "      <td>4.35</td>\n",
       "      <td>0.89</td>\n",
       "      <td>0.69</td>\n",
       "      <td>0.34</td>\n",
       "      <td>2.41</td>\n",
       "      <td>1.03</td>\n",
       "      <td>8.00</td>\n",
       "      <td>8</td>\n",
       "      <td>4</td>\n",
       "      <td>131</td>\n",
       "      <td>206</td>\n",
       "      <td>Glen Davis</td>\n",
       "    </tr>\n",
       "  </tbody>\n",
       "</table>\n",
       "</div>"
      ],
      "text/plain": [
       "    DEF   TRB   AST   STL   BLK    PF   TOV    PTS  YR  POS    W    H  \\\n",
       "0  3.03  5.01  0.68  0.43  0.41  2.39  1.22  10.89   8   34  112  206   \n",
       "1  0.66  0.82  0.84  0.32  0.05  0.71  0.39   2.02   2   12   84  193   \n",
       "2  2.93  4.35  0.89  0.69  0.34  2.41  1.03   8.00   8    4  131  206   \n",
       "\n",
       "          NAME  \n",
       "0  Carl Landry  \n",
       "1  Gabe Pruitt  \n",
       "2   Glen Davis  "
      ]
     },
     "execution_count": 64,
     "metadata": {},
     "output_type": "execute_result"
    }
   ],
   "source": [
    "df.ix[:2,13:]"
   ]
  },
  {
   "cell_type": "code",
   "execution_count": 65,
   "metadata": {
    "collapsed": false
   },
   "outputs": [
    {
     "data": {
      "text/html": [
       "<div>\n",
       "<table border=\"1\" class=\"dataframe\">\n",
       "  <thead>\n",
       "    <tr style=\"text-align: right;\">\n",
       "      <th></th>\n",
       "      <th>GP</th>\n",
       "      <th>GS</th>\n",
       "      <th>MIN</th>\n",
       "      <th>FGM</th>\n",
       "      <th>FGA</th>\n",
       "      <th>FG%</th>\n",
       "      <th>3PM</th>\n",
       "      <th>3PA</th>\n",
       "      <th>3P%</th>\n",
       "      <th>FTM</th>\n",
       "      <th>...</th>\n",
       "      <th>DEF</th>\n",
       "      <th>TRB</th>\n",
       "      <th>AST</th>\n",
       "      <th>STL</th>\n",
       "      <th>BLK</th>\n",
       "      <th>PF</th>\n",
       "      <th>TOV</th>\n",
       "      <th>PTS</th>\n",
       "      <th>YR</th>\n",
       "      <th>POS</th>\n",
       "    </tr>\n",
       "  </thead>\n",
       "  <tbody>\n",
       "    <tr>\n",
       "      <th>0</th>\n",
       "      <td>479</td>\n",
       "      <td>81</td>\n",
       "      <td>22.9</td>\n",
       "      <td>4.08</td>\n",
       "      <td>7.65</td>\n",
       "      <td>0.534</td>\n",
       "      <td>0.01</td>\n",
       "      <td>0.04</td>\n",
       "      <td>0.176</td>\n",
       "      <td>2.72</td>\n",
       "      <td>...</td>\n",
       "      <td>3.03</td>\n",
       "      <td>5.01</td>\n",
       "      <td>0.68</td>\n",
       "      <td>0.43</td>\n",
       "      <td>0.41</td>\n",
       "      <td>2.39</td>\n",
       "      <td>1.22</td>\n",
       "      <td>10.89</td>\n",
       "      <td>8</td>\n",
       "      <td>34</td>\n",
       "    </tr>\n",
       "    <tr>\n",
       "      <th>1</th>\n",
       "      <td>62</td>\n",
       "      <td>0</td>\n",
       "      <td>7.4</td>\n",
       "      <td>0.73</td>\n",
       "      <td>2.26</td>\n",
       "      <td>0.321</td>\n",
       "      <td>0.27</td>\n",
       "      <td>0.97</td>\n",
       "      <td>0.283</td>\n",
       "      <td>0.29</td>\n",
       "      <td>...</td>\n",
       "      <td>0.66</td>\n",
       "      <td>0.82</td>\n",
       "      <td>0.84</td>\n",
       "      <td>0.32</td>\n",
       "      <td>0.05</td>\n",
       "      <td>0.71</td>\n",
       "      <td>0.39</td>\n",
       "      <td>2.02</td>\n",
       "      <td>2</td>\n",
       "      <td>12</td>\n",
       "    </tr>\n",
       "    <tr>\n",
       "      <th>2</th>\n",
       "      <td>514</td>\n",
       "      <td>120</td>\n",
       "      <td>21.1</td>\n",
       "      <td>3.14</td>\n",
       "      <td>7.03</td>\n",
       "      <td>0.447</td>\n",
       "      <td>0.02</td>\n",
       "      <td>0.11</td>\n",
       "      <td>0.182</td>\n",
       "      <td>1.70</td>\n",
       "      <td>...</td>\n",
       "      <td>2.93</td>\n",
       "      <td>4.35</td>\n",
       "      <td>0.89</td>\n",
       "      <td>0.69</td>\n",
       "      <td>0.34</td>\n",
       "      <td>2.41</td>\n",
       "      <td>1.03</td>\n",
       "      <td>8.00</td>\n",
       "      <td>8</td>\n",
       "      <td>4</td>\n",
       "    </tr>\n",
       "  </tbody>\n",
       "</table>\n",
       "<p>3 rows × 23 columns</p>\n",
       "</div>"
      ],
      "text/plain": [
       "    GP   GS   MIN   FGM   FGA    FG%   3PM   3PA    3P%   FTM ...   DEF   TRB  \\\n",
       "0  479   81  22.9  4.08  7.65  0.534  0.01  0.04  0.176  2.72 ...  3.03  5.01   \n",
       "1   62    0   7.4  0.73  2.26  0.321  0.27  0.97  0.283  0.29 ...  0.66  0.82   \n",
       "2  514  120  21.1  3.14  7.03  0.447  0.02  0.11  0.182  1.70 ...  2.93  4.35   \n",
       "\n",
       "    AST   STL   BLK    PF   TOV    PTS YR POS  \n",
       "0  0.68  0.43  0.41  2.39  1.22  10.89  8  34  \n",
       "1  0.84  0.32  0.05  0.71  0.39   2.02  2  12  \n",
       "2  0.89  0.69  0.34  2.41  1.03   8.00  8   4  \n",
       "\n",
       "[3 rows x 23 columns]"
      ]
     },
     "execution_count": 65,
     "metadata": {},
     "output_type": "execute_result"
    }
   ],
   "source": [
    "df_preview = df.ix[:2,:23]\n",
    "df_preview"
   ]
  },
  {
   "cell_type": "markdown",
   "metadata": {},
   "source": [
    "# Čišćenje dataseta"
   ]
  },
  {
   "cell_type": "code",
   "execution_count": 66,
   "metadata": {
    "collapsed": false
   },
   "outputs": [
    {
     "data": {
      "text/html": [
       "<div>\n",
       "<table border=\"1\" class=\"dataframe\">\n",
       "  <thead>\n",
       "    <tr style=\"text-align: right;\">\n",
       "      <th></th>\n",
       "      <th>GP</th>\n",
       "      <th>GS</th>\n",
       "      <th>MIN</th>\n",
       "      <th>FGM</th>\n",
       "      <th>FGA</th>\n",
       "      <th>FG%</th>\n",
       "      <th>3PM</th>\n",
       "      <th>3PA</th>\n",
       "      <th>3P%</th>\n",
       "      <th>FTM</th>\n",
       "      <th>...</th>\n",
       "      <th>STL</th>\n",
       "      <th>BLK</th>\n",
       "      <th>PF</th>\n",
       "      <th>TOV</th>\n",
       "      <th>PTS</th>\n",
       "      <th>YR</th>\n",
       "      <th>POS</th>\n",
       "      <th>W</th>\n",
       "      <th>H</th>\n",
       "      <th>NAME</th>\n",
       "    </tr>\n",
       "  </thead>\n",
       "  <tbody>\n",
       "    <tr>\n",
       "      <th>405</th>\n",
       "      <td>Sr</td>\n",
       "      <td>-</td>\n",
       "      <td>-</td>\n",
       "      <td>-</td>\n",
       "      <td>-</td>\n",
       "      <td>-</td>\n",
       "      <td>-</td>\n",
       "      <td>-</td>\n",
       "      <td>-</td>\n",
       "      <td>-</td>\n",
       "      <td>...</td>\n",
       "      <td>-</td>\n",
       "      <td>-</td>\n",
       "      <td>-</td>\n",
       "      <td>-</td>\n",
       "      <td>-</td>\n",
       "      <td>1</td>\n",
       "      <td>5</td>\n",
       "      <td>113</td>\n",
       "      <td>213</td>\n",
       "      <td>Jason Jennings</td>\n",
       "    </tr>\n",
       "  </tbody>\n",
       "</table>\n",
       "<p>1 rows × 26 columns</p>\n",
       "</div>"
      ],
      "text/plain": [
       "     GP GS MIN FGM FGA FG% 3PM 3PA 3P% FTM       ...       STL BLK PF TOV PTS  \\\n",
       "405  Sr  -   -   -   -   -   -   -   -   -       ...         -   -  -   -   -   \n",
       "\n",
       "    YR POS    W    H            NAME  \n",
       "405  1   5  113  213  Jason Jennings  \n",
       "\n",
       "[1 rows x 26 columns]"
      ]
     },
     "execution_count": 66,
     "metadata": {},
     "output_type": "execute_result"
    }
   ],
   "source": [
    "df.loc[df['NAME'] == 'Jason Jennings']"
   ]
  },
  {
   "cell_type": "code",
   "execution_count": 67,
   "metadata": {
    "collapsed": false
   },
   "outputs": [
    {
     "data": {
      "text/html": [
       "<div>\n",
       "<table border=\"1\" class=\"dataframe\">\n",
       "  <thead>\n",
       "    <tr style=\"text-align: right;\">\n",
       "      <th></th>\n",
       "      <th>GP</th>\n",
       "      <th>GS</th>\n",
       "      <th>MIN</th>\n",
       "      <th>FGM</th>\n",
       "      <th>FGA</th>\n",
       "      <th>FG%</th>\n",
       "      <th>3PM</th>\n",
       "      <th>3PA</th>\n",
       "      <th>3P%</th>\n",
       "      <th>FTM</th>\n",
       "      <th>...</th>\n",
       "      <th>STL</th>\n",
       "      <th>BLK</th>\n",
       "      <th>PF</th>\n",
       "      <th>TOV</th>\n",
       "      <th>PTS</th>\n",
       "      <th>YR</th>\n",
       "      <th>POS</th>\n",
       "      <th>W</th>\n",
       "      <th>H</th>\n",
       "      <th>NAME</th>\n",
       "    </tr>\n",
       "  </thead>\n",
       "  <tbody>\n",
       "    <tr>\n",
       "      <th>405</th>\n",
       "      <td>Sr</td>\n",
       "      <td>-</td>\n",
       "      <td>-</td>\n",
       "      <td>-</td>\n",
       "      <td>-</td>\n",
       "      <td>-</td>\n",
       "      <td>-</td>\n",
       "      <td>-</td>\n",
       "      <td>-</td>\n",
       "      <td>-</td>\n",
       "      <td>...</td>\n",
       "      <td>-</td>\n",
       "      <td>-</td>\n",
       "      <td>-</td>\n",
       "      <td>-</td>\n",
       "      <td>-</td>\n",
       "      <td>1</td>\n",
       "      <td>5</td>\n",
       "      <td>113</td>\n",
       "      <td>213</td>\n",
       "      <td>Jason Jennings</td>\n",
       "    </tr>\n",
       "  </tbody>\n",
       "</table>\n",
       "<p>1 rows × 26 columns</p>\n",
       "</div>"
      ],
      "text/plain": [
       "     GP GS MIN FGM FGA FG% 3PM 3PA 3P% FTM       ...       STL BLK PF TOV PTS  \\\n",
       "405  Sr  -   -   -   -   -   -   -   -   -       ...         -   -  -   -   -   \n",
       "\n",
       "    YR POS    W    H            NAME  \n",
       "405  1   5  113  213  Jason Jennings  \n",
       "\n",
       "[1 rows x 26 columns]"
      ]
     },
     "execution_count": 67,
     "metadata": {},
     "output_type": "execute_result"
    }
   ],
   "source": [
    "hm = df.iloc[[405]]\n",
    "hm"
   ]
  },
  {
   "cell_type": "code",
   "execution_count": 68,
   "metadata": {
    "collapsed": false
   },
   "outputs": [
    {
     "data": {
      "text/plain": [
       "'-'"
      ]
     },
     "execution_count": 68,
     "metadata": {},
     "output_type": "execute_result"
    }
   ],
   "source": [
    "value = hm.iloc[0][\"GS\"]\n",
    "value"
   ]
  },
  {
   "cell_type": "code",
   "execution_count": 69,
   "metadata": {
    "collapsed": false
   },
   "outputs": [
    {
     "data": {
      "text/plain": [
       "(1514, 26)"
      ]
     },
     "execution_count": 69,
     "metadata": {},
     "output_type": "execute_result"
    }
   ],
   "source": [
    "df.shape"
   ]
  },
  {
   "cell_type": "code",
   "execution_count": 70,
   "metadata": {
    "collapsed": false
   },
   "outputs": [
    {
     "name": "stdout",
     "output_type": "stream",
     "text": [
      "GP\n",
      "GS\n",
      "MIN\n",
      "FGM\n",
      "FGA\n",
      "FG%\n",
      "3PM\n",
      "3PA\n",
      "3P%\n",
      "FTM\n",
      "FTA\n",
      "FT%\n",
      "OFF\n",
      "DEF\n",
      "TRB\n",
      "AST\n",
      "STL\n",
      "BLK\n",
      "PF\n",
      "TOV\n",
      "PTS\n",
      "YR\n",
      "POS\n",
      "W\n",
      "H\n",
      "NAME\n"
     ]
    }
   ],
   "source": [
    "for i in columns_list:\n",
    "    print i"
   ]
  },
  {
   "cell_type": "code",
   "execution_count": 77,
   "metadata": {
    "collapsed": false
   },
   "outputs": [],
   "source": [
    "\n",
    "remove = df[df[\"DEF\"] == \"-\"]\n",
    "remove_index_list = list(remove.index.values)\n",
    "#df = df.drop(df.index[remove_index_list])\n"
   ]
  },
  {
   "cell_type": "code",
   "execution_count": 78,
   "metadata": {
    "collapsed": false
   },
   "outputs": [],
   "source": [
    "df = df.drop(df.index[remove_index_list])"
   ]
  },
  {
   "cell_type": "code",
   "execution_count": 79,
   "metadata": {
    "collapsed": false
   },
   "outputs": [
    {
     "data": {
      "text/plain": [
       "GP               162\n",
       "GS                 5\n",
       "MIN             11.6\n",
       "FGM             1.52\n",
       "FGA             3.27\n",
       "FG%            0.466\n",
       "3PM             0.01\n",
       "3PA             0.03\n",
       "3P%            0.200\n",
       "FTM             0.88\n",
       "FTA             1.33\n",
       "FT%            0.657\n",
       "OFF             1.10\n",
       "DEF             1.85\n",
       "TRB             2.94\n",
       "AST             0.25\n",
       "STL             0.23\n",
       "BLK             0.36\n",
       "PF              2.00\n",
       "TOV             0.67\n",
       "PTS             3.93\n",
       "YR                 4\n",
       "POS                4\n",
       "W                118\n",
       "H                203\n",
       "NAME    Lonny Baxter\n",
       "Name: 406, dtype: object"
      ]
     },
     "execution_count": 79,
     "metadata": {},
     "output_type": "execute_result"
    }
   ],
   "source": [
    "df.iloc[405]"
   ]
  },
  {
   "cell_type": "code",
   "execution_count": 80,
   "metadata": {
    "collapsed": false
   },
   "outputs": [],
   "source": [
    "df.to_csv(\"cleaned.txt\",sep=\"\\t\")"
   ]
  },
  {
   "cell_type": "code",
   "execution_count": 81,
   "metadata": {
    "collapsed": false
   },
   "outputs": [
    {
     "data": {
      "text/plain": [
       "False"
      ]
     },
     "execution_count": 81,
     "metadata": {},
     "output_type": "execute_result"
    }
   ],
   "source": [
    "df.isnull().any().any()"
   ]
  }
 ],
 "metadata": {
  "kernelspec": {
   "display_name": "Python 2",
   "language": "python",
   "name": "python2"
  },
  "language_info": {
   "codemirror_mode": {
    "name": "ipython",
    "version": 2
   },
   "file_extension": ".py",
   "mimetype": "text/x-python",
   "name": "python",
   "nbconvert_exporter": "python",
   "pygments_lexer": "ipython2",
   "version": "2.7.11"
  }
 },
 "nbformat": 4,
 "nbformat_minor": 0
}
