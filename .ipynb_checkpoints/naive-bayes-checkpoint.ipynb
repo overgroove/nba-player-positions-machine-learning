{
 "cells": [
  {
   "cell_type": "code",
   "execution_count": 1,
   "metadata": {
    "collapsed": true
   },
   "outputs": [],
   "source": [
    "import numpy as np\n",
    "from pandas import DataFrame\n",
    "import pandas as pd\n",
    "import scipy as sp\n",
    "from sklearn.naive_bayes import GaussianNB"
   ]
  },
  {
   "cell_type": "markdown",
   "metadata": {},
   "source": [
    "Učitavanje fajlova: "
   ]
  },
  {
   "cell_type": "code",
   "execution_count": 2,
   "metadata": {
    "collapsed": false
   },
   "outputs": [],
   "source": [
    "train_data = sp.genfromtxt(\"train_data.txt\", delimiter=\"\\t\")\n",
    "\n",
    "test_data = sp.genfromtxt(\"test_data.txt\", delimiter=\"\\t\")\n",
    "\n",
    "val_data =  sp.genfromtxt(\"val_data.txt\", delimiter=\"\\t\")"
   ]
  },
  {
   "cell_type": "markdown",
   "metadata": {},
   "source": [
    "Dimenzije:"
   ]
  },
  {
   "cell_type": "code",
   "execution_count": 3,
   "metadata": {
    "collapsed": false
   },
   "outputs": [
    {
     "name": "stdout",
     "output_type": "stream",
     "text": [
      "(699L, 23L)\n",
      "(233L, 23L)\n",
      "(233L, 23L)\n"
     ]
    }
   ],
   "source": [
    "print(train_data.shape)\n",
    "print(test_data.shape)\n",
    "print(val_data.shape)"
   ]
  },
  {
   "cell_type": "code",
   "execution_count": 5,
   "metadata": {
    "collapsed": false
   },
   "outputs": [
    {
     "name": "stdout",
     "output_type": "stream",
     "text": [
      "(699L, 23L)\n",
      "(232L, 23L)\n",
      "(232L, 23L)\n"
     ]
    }
   ],
   "source": [
    "train_data = train_data[~np.isnan(train_data).any(axis=1)]\n",
    "test_data = test_data[~np.isnan(test_data).any(axis=1)]\n",
    "val_data = val_data[~np.isnan(val_data).any(axis=1)]\n",
    "print(train_data.shape)\n",
    "print(test_data.shape)\n",
    "print(val_data.shape)"
   ]
  },
  {
   "cell_type": "markdown",
   "metadata": {},
   "source": [
    "Brisanje proba: "
   ]
  },
  {
   "cell_type": "code",
   "execution_count": 6,
   "metadata": {
    "collapsed": false
   },
   "outputs": [
    {
     "data": {
      "text/plain": [
       "array([[  9.10000000e+01,   7.00000000e+00,   9.50000000e+00,\n",
       "          1.13000000e+00,   2.56000000e+00,   4.42000000e-01,\n",
       "          2.10000000e-01,   6.80000000e-01,   3.06000000e-01,\n",
       "          6.90000000e-01,   1.01000000e+00,   6.85000000e-01,\n",
       "          5.60000000e-01,   1.08000000e+00,   1.64000000e+00,\n",
       "          4.80000000e-01,   2.90000000e-01,   4.00000000e-02,\n",
       "          1.58000000e+00,   5.10000000e-01,   3.16000000e+00,\n",
       "          2.00000000e+00,   3.40000000e+01]])"
      ]
     },
     "execution_count": 6,
     "metadata": {},
     "output_type": "execute_result"
    }
   ],
   "source": [
    "train_data[:1]"
   ]
  },
  {
   "cell_type": "code",
   "execution_count": 7,
   "metadata": {
    "collapsed": false
   },
   "outputs": [
    {
     "data": {
      "text/plain": [
       "array([  9.10000000e+01,   9.50000000e+00,   1.13000000e+00,\n",
       "         2.56000000e+00,   4.42000000e-01,   2.10000000e-01,\n",
       "         6.80000000e-01,   3.06000000e-01,   6.90000000e-01,\n",
       "         1.01000000e+00,   6.85000000e-01,   5.60000000e-01,\n",
       "         1.08000000e+00,   1.64000000e+00,   4.80000000e-01,\n",
       "         2.90000000e-01,   4.00000000e-02,   1.58000000e+00,\n",
       "         5.10000000e-01,   3.16000000e+00,   2.00000000e+00,\n",
       "         3.40000000e+01])"
      ]
     },
     "execution_count": 7,
     "metadata": {},
     "output_type": "execute_result"
    }
   ],
   "source": [
    "np.delete(train_data[:1], 1)"
   ]
  },
  {
   "cell_type": "markdown",
   "metadata": {},
   "source": [
    "# Features"
   ]
  },
  {
   "cell_type": "code",
   "execution_count": 24,
   "metadata": {
    "collapsed": false
   },
   "outputs": [],
   "source": [
    "#train_features = np.delete(train_data, 22, 1)\n",
    "#test_features = np.delete(test_data, 22, 1)\n",
    "#val_features = np.delete(val_data,22,1)\n",
    "                          \n",
    "#train_features = np.delete(train_features, 21, 1)\n",
    "#test_features = np.delete(test_features, 21, 1)\n",
    "#val_features = np.delete(val_features,21,1)\n",
    "                          \n",
    "#print(train_features.shape)\n",
    "#print(test_features.shape)\n",
    "#print(val_features.shape)\n",
    "\n",
    "columns = {\"GP\":0, \"GS\":1, \"MIN\":2, \"FGM\":3,\"FGA\":4,\"FG%\":5,\"3PM\":6,\"3PA\":7,\"3P%\":8,\"FTM\":9,\"FTA\":10,\"FT%\":11,\"OFF\":12,\"DEF\":13,\n",
    "              \"TRB\":14,\"AST\":15,\"STL\":16,\"BLK\":17,\"PF\":18,\"TOV\":19,\"PTS\":20,\"YR\":21,\"POS\":22} \n"
   ]
  },
  {
   "cell_type": "code",
   "execution_count": 30,
   "metadata": {
    "collapsed": true
   },
   "outputs": [],
   "source": [
    "def remove_multiple_features(feature_list):\n",
    "    \n",
    "    fl = sorted(feature_list,reverse=True)\n",
    "    #print fl\n",
    "    train_features = train_data\n",
    "    test_features = test_data\n",
    "    val_features = val_data\n",
    "    \n",
    "    for i in fl:\n",
    "        #print i\n",
    "        train_features = np.delete(train_features, i, 1)\n",
    "        #print i\n",
    "        test_features = np.delete(test_features, i, 1)\n",
    "        #print i\n",
    "        val_features = np.delete(val_features,i,1)\n",
    "        \n",
    "    print(train_features.shape)\n",
    "    print(test_features.shape)\n",
    "    print(val_features.shape)\n",
    "    return [train_features, test_features, val_features]"
   ]
  },
  {
   "cell_type": "code",
   "execution_count": 20,
   "metadata": {
    "collapsed": false
   },
   "outputs": [
    {
     "name": "stdout",
     "output_type": "stream",
     "text": [
      "(699L, 23L)\n",
      "(232L, 23L)\n",
      "(232L, 23L)\n"
     ]
    }
   ],
   "source": [
    "print(train_data.shape)\n",
    "print(test_data.shape)\n",
    "print(val_data.shape)"
   ]
  },
  {
   "cell_type": "code",
   "execution_count": 27,
   "metadata": {
    "collapsed": false
   },
   "outputs": [],
   "source": [
    "fl = [columns[\"GP\"],columns[\"GS\"],columns[\"MIN\"],columns[\"FG%\"],\n",
    "      columns[\"3P%\"],columns[\"FT%\"],columns[\"PTS\"],columns[\"YR\"],columns[\"POS\"]]"
   ]
  },
  {
   "cell_type": "code",
   "execution_count": 28,
   "metadata": {
    "collapsed": false
   },
   "outputs": [
    {
     "name": "stdout",
     "output_type": "stream",
     "text": [
      "[22, 21, 20, 11, 8, 5, 2, 1, 0]\n",
      "22\n",
      "22\n",
      "22\n",
      "21\n",
      "21\n",
      "21\n",
      "20\n",
      "20\n",
      "20\n",
      "11\n",
      "11\n",
      "11\n",
      "8\n",
      "8\n",
      "8\n",
      "5\n",
      "5\n",
      "5\n",
      "2\n",
      "2\n",
      "2\n",
      "1\n",
      "1\n",
      "1\n",
      "0\n",
      "0\n",
      "0\n",
      "(699L, 14L)\n",
      "(232L, 14L)\n",
      "(232L, 14L)\n"
     ]
    }
   ],
   "source": [
    "features = remove_multiple_features(fl)\n",
    "train_features = features[0]\n",
    "test_features = features[1]\n",
    "val_features = features[2]"
   ]
  },
  {
   "cell_type": "code",
   "execution_count": 29,
   "metadata": {
    "collapsed": false
   },
   "outputs": [
    {
     "name": "stdout",
     "output_type": "stream",
     "text": [
      "(699L, 14L)\n"
     ]
    }
   ],
   "source": [
    "print(train_features.shape)\n"
   ]
  },
  {
   "cell_type": "markdown",
   "metadata": {},
   "source": [
    "# Labels"
   ]
  },
  {
   "cell_type": "code",
   "execution_count": 22,
   "metadata": {
    "collapsed": false
   },
   "outputs": [
    {
     "name": "stdout",
     "output_type": "stream",
     "text": [
      "(699L,)\n",
      "(232L,)\n",
      "(232L,)\n"
     ]
    }
   ],
   "source": [
    "train_labels = train_data[:,22]\n",
    "test_labels = test_data[:,22]\n",
    "val_labels = val_data[:,22]\n",
    "print(train_labels.shape)\n",
    "print(test_labels.shape)\n",
    "print(val_labels.shape)"
   ]
  },
  {
   "cell_type": "markdown",
   "metadata": {},
   "source": [
    "# Naive Bayes"
   ]
  },
  {
   "cell_type": "code",
   "execution_count": 23,
   "metadata": {
    "collapsed": true
   },
   "outputs": [],
   "source": [
    "clf = GaussianNB()"
   ]
  },
  {
   "cell_type": "code",
   "execution_count": 24,
   "metadata": {
    "collapsed": false
   },
   "outputs": [
    {
     "data": {
      "text/plain": [
       "GaussianNB()"
      ]
     },
     "execution_count": 24,
     "metadata": {},
     "output_type": "execute_result"
    }
   ],
   "source": [
    "clf.fit(train_features, train_labels)"
   ]
  },
  {
   "cell_type": "code",
   "execution_count": 25,
   "metadata": {
    "collapsed": false
   },
   "outputs": [
    {
     "data": {
      "text/plain": [
       "array([ 23.,  23.,   5.,   5.,   1.,   4.,   5.,   5.,  34.,   5.,   4.,\n",
       "         4.,  12.,   5.,  12.,   1.,   3.,   5.,  12.,   4.,   5.,   3.,\n",
       "         4.,   5.,   2.,  34.,   5.,   5.,   5.,   5.,   5.,  12.,   1.,\n",
       "         5.,  12.,   2.,   5.,   1.,   1.,  34.,   5.,  34.,   5.,   5.,\n",
       "        34.,  12.,   5.,  34.,  34.,   5.,   5.,  34.,   5.,   5.,  12.,\n",
       "         5.,   5.,   2.,  12.,   5.,  12.,  12.,   5.,   4.,   3.,   3.,\n",
       "         4.,   5.,   5.,  23.,  12.,   5.,   4.,  34.,  12.,  12.,  12.,\n",
       "        34.,  12.,   5.,   5.,   3.,   5.,  34.,  34.,  34.,  23.,  12.,\n",
       "         5.,   1.,   4.,  34.,  12.,   5.,  12.,   1.,   5.,   5.,   5.,\n",
       "         5.,   5.,   5.,  34.,   4.,   2.,   5.,  12.,   5.,   5.,   2.,\n",
       "         5.,   4.,   5.,   5.,   5.,   5.,   5.,  12.,   5.,  12.,   5.,\n",
       "         5.,   5.,   5.,   5.,   5.,   5.,  34.,   5.,   5.,   4.,   2.,\n",
       "         5.,   5.,  12.,  12.,  45.,   5.,  34.,  23.,  12.,   2.,  23.,\n",
       "         5.,   5.,   5.,   1.,   1.,   3.,   5.,  34.,   2.,  12.,   5.,\n",
       "         5.,   1.,  23.,  45.,   2.,   3.,   5.,   5.,   5.,   5.,   5.,\n",
       "         5.,   5.,   5.,  12.,   1.,   5.,   5.,   5.,   3.,   5.,  12.,\n",
       "         5.,   5.,   3.,   3.,   4.,   4.,   5.,   1.,   5.,  12.,   5.,\n",
       "         5.,   1.,  45.,   5.,   1.,   4.,   2.,   4.,   4.,   2.,   5.,\n",
       "         5.,   4.,   1.,  12.,   2.,  34.,   5.,   4.,   2.,   1.,   5.,\n",
       "         4.,   5.,   4.,  34.,   5.,   5.,  34.,   5.,   4.,  12.,  12.,\n",
       "        12.,  12.,   5.,  12.,   3.,  12.,   5.,   5.,   5.,  34.,   1.,\n",
       "         5.])"
      ]
     },
     "execution_count": 25,
     "metadata": {},
     "output_type": "execute_result"
    }
   ],
   "source": [
    "pred = clf.predict(test_features)\n",
    "pred"
   ]
  },
  {
   "cell_type": "code",
   "execution_count": 26,
   "metadata": {
    "collapsed": false
   },
   "outputs": [
    {
     "data": {
      "text/plain": [
       "array([  3.,  23.,   5.,   5.,  12.,   3.,   5.,  34.,  12.,   5.,   4.,\n",
       "         4.,  12.,   5.,   2.,   1.,   2.,   5.,  12.,   4.,   5.,   3.,\n",
       "         4.,  12.,   2.,  23.,  34.,  34.,   5.,   5.,  34.,   2.,  12.,\n",
       "         5.,   3.,   3.,   5.,  12.,   1.,   2.,  12.,   1.,   5.,   3.,\n",
       "        34.,  12.,   4.,   4.,  34.,  12.,  12.,   1.,   3.,  34.,  12.,\n",
       "        34.,   5.,   1.,   3.,  34.,   2.,   1.,   5.,   5.,   2.,   3.,\n",
       "         4.,  45.,  12.,   4.,  12.,  34.,   4.,  45.,  12.,   2.,  12.,\n",
       "        45.,   2.,  45.,  34.,   3.,   5.,  34.,   3.,   2.,  34.,   1.,\n",
       "        12.,   1.,   5.,  34.,  12.,   4.,  12.,   2.,   4.,  34.,   2.,\n",
       "        12.,   4.,  34.,  34.,   3.,   3.,   4.,  12.,  12.,   4.,   2.,\n",
       "         5.,  45.,  34.,  12.,   4.,   5.,  34.,  12.,  45.,  12.,   5.,\n",
       "         5.,   5.,  12.,  34.,  34.,  34.,  12.,   4.,   2.,   4.,   2.,\n",
       "         5.,  12.,   2.,   2.,   5.,   5.,  12.,   2.,   2.,   2.,  34.,\n",
       "         5.,  34.,  12.,   2.,   2.,   2.,  34.,  34.,   3.,  34.,   4.,\n",
       "         4.,  12.,  34.,  45.,   2.,  23.,   4.,  34.,   4.,  34.,  34.,\n",
       "        34.,   4.,  12.,  12.,   1.,  12.,   5.,  34.,   3.,   5.,   3.,\n",
       "        45.,  34.,   3.,   2.,   4.,   4.,  34.,   1.,   5.,   4.,   5.,\n",
       "         4.,   1.,   5.,   5.,   1.,   4.,   2.,   4.,   4.,   2.,  34.,\n",
       "         3.,   4.,  12.,  12.,   2.,   3.,   5.,  34.,   2.,   1.,   5.,\n",
       "         4.,  45.,   4.,   4.,  12.,   5.,  23.,   5.,   4.,  12.,  12.,\n",
       "         2.,   2.,   5.,   2.,   3.,  12.,   5.,   5.,   5.,   2.,   1.,\n",
       "         5.])"
      ]
     },
     "execution_count": 26,
     "metadata": {},
     "output_type": "execute_result"
    }
   ],
   "source": [
    "test_labels"
   ]
  },
  {
   "cell_type": "markdown",
   "metadata": {
    "collapsed": false
   },
   "source": [
    "# Preciznost"
   ]
  },
  {
   "cell_type": "code",
   "execution_count": 27,
   "metadata": {
    "collapsed": false
   },
   "outputs": [
    {
     "data": {
      "text/plain": [
       "0.43965517241379309"
      ]
     },
     "execution_count": 27,
     "metadata": {},
     "output_type": "execute_result"
    }
   ],
   "source": [
    "from sklearn.metrics import accuracy_score\n",
    "accuracy = accuracy_score(pred, test_labels)\n",
    "accuracy"
   ]
  },
  {
   "cell_type": "markdown",
   "metadata": {},
   "source": [
    "# Custom preciznost"
   ]
  },
  {
   "cell_type": "code",
   "execution_count": 54,
   "metadata": {
    "collapsed": false
   },
   "outputs": [],
   "source": [
    "def custom_acc(pred_labels, test_labels):\n",
    "    hit = 0\n",
    "    num = 0\n",
    "    for i in pred_labels:\n",
    "        a = pred_labels[i]\n",
    "        a = str(int(a))\n",
    "        b = test_labels[i]\n",
    "        b = str(int(b))\n",
    "        if a == b:\n",
    "            hit = hit+1\n",
    "        elif len(a) == 1 and len(b) == 2:\n",
    "            if a == b[0] or a == b[1]:\n",
    "                hit = hit+1\n",
    "        elif len(a) == 2 and len(b) == 1:\n",
    "            if a[0] == b or a[1] == b:\n",
    "                hit = hit+1\n",
    "        num = num+1\n",
    "    print num\n",
    "    print hit\n",
    "    return float(hit)/num\n"
   ]
  },
  {
   "cell_type": "code",
   "execution_count": 55,
   "metadata": {
    "collapsed": false
   },
   "outputs": [
    {
     "name": "stdout",
     "output_type": "stream",
     "text": [
      "232\n",
      "101\n"
     ]
    },
    {
     "name": "stderr",
     "output_type": "stream",
     "text": [
      "C:\\Anaconda\\lib\\site-packages\\ipykernel\\__main__.py:5: DeprecationWarning: using a non-integer number instead of an integer will result in an error in the future\n",
      "C:\\Anaconda\\lib\\site-packages\\ipykernel\\__main__.py:7: DeprecationWarning: using a non-integer number instead of an integer will result in an error in the future\n"
     ]
    },
    {
     "data": {
      "text/plain": [
       "0.4353448275862069"
      ]
     },
     "execution_count": 55,
     "metadata": {},
     "output_type": "execute_result"
    }
   ],
   "source": [
    "custom_acc(pred, test_labels)"
   ]
  },
  {
   "cell_type": "code",
   "execution_count": 52,
   "metadata": {
    "collapsed": false
   },
   "outputs": [
    {
     "ename": "SyntaxError",
     "evalue": "invalid syntax (<ipython-input-52-91f56afae956>, line 3)",
     "output_type": "error",
     "traceback": [
      "\u001b[1;36m  File \u001b[1;32m\"<ipython-input-52-91f56afae956>\"\u001b[1;36m, line \u001b[1;32m3\u001b[0m\n\u001b[1;33m    elif len(str(pred[0]) == 2) len(str(test_labels[0]) == 1):\u001b[0m\n\u001b[1;37m                                  ^\u001b[0m\n\u001b[1;31mSyntaxError\u001b[0m\u001b[1;31m:\u001b[0m invalid syntax\n"
     ]
    }
   ],
   "source": [
    "if pred[0] == test_labels[0]:\n",
    "    print \"1\"\n",
    "elif len(str(pred[0]) == 2) len(str(test_labels[0]) == 1):\n",
    "    if str(pred[0])[0] \n",
    "    "
   ]
  },
  {
   "cell_type": "markdown",
   "metadata": {
    "collapsed": true
   },
   "source": [
    "# SVM"
   ]
  },
  {
   "cell_type": "code",
   "execution_count": 71,
   "metadata": {
    "collapsed": true
   },
   "outputs": [],
   "source": [
    "from sklearn.svm import SVC"
   ]
  },
  {
   "cell_type": "code",
   "execution_count": 73,
   "metadata": {
    "collapsed": true
   },
   "outputs": [],
   "source": [
    "clf2 = SVC()"
   ]
  },
  {
   "cell_type": "code",
   "execution_count": 75,
   "metadata": {
    "collapsed": false
   },
   "outputs": [
    {
     "data": {
      "text/plain": [
       "SVC(C=1.0, cache_size=200, class_weight=None, coef0=0.0, degree=3, gamma=0.0,\n",
       "  kernel='rbf', max_iter=-1, probability=False, random_state=None,\n",
       "  shrinking=True, tol=0.001, verbose=False)"
      ]
     },
     "execution_count": 75,
     "metadata": {},
     "output_type": "execute_result"
    }
   ],
   "source": [
    "clf2.fit(train_features, train_labels)"
   ]
  },
  {
   "cell_type": "code",
   "execution_count": 79,
   "metadata": {
    "collapsed": false
   },
   "outputs": [],
   "source": [
    "pred2 = clf2.predict(test_features)"
   ]
  },
  {
   "cell_type": "code",
   "execution_count": 80,
   "metadata": {
    "collapsed": false
   },
   "outputs": [
    {
     "data": {
      "text/plain": [
       "0.20820189274447951"
      ]
     },
     "execution_count": 80,
     "metadata": {},
     "output_type": "execute_result"
    }
   ],
   "source": [
    "accuracy2 = accuracy_score(pred2, test_labels)\n",
    "accuracy2"
   ]
  },
  {
   "cell_type": "code",
   "execution_count": null,
   "metadata": {
    "collapsed": true
   },
   "outputs": [],
   "source": []
  }
 ],
 "metadata": {
  "kernelspec": {
   "display_name": "Python 2",
   "language": "python",
   "name": "python2"
  },
  "language_info": {
   "codemirror_mode": {
    "name": "ipython",
    "version": 2
   },
   "file_extension": ".py",
   "mimetype": "text/x-python",
   "name": "python",
   "nbconvert_exporter": "python",
   "pygments_lexer": "ipython2",
   "version": "2.7.11"
  }
 },
 "nbformat": 4,
 "nbformat_minor": 0
}
