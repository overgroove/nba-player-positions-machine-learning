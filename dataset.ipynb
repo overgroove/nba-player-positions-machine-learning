{
 "cells": [
  {
   "cell_type": "code",
   "execution_count": 1,
   "metadata": {
    "collapsed": true
   },
   "outputs": [],
   "source": [
    "import numpy as np\n",
    "from pandas import DataFrame\n",
    "import pandas as pd"
   ]
  },
  {
   "cell_type": "markdown",
   "metadata": {},
   "source": [
    "# How does the dataset look?"
   ]
  },
  {
   "cell_type": "code",
   "execution_count": 2,
   "metadata": {
    "collapsed": false
   },
   "outputs": [
    {
     "data": {
      "text/plain": [
       "(1514, 26)"
      ]
     },
     "execution_count": 2,
     "metadata": {},
     "output_type": "execute_result"
    }
   ],
   "source": [
    "df = pd.read_csv('data/NBA_Stats.txt', sep='\\t')\n",
    "df.shape"
   ]
  },
  {
   "cell_type": "code",
   "execution_count": 3,
   "metadata": {
    "collapsed": false
   },
   "outputs": [],
   "source": [
    "df.columns = [\"GP\", \"GS\", \"MIN\", \"FGM\",\"FGA\",\"FG%\",\"3PM\",\"3PA\",\"3P%\",\"FTM\",\"FTA\",\"FT%\",\"OFF\",\"DEF\",\n",
    "              \"TRB\",\"AST\",\"STL\",\"BLK\",\"PF\",\"TOV\",\"PTS\",\"YR\",\"POS\",\"W\",\"H\",\"NAME\"]"
   ]
  },
  {
   "cell_type": "markdown",
   "metadata": {},
   "source": [
    "# Feature names"
   ]
  },
  {
   "cell_type": "markdown",
   "metadata": {},
   "source": [
    "GP, GS - Games played, games started \n",
    "\n",
    "MIN - Minutes played\n",
    "\n",
    "FGM, FGA, FG% - Field goals MADE, ATEMPTED, PERCENTAGE\n",
    "\n",
    "3PM, 3PA, 3P% - Three point field goals MADE, ATEMPTED, PERCENTAGE\n",
    "\n",
    "FTM, FTA, FT% - Free throws MADE, ATEMPTED, PERCENTAGE\n",
    "\n",
    "OFF, DEF, TRB - Offensive Rebounds, Defensive Rebounds, TOTAL Rebounds\n",
    "\n",
    "AST - Assists\n",
    "\n",
    "STL - Steals\n",
    "\n",
    "BLK - Blocks\n",
    "\n",
    "PF - Personal Fouls\n",
    "\n",
    "TOV - Turnovers\n",
    "\n",
    "PTS - Points scorred\n",
    "\n",
    "YR - Years playing\n",
    "\n",
    "W - Weight\n",
    "\n",
    "H - Height \n",
    "\n",
    "POS - Position"
   ]
  },
  {
   "cell_type": "code",
   "execution_count": 4,
   "metadata": {
    "collapsed": false
   },
   "outputs": [],
   "source": [
    "columns = {\"GP\":0, \"GS\":1, \"MIN\":2, \"FGM\":3,\"FGA\":4,\"FG%\":5,\"3PM\":6,\"3PA\":7,\"3P%\":8,\"FTM\":9,\"FTA\":10,\"FT%\":11,\"OFF\":12,\"DEF\":13,\n",
    "              \"TRB\":14,\"AST\":15,\"STL\":16,\"BLK\":17,\"PF\":18,\"TOV\":19,\"PTS\":20,\"YR\":21,\"POS\":22,\"W\":23,\"H\":24, \"NAME\":25} \n",
    "\n",
    "columns_list = [\"GP\",\"GS\",\"MIN\",\"FGM\",\"FGA\",\"FG%\",\"3PM\",\"3PA\",\"3P%\",\"FTM\",\"FTA\",\"FT%\",\"OFF\",\"DEF\",\n",
    "              \"TRB\",\"AST\",\"STL\",\"BLK\",\"PF\",\"TOV\",\"PTS\",\"YR\",\"POS\",\"W\",\"H\", \"NAME\"]"
   ]
  },
  {
   "cell_type": "markdown",
   "metadata": {},
   "source": [
    "# How does the DataFrame look? "
   ]
  },
  {
   "cell_type": "code",
   "execution_count": 5,
   "metadata": {
    "collapsed": false
   },
   "outputs": [
    {
     "data": {
      "text/html": [
       "<div>\n",
       "<table border=\"1\" class=\"dataframe\">\n",
       "  <thead>\n",
       "    <tr style=\"text-align: right;\">\n",
       "      <th></th>\n",
       "      <th>GP</th>\n",
       "      <th>GS</th>\n",
       "      <th>MIN</th>\n",
       "      <th>FGM</th>\n",
       "      <th>FGA</th>\n",
       "      <th>FG%</th>\n",
       "      <th>3PM</th>\n",
       "      <th>3PA</th>\n",
       "      <th>3P%</th>\n",
       "      <th>FTM</th>\n",
       "      <th>FTA</th>\n",
       "      <th>FT%</th>\n",
       "      <th>OFF</th>\n",
       "    </tr>\n",
       "  </thead>\n",
       "  <tbody>\n",
       "    <tr>\n",
       "      <th>0</th>\n",
       "      <td>479</td>\n",
       "      <td>81</td>\n",
       "      <td>22.9</td>\n",
       "      <td>4.08</td>\n",
       "      <td>7.65</td>\n",
       "      <td>0.534</td>\n",
       "      <td>0.01</td>\n",
       "      <td>0.04</td>\n",
       "      <td>0.176</td>\n",
       "      <td>2.72</td>\n",
       "      <td>3.45</td>\n",
       "      <td>0.788</td>\n",
       "      <td>1.98</td>\n",
       "    </tr>\n",
       "    <tr>\n",
       "      <th>1</th>\n",
       "      <td>62</td>\n",
       "      <td>0</td>\n",
       "      <td>7.4</td>\n",
       "      <td>0.73</td>\n",
       "      <td>2.26</td>\n",
       "      <td>0.321</td>\n",
       "      <td>0.27</td>\n",
       "      <td>0.97</td>\n",
       "      <td>0.283</td>\n",
       "      <td>0.29</td>\n",
       "      <td>0.37</td>\n",
       "      <td>0.783</td>\n",
       "      <td>0.16</td>\n",
       "    </tr>\n",
       "    <tr>\n",
       "      <th>2</th>\n",
       "      <td>514</td>\n",
       "      <td>120</td>\n",
       "      <td>21.1</td>\n",
       "      <td>3.14</td>\n",
       "      <td>7.03</td>\n",
       "      <td>0.447</td>\n",
       "      <td>0.02</td>\n",
       "      <td>0.11</td>\n",
       "      <td>0.182</td>\n",
       "      <td>1.70</td>\n",
       "      <td>2.43</td>\n",
       "      <td>0.700</td>\n",
       "      <td>1.42</td>\n",
       "    </tr>\n",
       "  </tbody>\n",
       "</table>\n",
       "</div>"
      ],
      "text/plain": [
       "    GP   GS   MIN   FGM   FGA    FG%   3PM   3PA    3P%   FTM   FTA    FT%  \\\n",
       "0  479   81  22.9  4.08  7.65  0.534  0.01  0.04  0.176  2.72  3.45  0.788   \n",
       "1   62    0   7.4  0.73  2.26  0.321  0.27  0.97  0.283  0.29  0.37  0.783   \n",
       "2  514  120  21.1  3.14  7.03  0.447  0.02  0.11  0.182  1.70  2.43  0.700   \n",
       "\n",
       "    OFF  \n",
       "0  1.98  \n",
       "1  0.16  \n",
       "2  1.42  "
      ]
     },
     "execution_count": 5,
     "metadata": {},
     "output_type": "execute_result"
    }
   ],
   "source": [
    "df.ix[:2,:13]"
   ]
  },
  {
   "cell_type": "code",
   "execution_count": 6,
   "metadata": {
    "collapsed": false
   },
   "outputs": [
    {
     "data": {
      "text/html": [
       "<div>\n",
       "<table border=\"1\" class=\"dataframe\">\n",
       "  <thead>\n",
       "    <tr style=\"text-align: right;\">\n",
       "      <th></th>\n",
       "      <th>DEF</th>\n",
       "      <th>TRB</th>\n",
       "      <th>AST</th>\n",
       "      <th>STL</th>\n",
       "      <th>BLK</th>\n",
       "      <th>PF</th>\n",
       "      <th>TOV</th>\n",
       "      <th>PTS</th>\n",
       "      <th>YR</th>\n",
       "      <th>POS</th>\n",
       "      <th>W</th>\n",
       "      <th>H</th>\n",
       "      <th>NAME</th>\n",
       "    </tr>\n",
       "  </thead>\n",
       "  <tbody>\n",
       "    <tr>\n",
       "      <th>0</th>\n",
       "      <td>3.03</td>\n",
       "      <td>5.01</td>\n",
       "      <td>0.68</td>\n",
       "      <td>0.43</td>\n",
       "      <td>0.41</td>\n",
       "      <td>2.39</td>\n",
       "      <td>1.22</td>\n",
       "      <td>10.89</td>\n",
       "      <td>8</td>\n",
       "      <td>34</td>\n",
       "      <td>112</td>\n",
       "      <td>206</td>\n",
       "      <td>Carl Landry</td>\n",
       "    </tr>\n",
       "    <tr>\n",
       "      <th>1</th>\n",
       "      <td>0.66</td>\n",
       "      <td>0.82</td>\n",
       "      <td>0.84</td>\n",
       "      <td>0.32</td>\n",
       "      <td>0.05</td>\n",
       "      <td>0.71</td>\n",
       "      <td>0.39</td>\n",
       "      <td>2.02</td>\n",
       "      <td>2</td>\n",
       "      <td>12</td>\n",
       "      <td>84</td>\n",
       "      <td>193</td>\n",
       "      <td>Gabe Pruitt</td>\n",
       "    </tr>\n",
       "    <tr>\n",
       "      <th>2</th>\n",
       "      <td>2.93</td>\n",
       "      <td>4.35</td>\n",
       "      <td>0.89</td>\n",
       "      <td>0.69</td>\n",
       "      <td>0.34</td>\n",
       "      <td>2.41</td>\n",
       "      <td>1.03</td>\n",
       "      <td>8.00</td>\n",
       "      <td>8</td>\n",
       "      <td>4</td>\n",
       "      <td>131</td>\n",
       "      <td>206</td>\n",
       "      <td>Glen Davis</td>\n",
       "    </tr>\n",
       "  </tbody>\n",
       "</table>\n",
       "</div>"
      ],
      "text/plain": [
       "    DEF   TRB   AST   STL   BLK    PF   TOV    PTS  YR  POS    W    H  \\\n",
       "0  3.03  5.01  0.68  0.43  0.41  2.39  1.22  10.89   8   34  112  206   \n",
       "1  0.66  0.82  0.84  0.32  0.05  0.71  0.39   2.02   2   12   84  193   \n",
       "2  2.93  4.35  0.89  0.69  0.34  2.41  1.03   8.00   8    4  131  206   \n",
       "\n",
       "          NAME  \n",
       "0  Carl Landry  \n",
       "1  Gabe Pruitt  \n",
       "2   Glen Davis  "
      ]
     },
     "execution_count": 6,
     "metadata": {},
     "output_type": "execute_result"
    }
   ],
   "source": [
    "df.ix[:2,13:]"
   ]
  },
  {
   "cell_type": "code",
   "execution_count": 7,
   "metadata": {
    "collapsed": false
   },
   "outputs": [
    {
     "data": {
      "text/html": [
       "<div>\n",
       "<table border=\"1\" class=\"dataframe\">\n",
       "  <thead>\n",
       "    <tr style=\"text-align: right;\">\n",
       "      <th></th>\n",
       "      <th>GP</th>\n",
       "      <th>GS</th>\n",
       "      <th>MIN</th>\n",
       "      <th>FGM</th>\n",
       "      <th>FGA</th>\n",
       "      <th>FG%</th>\n",
       "      <th>3PM</th>\n",
       "      <th>3PA</th>\n",
       "      <th>3P%</th>\n",
       "      <th>FTM</th>\n",
       "      <th>...</th>\n",
       "      <th>DEF</th>\n",
       "      <th>TRB</th>\n",
       "      <th>AST</th>\n",
       "      <th>STL</th>\n",
       "      <th>BLK</th>\n",
       "      <th>PF</th>\n",
       "      <th>TOV</th>\n",
       "      <th>PTS</th>\n",
       "      <th>YR</th>\n",
       "      <th>POS</th>\n",
       "    </tr>\n",
       "  </thead>\n",
       "  <tbody>\n",
       "    <tr>\n",
       "      <th>0</th>\n",
       "      <td>479</td>\n",
       "      <td>81</td>\n",
       "      <td>22.9</td>\n",
       "      <td>4.08</td>\n",
       "      <td>7.65</td>\n",
       "      <td>0.534</td>\n",
       "      <td>0.01</td>\n",
       "      <td>0.04</td>\n",
       "      <td>0.176</td>\n",
       "      <td>2.72</td>\n",
       "      <td>...</td>\n",
       "      <td>3.03</td>\n",
       "      <td>5.01</td>\n",
       "      <td>0.68</td>\n",
       "      <td>0.43</td>\n",
       "      <td>0.41</td>\n",
       "      <td>2.39</td>\n",
       "      <td>1.22</td>\n",
       "      <td>10.89</td>\n",
       "      <td>8</td>\n",
       "      <td>34</td>\n",
       "    </tr>\n",
       "    <tr>\n",
       "      <th>1</th>\n",
       "      <td>62</td>\n",
       "      <td>0</td>\n",
       "      <td>7.4</td>\n",
       "      <td>0.73</td>\n",
       "      <td>2.26</td>\n",
       "      <td>0.321</td>\n",
       "      <td>0.27</td>\n",
       "      <td>0.97</td>\n",
       "      <td>0.283</td>\n",
       "      <td>0.29</td>\n",
       "      <td>...</td>\n",
       "      <td>0.66</td>\n",
       "      <td>0.82</td>\n",
       "      <td>0.84</td>\n",
       "      <td>0.32</td>\n",
       "      <td>0.05</td>\n",
       "      <td>0.71</td>\n",
       "      <td>0.39</td>\n",
       "      <td>2.02</td>\n",
       "      <td>2</td>\n",
       "      <td>12</td>\n",
       "    </tr>\n",
       "    <tr>\n",
       "      <th>2</th>\n",
       "      <td>514</td>\n",
       "      <td>120</td>\n",
       "      <td>21.1</td>\n",
       "      <td>3.14</td>\n",
       "      <td>7.03</td>\n",
       "      <td>0.447</td>\n",
       "      <td>0.02</td>\n",
       "      <td>0.11</td>\n",
       "      <td>0.182</td>\n",
       "      <td>1.70</td>\n",
       "      <td>...</td>\n",
       "      <td>2.93</td>\n",
       "      <td>4.35</td>\n",
       "      <td>0.89</td>\n",
       "      <td>0.69</td>\n",
       "      <td>0.34</td>\n",
       "      <td>2.41</td>\n",
       "      <td>1.03</td>\n",
       "      <td>8.00</td>\n",
       "      <td>8</td>\n",
       "      <td>4</td>\n",
       "    </tr>\n",
       "  </tbody>\n",
       "</table>\n",
       "<p>3 rows × 23 columns</p>\n",
       "</div>"
      ],
      "text/plain": [
       "    GP   GS   MIN   FGM   FGA    FG%   3PM   3PA    3P%   FTM ...   DEF   TRB  \\\n",
       "0  479   81  22.9  4.08  7.65  0.534  0.01  0.04  0.176  2.72 ...  3.03  5.01   \n",
       "1   62    0   7.4  0.73  2.26  0.321  0.27  0.97  0.283  0.29 ...  0.66  0.82   \n",
       "2  514  120  21.1  3.14  7.03  0.447  0.02  0.11  0.182  1.70 ...  2.93  4.35   \n",
       "\n",
       "    AST   STL   BLK    PF   TOV    PTS YR POS  \n",
       "0  0.68  0.43  0.41  2.39  1.22  10.89  8  34  \n",
       "1  0.84  0.32  0.05  0.71  0.39   2.02  2  12  \n",
       "2  0.89  0.69  0.34  2.41  1.03   8.00  8   4  \n",
       "\n",
       "[3 rows x 23 columns]"
      ]
     },
     "execution_count": 7,
     "metadata": {},
     "output_type": "execute_result"
    }
   ],
   "source": [
    "df_preview = df.ix[:2,:23]\n",
    "df_preview"
   ]
  },
  {
   "cell_type": "markdown",
   "metadata": {},
   "source": [
    "# Cleaning the data"
   ]
  },
  {
   "cell_type": "code",
   "execution_count": 8,
   "metadata": {
    "collapsed": false
   },
   "outputs": [
    {
     "data": {
      "text/html": [
       "<div>\n",
       "<table border=\"1\" class=\"dataframe\">\n",
       "  <thead>\n",
       "    <tr style=\"text-align: right;\">\n",
       "      <th></th>\n",
       "      <th>GP</th>\n",
       "      <th>GS</th>\n",
       "      <th>MIN</th>\n",
       "      <th>FGM</th>\n",
       "      <th>FGA</th>\n",
       "      <th>FG%</th>\n",
       "      <th>3PM</th>\n",
       "      <th>3PA</th>\n",
       "      <th>3P%</th>\n",
       "      <th>FTM</th>\n",
       "      <th>...</th>\n",
       "      <th>STL</th>\n",
       "      <th>BLK</th>\n",
       "      <th>PF</th>\n",
       "      <th>TOV</th>\n",
       "      <th>PTS</th>\n",
       "      <th>YR</th>\n",
       "      <th>POS</th>\n",
       "      <th>W</th>\n",
       "      <th>H</th>\n",
       "      <th>NAME</th>\n",
       "    </tr>\n",
       "  </thead>\n",
       "  <tbody>\n",
       "    <tr>\n",
       "      <th>405</th>\n",
       "      <td>Sr</td>\n",
       "      <td>-</td>\n",
       "      <td>-</td>\n",
       "      <td>-</td>\n",
       "      <td>-</td>\n",
       "      <td>-</td>\n",
       "      <td>-</td>\n",
       "      <td>-</td>\n",
       "      <td>-</td>\n",
       "      <td>-</td>\n",
       "      <td>...</td>\n",
       "      <td>-</td>\n",
       "      <td>-</td>\n",
       "      <td>-</td>\n",
       "      <td>-</td>\n",
       "      <td>-</td>\n",
       "      <td>1</td>\n",
       "      <td>5</td>\n",
       "      <td>113</td>\n",
       "      <td>213</td>\n",
       "      <td>Jason Jennings</td>\n",
       "    </tr>\n",
       "  </tbody>\n",
       "</table>\n",
       "<p>1 rows × 26 columns</p>\n",
       "</div>"
      ],
      "text/plain": [
       "     GP GS MIN FGM FGA FG% 3PM 3PA 3P% FTM       ...       STL BLK PF TOV PTS  \\\n",
       "405  Sr  -   -   -   -   -   -   -   -   -       ...         -   -  -   -   -   \n",
       "\n",
       "    YR POS    W    H            NAME  \n",
       "405  1   5  113  213  Jason Jennings  \n",
       "\n",
       "[1 rows x 26 columns]"
      ]
     },
     "execution_count": 8,
     "metadata": {},
     "output_type": "execute_result"
    }
   ],
   "source": [
    "df.loc[df['NAME'] == 'Jason Jennings']"
   ]
  },
  {
   "cell_type": "code",
   "execution_count": 9,
   "metadata": {
    "collapsed": false
   },
   "outputs": [
    {
     "data": {
      "text/html": [
       "<div>\n",
       "<table border=\"1\" class=\"dataframe\">\n",
       "  <thead>\n",
       "    <tr style=\"text-align: right;\">\n",
       "      <th></th>\n",
       "      <th>GP</th>\n",
       "      <th>GS</th>\n",
       "      <th>MIN</th>\n",
       "      <th>FGM</th>\n",
       "      <th>FGA</th>\n",
       "      <th>FG%</th>\n",
       "      <th>3PM</th>\n",
       "      <th>3PA</th>\n",
       "      <th>3P%</th>\n",
       "      <th>FTM</th>\n",
       "      <th>...</th>\n",
       "      <th>STL</th>\n",
       "      <th>BLK</th>\n",
       "      <th>PF</th>\n",
       "      <th>TOV</th>\n",
       "      <th>PTS</th>\n",
       "      <th>YR</th>\n",
       "      <th>POS</th>\n",
       "      <th>W</th>\n",
       "      <th>H</th>\n",
       "      <th>NAME</th>\n",
       "    </tr>\n",
       "  </thead>\n",
       "  <tbody>\n",
       "    <tr>\n",
       "      <th>405</th>\n",
       "      <td>Sr</td>\n",
       "      <td>-</td>\n",
       "      <td>-</td>\n",
       "      <td>-</td>\n",
       "      <td>-</td>\n",
       "      <td>-</td>\n",
       "      <td>-</td>\n",
       "      <td>-</td>\n",
       "      <td>-</td>\n",
       "      <td>-</td>\n",
       "      <td>...</td>\n",
       "      <td>-</td>\n",
       "      <td>-</td>\n",
       "      <td>-</td>\n",
       "      <td>-</td>\n",
       "      <td>-</td>\n",
       "      <td>1</td>\n",
       "      <td>5</td>\n",
       "      <td>113</td>\n",
       "      <td>213</td>\n",
       "      <td>Jason Jennings</td>\n",
       "    </tr>\n",
       "  </tbody>\n",
       "</table>\n",
       "<p>1 rows × 26 columns</p>\n",
       "</div>"
      ],
      "text/plain": [
       "     GP GS MIN FGM FGA FG% 3PM 3PA 3P% FTM       ...       STL BLK PF TOV PTS  \\\n",
       "405  Sr  -   -   -   -   -   -   -   -   -       ...         -   -  -   -   -   \n",
       "\n",
       "    YR POS    W    H            NAME  \n",
       "405  1   5  113  213  Jason Jennings  \n",
       "\n",
       "[1 rows x 26 columns]"
      ]
     },
     "execution_count": 9,
     "metadata": {},
     "output_type": "execute_result"
    }
   ],
   "source": [
    "hm = df.iloc[[405]]\n",
    "hm"
   ]
  },
  {
   "cell_type": "code",
   "execution_count": 10,
   "metadata": {
    "collapsed": false
   },
   "outputs": [
    {
     "data": {
      "text/plain": [
       "'-'"
      ]
     },
     "execution_count": 10,
     "metadata": {},
     "output_type": "execute_result"
    }
   ],
   "source": [
    "value = hm.iloc[0][\"GS\"]\n",
    "value"
   ]
  },
  {
   "cell_type": "code",
   "execution_count": 11,
   "metadata": {
    "collapsed": false
   },
   "outputs": [
    {
     "data": {
      "text/plain": [
       "(1514, 26)"
      ]
     },
     "execution_count": 11,
     "metadata": {},
     "output_type": "execute_result"
    }
   ],
   "source": [
    "df.shape"
   ]
  },
  {
   "cell_type": "code",
   "execution_count": 12,
   "metadata": {
    "collapsed": false
   },
   "outputs": [
    {
     "name": "stdout",
     "output_type": "stream",
     "text": [
      "GP\n",
      "GS\n",
      "MIN\n",
      "FGM\n",
      "FGA\n",
      "FG%\n",
      "3PM\n",
      "3PA\n",
      "3P%\n",
      "FTM\n",
      "FTA\n",
      "FT%\n",
      "OFF\n",
      "DEF\n",
      "TRB\n",
      "AST\n",
      "STL\n",
      "BLK\n",
      "PF\n",
      "TOV\n",
      "PTS\n",
      "YR\n",
      "POS\n",
      "W\n",
      "H\n",
      "NAME\n"
     ]
    }
   ],
   "source": [
    "for i in columns_list:\n",
    "    print i"
   ]
  },
  {
   "cell_type": "code",
   "execution_count": 13,
   "metadata": {
    "collapsed": false
   },
   "outputs": [],
   "source": [
    "\n",
    "remove = df[df[\"DEF\"] == \"-\"]\n",
    "remove_index_list = list(remove.index.values)\n",
    "#df = df.drop(df.index[remove_index_list])\n"
   ]
  },
  {
   "cell_type": "code",
   "execution_count": 14,
   "metadata": {
    "collapsed": false
   },
   "outputs": [],
   "source": [
    "df = df.drop(df.index[remove_index_list])"
   ]
  },
  {
   "cell_type": "code",
   "execution_count": 15,
   "metadata": {
    "collapsed": false
   },
   "outputs": [
    {
     "data": {
      "text/plain": [
       "GP               162\n",
       "GS                 5\n",
       "MIN             11.6\n",
       "FGM             1.52\n",
       "FGA             3.27\n",
       "FG%            0.466\n",
       "3PM             0.01\n",
       "3PA             0.03\n",
       "3P%            0.200\n",
       "FTM             0.88\n",
       "FTA             1.33\n",
       "FT%            0.657\n",
       "OFF             1.10\n",
       "DEF             1.85\n",
       "TRB             2.94\n",
       "AST             0.25\n",
       "STL             0.23\n",
       "BLK             0.36\n",
       "PF              2.00\n",
       "TOV             0.67\n",
       "PTS             3.93\n",
       "YR                 4\n",
       "POS                4\n",
       "W                118\n",
       "H                203\n",
       "NAME    Lonny Baxter\n",
       "Name: 406, dtype: object"
      ]
     },
     "execution_count": 15,
     "metadata": {},
     "output_type": "execute_result"
    }
   ],
   "source": [
    "df.iloc[405]"
   ]
  },
  {
   "cell_type": "code",
   "execution_count": 16,
   "metadata": {
    "collapsed": false
   },
   "outputs": [
    {
     "data": {
      "text/plain": [
       "False"
      ]
     },
     "execution_count": 16,
     "metadata": {},
     "output_type": "execute_result"
    }
   ],
   "source": [
    "df.isnull().any().any()"
   ]
  },
  {
   "cell_type": "markdown",
   "metadata": {},
   "source": [
    "# Output"
   ]
  },
  {
   "cell_type": "code",
   "execution_count": 17,
   "metadata": {
    "collapsed": false
   },
   "outputs": [],
   "source": [
    "df.to_csv(\"data\\cleaned.txt\",sep=\"\\t\", index=False, header=False)"
   ]
  },
  {
   "cell_type": "markdown",
   "metadata": {},
   "source": [
    "# Data for classification_5_positions (1,2,3,4,5)"
   ]
  },
  {
   "cell_type": "code",
   "execution_count": 18,
   "metadata": {
    "collapsed": false
   },
   "outputs": [
    {
     "data": {
      "text/html": [
       "<div>\n",
       "<table border=\"1\" class=\"dataframe\">\n",
       "  <thead>\n",
       "    <tr style=\"text-align: right;\">\n",
       "      <th></th>\n",
       "      <th>GP</th>\n",
       "      <th>GS</th>\n",
       "      <th>MIN</th>\n",
       "      <th>FGM</th>\n",
       "      <th>FGA</th>\n",
       "      <th>FG%</th>\n",
       "      <th>3PM</th>\n",
       "      <th>3PA</th>\n",
       "      <th>3P%</th>\n",
       "      <th>FTM</th>\n",
       "      <th>...</th>\n",
       "      <th>STL</th>\n",
       "      <th>BLK</th>\n",
       "      <th>PF</th>\n",
       "      <th>TOV</th>\n",
       "      <th>PTS</th>\n",
       "      <th>YR</th>\n",
       "      <th>POS</th>\n",
       "      <th>W</th>\n",
       "      <th>H</th>\n",
       "      <th>NAME</th>\n",
       "    </tr>\n",
       "  </thead>\n",
       "  <tbody>\n",
       "    <tr>\n",
       "      <th>0</th>\n",
       "      <td>479</td>\n",
       "      <td>81</td>\n",
       "      <td>22.9</td>\n",
       "      <td>4.08</td>\n",
       "      <td>7.65</td>\n",
       "      <td>0.534</td>\n",
       "      <td>0.01</td>\n",
       "      <td>0.04</td>\n",
       "      <td>0.176</td>\n",
       "      <td>2.72</td>\n",
       "      <td>...</td>\n",
       "      <td>0.43</td>\n",
       "      <td>0.41</td>\n",
       "      <td>2.39</td>\n",
       "      <td>1.22</td>\n",
       "      <td>10.89</td>\n",
       "      <td>8</td>\n",
       "      <td>34</td>\n",
       "      <td>112</td>\n",
       "      <td>206</td>\n",
       "      <td>Carl Landry</td>\n",
       "    </tr>\n",
       "    <tr>\n",
       "      <th>1</th>\n",
       "      <td>62</td>\n",
       "      <td>0</td>\n",
       "      <td>7.4</td>\n",
       "      <td>0.73</td>\n",
       "      <td>2.26</td>\n",
       "      <td>0.321</td>\n",
       "      <td>0.27</td>\n",
       "      <td>0.97</td>\n",
       "      <td>0.283</td>\n",
       "      <td>0.29</td>\n",
       "      <td>...</td>\n",
       "      <td>0.32</td>\n",
       "      <td>0.05</td>\n",
       "      <td>0.71</td>\n",
       "      <td>0.39</td>\n",
       "      <td>2.02</td>\n",
       "      <td>2</td>\n",
       "      <td>12</td>\n",
       "      <td>84</td>\n",
       "      <td>193</td>\n",
       "      <td>Gabe Pruitt</td>\n",
       "    </tr>\n",
       "    <tr>\n",
       "      <th>2</th>\n",
       "      <td>514</td>\n",
       "      <td>120</td>\n",
       "      <td>21.1</td>\n",
       "      <td>3.14</td>\n",
       "      <td>7.03</td>\n",
       "      <td>0.447</td>\n",
       "      <td>0.02</td>\n",
       "      <td>0.11</td>\n",
       "      <td>0.182</td>\n",
       "      <td>1.70</td>\n",
       "      <td>...</td>\n",
       "      <td>0.69</td>\n",
       "      <td>0.34</td>\n",
       "      <td>2.41</td>\n",
       "      <td>1.03</td>\n",
       "      <td>8.00</td>\n",
       "      <td>8</td>\n",
       "      <td>4</td>\n",
       "      <td>131</td>\n",
       "      <td>206</td>\n",
       "      <td>Glen Davis</td>\n",
       "    </tr>\n",
       "    <tr>\n",
       "      <th>3</th>\n",
       "      <td>52</td>\n",
       "      <td>2</td>\n",
       "      <td>8.3</td>\n",
       "      <td>1.31</td>\n",
       "      <td>3.08</td>\n",
       "      <td>0.425</td>\n",
       "      <td>0.00</td>\n",
       "      <td>0.00</td>\n",
       "      <td>0.000</td>\n",
       "      <td>0.50</td>\n",
       "      <td>...</td>\n",
       "      <td>0.17</td>\n",
       "      <td>0.35</td>\n",
       "      <td>1.12</td>\n",
       "      <td>0.42</td>\n",
       "      <td>3.12</td>\n",
       "      <td>2</td>\n",
       "      <td>4</td>\n",
       "      <td>104</td>\n",
       "      <td>208</td>\n",
       "      <td>Jermareo Davidson</td>\n",
       "    </tr>\n",
       "    <tr>\n",
       "      <th>4</th>\n",
       "      <td>387</td>\n",
       "      <td>164</td>\n",
       "      <td>19.6</td>\n",
       "      <td>2.17</td>\n",
       "      <td>4.56</td>\n",
       "      <td>0.475</td>\n",
       "      <td>0.45</td>\n",
       "      <td>1.34</td>\n",
       "      <td>0.337</td>\n",
       "      <td>0.75</td>\n",
       "      <td>...</td>\n",
       "      <td>0.53</td>\n",
       "      <td>0.48</td>\n",
       "      <td>1.94</td>\n",
       "      <td>0.89</td>\n",
       "      <td>5.53</td>\n",
       "      <td>8</td>\n",
       "      <td>4</td>\n",
       "      <td>109</td>\n",
       "      <td>208</td>\n",
       "      <td>Josh McRoberts</td>\n",
       "    </tr>\n",
       "  </tbody>\n",
       "</table>\n",
       "<p>5 rows × 26 columns</p>\n",
       "</div>"
      ],
      "text/plain": [
       "    GP   GS   MIN   FGM   FGA    FG%   3PM   3PA    3P%   FTM  \\\n",
       "0  479   81  22.9  4.08  7.65  0.534  0.01  0.04  0.176  2.72   \n",
       "1   62    0   7.4  0.73  2.26  0.321  0.27  0.97  0.283  0.29   \n",
       "2  514  120  21.1  3.14  7.03  0.447  0.02  0.11  0.182  1.70   \n",
       "3   52    2   8.3  1.31  3.08  0.425  0.00  0.00  0.000  0.50   \n",
       "4  387  164  19.6  2.17  4.56  0.475  0.45  1.34  0.337  0.75   \n",
       "\n",
       "         ...           STL   BLK    PF   TOV    PTS YR POS    W    H  \\\n",
       "0        ...          0.43  0.41  2.39  1.22  10.89  8  34  112  206   \n",
       "1        ...          0.32  0.05  0.71  0.39   2.02  2  12   84  193   \n",
       "2        ...          0.69  0.34  2.41  1.03   8.00  8   4  131  206   \n",
       "3        ...          0.17  0.35  1.12  0.42   3.12  2   4  104  208   \n",
       "4        ...          0.53  0.48  1.94  0.89   5.53  8   4  109  208   \n",
       "\n",
       "                NAME  \n",
       "0        Carl Landry  \n",
       "1        Gabe Pruitt  \n",
       "2         Glen Davis  \n",
       "3  Jermareo Davidson  \n",
       "4     Josh McRoberts  \n",
       "\n",
       "[5 rows x 26 columns]"
      ]
     },
     "execution_count": 18,
     "metadata": {},
     "output_type": "execute_result"
    }
   ],
   "source": [
    "df.head(5)"
   ]
  },
  {
   "cell_type": "code",
   "execution_count": 19,
   "metadata": {
    "collapsed": false
   },
   "outputs": [
    {
     "data": {
      "text/html": [
       "<div>\n",
       "<table border=\"1\" class=\"dataframe\">\n",
       "  <thead>\n",
       "    <tr style=\"text-align: right;\">\n",
       "      <th></th>\n",
       "      <th>GP</th>\n",
       "      <th>GS</th>\n",
       "      <th>MIN</th>\n",
       "      <th>FGM</th>\n",
       "      <th>FGA</th>\n",
       "      <th>FG%</th>\n",
       "      <th>3PM</th>\n",
       "      <th>3PA</th>\n",
       "      <th>3P%</th>\n",
       "      <th>FTM</th>\n",
       "      <th>...</th>\n",
       "      <th>STL</th>\n",
       "      <th>BLK</th>\n",
       "      <th>PF</th>\n",
       "      <th>TOV</th>\n",
       "      <th>PTS</th>\n",
       "      <th>YR</th>\n",
       "      <th>POS</th>\n",
       "      <th>W</th>\n",
       "      <th>H</th>\n",
       "      <th>NAME</th>\n",
       "    </tr>\n",
       "  </thead>\n",
       "  <tbody>\n",
       "    <tr>\n",
       "      <th>2</th>\n",
       "      <td>514</td>\n",
       "      <td>120</td>\n",
       "      <td>21.1</td>\n",
       "      <td>3.14</td>\n",
       "      <td>7.03</td>\n",
       "      <td>0.447</td>\n",
       "      <td>0.02</td>\n",
       "      <td>0.11</td>\n",
       "      <td>0.182</td>\n",
       "      <td>1.70</td>\n",
       "      <td>...</td>\n",
       "      <td>0.69</td>\n",
       "      <td>0.34</td>\n",
       "      <td>2.41</td>\n",
       "      <td>1.03</td>\n",
       "      <td>8.00</td>\n",
       "      <td>8</td>\n",
       "      <td>4</td>\n",
       "      <td>131</td>\n",
       "      <td>206</td>\n",
       "      <td>Glen Davis</td>\n",
       "    </tr>\n",
       "    <tr>\n",
       "      <th>3</th>\n",
       "      <td>52</td>\n",
       "      <td>2</td>\n",
       "      <td>8.3</td>\n",
       "      <td>1.31</td>\n",
       "      <td>3.08</td>\n",
       "      <td>0.425</td>\n",
       "      <td>0.00</td>\n",
       "      <td>0.00</td>\n",
       "      <td>0.000</td>\n",
       "      <td>0.50</td>\n",
       "      <td>...</td>\n",
       "      <td>0.17</td>\n",
       "      <td>0.35</td>\n",
       "      <td>1.12</td>\n",
       "      <td>0.42</td>\n",
       "      <td>3.12</td>\n",
       "      <td>2</td>\n",
       "      <td>4</td>\n",
       "      <td>104</td>\n",
       "      <td>208</td>\n",
       "      <td>Jermareo Davidson</td>\n",
       "    </tr>\n",
       "  </tbody>\n",
       "</table>\n",
       "<p>2 rows × 26 columns</p>\n",
       "</div>"
      ],
      "text/plain": [
       "    GP   GS   MIN   FGM   FGA    FG%   3PM   3PA    3P%   FTM  \\\n",
       "2  514  120  21.1  3.14  7.03  0.447  0.02  0.11  0.182  1.70   \n",
       "3   52    2   8.3  1.31  3.08  0.425  0.00  0.00  0.000  0.50   \n",
       "\n",
       "         ...           STL   BLK    PF   TOV   PTS YR POS    W    H  \\\n",
       "2        ...          0.69  0.34  2.41  1.03  8.00  8   4  131  206   \n",
       "3        ...          0.17  0.35  1.12  0.42  3.12  2   4  104  208   \n",
       "\n",
       "                NAME  \n",
       "2         Glen Davis  \n",
       "3  Jermareo Davidson  \n",
       "\n",
       "[2 rows x 26 columns]"
      ]
     },
     "execution_count": 19,
     "metadata": {},
     "output_type": "execute_result"
    }
   ],
   "source": [
    "df5 = df[df['POS']<=5]\n",
    "df5.head(2)\n",
    "#df.columns"
   ]
  },
  {
   "cell_type": "code",
   "execution_count": 20,
   "metadata": {
    "collapsed": false
   },
   "outputs": [
    {
     "data": {
      "text/plain": [
       "array([4, 5, 1, 3, 2], dtype=int64)"
      ]
     },
     "execution_count": 20,
     "metadata": {},
     "output_type": "execute_result"
    }
   ],
   "source": [
    "df5.POS.unique()"
   ]
  },
  {
   "cell_type": "code",
   "execution_count": 21,
   "metadata": {
    "collapsed": false
   },
   "outputs": [
    {
     "data": {
      "text/plain": [
       "(712, 26)"
      ]
     },
     "execution_count": 21,
     "metadata": {},
     "output_type": "execute_result"
    }
   ],
   "source": [
    "df5.shape"
   ]
  },
  {
   "cell_type": "markdown",
   "metadata": {},
   "source": [
    "# Output "
   ]
  },
  {
   "cell_type": "code",
   "execution_count": 22,
   "metadata": {
    "collapsed": false
   },
   "outputs": [],
   "source": [
    "df5.to_csv('data5/cleaned.txt', sep=\"\\t\", index=False, header=False)"
   ]
  },
  {
   "cell_type": "markdown",
   "metadata": {},
   "source": [
    "# Data for classification_3_positions (1,2,3)"
   ]
  },
  {
   "cell_type": "code",
   "execution_count": 23,
   "metadata": {
    "collapsed": false
   },
   "outputs": [
    {
     "data": {
      "text/html": [
       "<div>\n",
       "<table border=\"1\" class=\"dataframe\">\n",
       "  <thead>\n",
       "    <tr style=\"text-align: right;\">\n",
       "      <th></th>\n",
       "      <th>GP</th>\n",
       "      <th>GS</th>\n",
       "      <th>MIN</th>\n",
       "      <th>FGM</th>\n",
       "      <th>FGA</th>\n",
       "      <th>FG%</th>\n",
       "      <th>3PM</th>\n",
       "      <th>3PA</th>\n",
       "      <th>3P%</th>\n",
       "      <th>FTM</th>\n",
       "      <th>...</th>\n",
       "      <th>STL</th>\n",
       "      <th>BLK</th>\n",
       "      <th>PF</th>\n",
       "      <th>TOV</th>\n",
       "      <th>PTS</th>\n",
       "      <th>YR</th>\n",
       "      <th>POS</th>\n",
       "      <th>W</th>\n",
       "      <th>H</th>\n",
       "      <th>NAME</th>\n",
       "    </tr>\n",
       "  </thead>\n",
       "  <tbody>\n",
       "    <tr>\n",
       "      <th>0</th>\n",
       "      <td>479</td>\n",
       "      <td>81</td>\n",
       "      <td>22.9</td>\n",
       "      <td>4.08</td>\n",
       "      <td>7.65</td>\n",
       "      <td>0.534</td>\n",
       "      <td>0.01</td>\n",
       "      <td>0.04</td>\n",
       "      <td>0.176</td>\n",
       "      <td>2.72</td>\n",
       "      <td>...</td>\n",
       "      <td>0.43</td>\n",
       "      <td>0.41</td>\n",
       "      <td>2.39</td>\n",
       "      <td>1.22</td>\n",
       "      <td>10.89</td>\n",
       "      <td>8</td>\n",
       "      <td>34</td>\n",
       "      <td>112</td>\n",
       "      <td>206</td>\n",
       "      <td>Carl Landry</td>\n",
       "    </tr>\n",
       "    <tr>\n",
       "      <th>1</th>\n",
       "      <td>62</td>\n",
       "      <td>0</td>\n",
       "      <td>7.4</td>\n",
       "      <td>0.73</td>\n",
       "      <td>2.26</td>\n",
       "      <td>0.321</td>\n",
       "      <td>0.27</td>\n",
       "      <td>0.97</td>\n",
       "      <td>0.283</td>\n",
       "      <td>0.29</td>\n",
       "      <td>...</td>\n",
       "      <td>0.32</td>\n",
       "      <td>0.05</td>\n",
       "      <td>0.71</td>\n",
       "      <td>0.39</td>\n",
       "      <td>2.02</td>\n",
       "      <td>2</td>\n",
       "      <td>12</td>\n",
       "      <td>84</td>\n",
       "      <td>193</td>\n",
       "      <td>Gabe Pruitt</td>\n",
       "    </tr>\n",
       "    <tr>\n",
       "      <th>2</th>\n",
       "      <td>514</td>\n",
       "      <td>120</td>\n",
       "      <td>21.1</td>\n",
       "      <td>3.14</td>\n",
       "      <td>7.03</td>\n",
       "      <td>0.447</td>\n",
       "      <td>0.02</td>\n",
       "      <td>0.11</td>\n",
       "      <td>0.182</td>\n",
       "      <td>1.70</td>\n",
       "      <td>...</td>\n",
       "      <td>0.69</td>\n",
       "      <td>0.34</td>\n",
       "      <td>2.41</td>\n",
       "      <td>1.03</td>\n",
       "      <td>8.00</td>\n",
       "      <td>8</td>\n",
       "      <td>4</td>\n",
       "      <td>131</td>\n",
       "      <td>206</td>\n",
       "      <td>Glen Davis</td>\n",
       "    </tr>\n",
       "  </tbody>\n",
       "</table>\n",
       "<p>3 rows × 26 columns</p>\n",
       "</div>"
      ],
      "text/plain": [
       "    GP   GS   MIN   FGM   FGA    FG%   3PM   3PA    3P%   FTM     ...       \\\n",
       "0  479   81  22.9  4.08  7.65  0.534  0.01  0.04  0.176  2.72     ...        \n",
       "1   62    0   7.4  0.73  2.26  0.321  0.27  0.97  0.283  0.29     ...        \n",
       "2  514  120  21.1  3.14  7.03  0.447  0.02  0.11  0.182  1.70     ...        \n",
       "\n",
       "    STL   BLK    PF   TOV    PTS YR POS    W    H         NAME  \n",
       "0  0.43  0.41  2.39  1.22  10.89  8  34  112  206  Carl Landry  \n",
       "1  0.32  0.05  0.71  0.39   2.02  2  12   84  193  Gabe Pruitt  \n",
       "2  0.69  0.34  2.41  1.03   8.00  8   4  131  206   Glen Davis  \n",
       "\n",
       "[3 rows x 26 columns]"
      ]
     },
     "execution_count": 23,
     "metadata": {},
     "output_type": "execute_result"
    }
   ],
   "source": [
    "df.head(3)"
   ]
  },
  {
   "cell_type": "code",
   "execution_count": 24,
   "metadata": {
    "collapsed": false
   },
   "outputs": [
    {
     "data": {
      "text/plain": [
       "array([34, 12,  4,  5,  1,  3, 45,  2, 23], dtype=int64)"
      ]
     },
     "execution_count": 24,
     "metadata": {},
     "output_type": "execute_result"
    }
   ],
   "source": [
    "df.POS.unique()"
   ]
  },
  {
   "cell_type": "code",
   "execution_count": 25,
   "metadata": {
    "collapsed": false
   },
   "outputs": [
    {
     "data": {
      "text/html": [
       "<div>\n",
       "<table border=\"1\" class=\"dataframe\">\n",
       "  <thead>\n",
       "    <tr style=\"text-align: right;\">\n",
       "      <th></th>\n",
       "      <th>GP</th>\n",
       "      <th>GS</th>\n",
       "      <th>MIN</th>\n",
       "      <th>FGM</th>\n",
       "      <th>FGA</th>\n",
       "      <th>FG%</th>\n",
       "      <th>3PM</th>\n",
       "      <th>3PA</th>\n",
       "      <th>3P%</th>\n",
       "      <th>FTM</th>\n",
       "      <th>...</th>\n",
       "      <th>STL</th>\n",
       "      <th>BLK</th>\n",
       "      <th>PF</th>\n",
       "      <th>TOV</th>\n",
       "      <th>PTS</th>\n",
       "      <th>YR</th>\n",
       "      <th>POS</th>\n",
       "      <th>W</th>\n",
       "      <th>H</th>\n",
       "      <th>NAME</th>\n",
       "    </tr>\n",
       "  </thead>\n",
       "  <tbody>\n",
       "    <tr>\n",
       "      <th>0</th>\n",
       "      <td>479</td>\n",
       "      <td>81</td>\n",
       "      <td>22.9</td>\n",
       "      <td>4.08</td>\n",
       "      <td>7.65</td>\n",
       "      <td>0.534</td>\n",
       "      <td>0.01</td>\n",
       "      <td>0.04</td>\n",
       "      <td>0.176</td>\n",
       "      <td>2.72</td>\n",
       "      <td>...</td>\n",
       "      <td>0.43</td>\n",
       "      <td>0.41</td>\n",
       "      <td>2.39</td>\n",
       "      <td>1.22</td>\n",
       "      <td>10.89</td>\n",
       "      <td>8</td>\n",
       "      <td>2</td>\n",
       "      <td>112</td>\n",
       "      <td>206</td>\n",
       "      <td>Carl Landry</td>\n",
       "    </tr>\n",
       "    <tr>\n",
       "      <th>1</th>\n",
       "      <td>62</td>\n",
       "      <td>0</td>\n",
       "      <td>7.4</td>\n",
       "      <td>0.73</td>\n",
       "      <td>2.26</td>\n",
       "      <td>0.321</td>\n",
       "      <td>0.27</td>\n",
       "      <td>0.97</td>\n",
       "      <td>0.283</td>\n",
       "      <td>0.29</td>\n",
       "      <td>...</td>\n",
       "      <td>0.32</td>\n",
       "      <td>0.05</td>\n",
       "      <td>0.71</td>\n",
       "      <td>0.39</td>\n",
       "      <td>2.02</td>\n",
       "      <td>2</td>\n",
       "      <td>1</td>\n",
       "      <td>84</td>\n",
       "      <td>193</td>\n",
       "      <td>Gabe Pruitt</td>\n",
       "    </tr>\n",
       "  </tbody>\n",
       "</table>\n",
       "<p>2 rows × 26 columns</p>\n",
       "</div>"
      ],
      "text/plain": [
       "    GP  GS   MIN   FGM   FGA    FG%   3PM   3PA    3P%   FTM     ...       \\\n",
       "0  479  81  22.9  4.08  7.65  0.534  0.01  0.04  0.176  2.72     ...        \n",
       "1   62   0   7.4  0.73  2.26  0.321  0.27  0.97  0.283  0.29     ...        \n",
       "\n",
       "    STL   BLK    PF   TOV    PTS YR POS    W    H         NAME  \n",
       "0  0.43  0.41  2.39  1.22  10.89  8   2  112  206  Carl Landry  \n",
       "1  0.32  0.05  0.71  0.39   2.02  2   1   84  193  Gabe Pruitt  \n",
       "\n",
       "[2 rows x 26 columns]"
      ]
     },
     "execution_count": 25,
     "metadata": {},
     "output_type": "execute_result"
    }
   ],
   "source": [
    "df['POS'] = df['POS'].replace([1,2,12,23,3,34,4,45,5],[1,1,1,0,2,2,2,0,3])\n",
    "df.head(2)"
   ]
  },
  {
   "cell_type": "code",
   "execution_count": 26,
   "metadata": {
    "collapsed": false
   },
   "outputs": [
    {
     "data": {
      "text/plain": [
       "(1429, 26)"
      ]
     },
     "execution_count": 26,
     "metadata": {},
     "output_type": "execute_result"
    }
   ],
   "source": [
    "df.shape"
   ]
  },
  {
   "cell_type": "code",
   "execution_count": 27,
   "metadata": {
    "collapsed": false
   },
   "outputs": [
    {
     "data": {
      "text/plain": [
       "array([2, 1, 3], dtype=int64)"
      ]
     },
     "execution_count": 27,
     "metadata": {},
     "output_type": "execute_result"
    }
   ],
   "source": [
    "df3 = df[df['POS']>0]\n",
    "df3.POS.unique()"
   ]
  },
  {
   "cell_type": "code",
   "execution_count": 28,
   "metadata": {
    "collapsed": false
   },
   "outputs": [
    {
     "data": {
      "text/plain": [
       "(1269, 26)"
      ]
     },
     "execution_count": 28,
     "metadata": {},
     "output_type": "execute_result"
    }
   ],
   "source": [
    "df3.shape"
   ]
  },
  {
   "cell_type": "markdown",
   "metadata": {},
   "source": [
    "# Output"
   ]
  },
  {
   "cell_type": "code",
   "execution_count": 29,
   "metadata": {
    "collapsed": true
   },
   "outputs": [],
   "source": [
    "df3.to_csv('data3/cleaned.txt',sep='\\t', head=False,header=False)"
   ]
  },
  {
   "cell_type": "code",
   "execution_count": null,
   "metadata": {
    "collapsed": true
   },
   "outputs": [],
   "source": []
  }
 ],
 "metadata": {
  "kernelspec": {
   "display_name": "Python 2",
   "language": "python",
   "name": "python2"
  },
  "language_info": {
   "codemirror_mode": {
    "name": "ipython",
    "version": 2
   },
   "file_extension": ".py",
   "mimetype": "text/x-python",
   "name": "python",
   "nbconvert_exporter": "python",
   "pygments_lexer": "ipython2",
   "version": "2.7.11"
  }
 },
 "nbformat": 4,
 "nbformat_minor": 0
}
