{
 "cells": [
  {
   "cell_type": "code",
   "execution_count": 47,
   "metadata": {
    "collapsed": true
   },
   "outputs": [],
   "source": [
    "import numpy as np\n",
    "from pandas import DataFrame\n",
    "import pandas as pd\n",
    "import scipy as sp\n",
    "from sklearn.naive_bayes import GaussianNB"
   ]
  },
  {
   "cell_type": "markdown",
   "metadata": {},
   "source": [
    "Reading files: "
   ]
  },
  {
   "cell_type": "code",
   "execution_count": 48,
   "metadata": {
    "collapsed": false
   },
   "outputs": [],
   "source": [
    "train_data = sp.genfromtxt(\"data/train_data.txt\", delimiter=\"\\t\")\n",
    "\n",
    "test_data = sp.genfromtxt(\"data/test_data.txt\", delimiter=\"\\t\")\n",
    "\n",
    "val_data =  sp.genfromtxt(\"data/val_data.txt\", delimiter=\"\\t\")"
   ]
  },
  {
   "cell_type": "markdown",
   "metadata": {},
   "source": [
    "Dimensions:"
   ]
  },
  {
   "cell_type": "code",
   "execution_count": 49,
   "metadata": {
    "collapsed": false
   },
   "outputs": [
    {
     "name": "stdout",
     "output_type": "stream",
     "text": [
      "(858L, 25L)\n",
      "(286L, 25L)\n",
      "(286L, 25L)\n"
     ]
    }
   ],
   "source": [
    "print(train_data.shape)\n",
    "print(test_data.shape)\n",
    "print(val_data.shape)"
   ]
  },
  {
   "cell_type": "code",
   "execution_count": 50,
   "metadata": {
    "collapsed": false
   },
   "outputs": [
    {
     "name": "stdout",
     "output_type": "stream",
     "text": [
      "(857L, 25L)\n",
      "(286L, 25L)\n",
      "(286L, 25L)\n"
     ]
    }
   ],
   "source": [
    "train_data = train_data[~np.isnan(train_data).any(axis=1)]\n",
    "test_data = test_data[~np.isnan(test_data).any(axis=1)]\n",
    "val_data = val_data[~np.isnan(val_data).any(axis=1)]\n",
    "print(train_data.shape)\n",
    "print(test_data.shape)\n",
    "print(val_data.shape)"
   ]
  },
  {
   "cell_type": "markdown",
   "metadata": {},
   "source": [
    "Brisanje proba: "
   ]
  },
  {
   "cell_type": "code",
   "execution_count": 51,
   "metadata": {
    "collapsed": false,
    "scrolled": true
   },
   "outputs": [
    {
     "data": {
      "text/plain": [
       "array([[  4.79000000e+02,   8.10000000e+01,   2.29000000e+01,\n",
       "          4.08000000e+00,   7.65000000e+00,   5.34000000e-01,\n",
       "          1.00000000e-02,   4.00000000e-02,   1.76000000e-01,\n",
       "          2.72000000e+00,   3.45000000e+00,   7.88000000e-01,\n",
       "          1.98000000e+00,   3.03000000e+00,   5.01000000e+00,\n",
       "          6.80000000e-01,   4.30000000e-01,   4.10000000e-01,\n",
       "          2.39000000e+00,   1.22000000e+00,   1.08900000e+01,\n",
       "          8.00000000e+00,   3.40000000e+01,   1.12000000e+02,\n",
       "          2.06000000e+02]])"
      ]
     },
     "execution_count": 51,
     "metadata": {},
     "output_type": "execute_result"
    }
   ],
   "source": [
    "train_data[:1]"
   ]
  },
  {
   "cell_type": "code",
   "execution_count": 52,
   "metadata": {
    "collapsed": false
   },
   "outputs": [
    {
     "data": {
      "text/plain": [
       "array([  4.79000000e+02,   2.29000000e+01,   4.08000000e+00,\n",
       "         7.65000000e+00,   5.34000000e-01,   1.00000000e-02,\n",
       "         4.00000000e-02,   1.76000000e-01,   2.72000000e+00,\n",
       "         3.45000000e+00,   7.88000000e-01,   1.98000000e+00,\n",
       "         3.03000000e+00,   5.01000000e+00,   6.80000000e-01,\n",
       "         4.30000000e-01,   4.10000000e-01,   2.39000000e+00,\n",
       "         1.22000000e+00,   1.08900000e+01,   8.00000000e+00,\n",
       "         3.40000000e+01,   1.12000000e+02,   2.06000000e+02])"
      ]
     },
     "execution_count": 52,
     "metadata": {},
     "output_type": "execute_result"
    }
   ],
   "source": [
    "np.delete(train_data[:1], 1)"
   ]
  },
  {
   "cell_type": "markdown",
   "metadata": {},
   "source": [
    "# Features"
   ]
  },
  {
   "cell_type": "code",
   "execution_count": 53,
   "metadata": {
    "collapsed": false
   },
   "outputs": [],
   "source": [
    "#train_features = np.delete(train_data, 22, 1)\n",
    "#test_features = np.delete(test_data, 22, 1)\n",
    "#val_features = np.delete(val_data,22,1)\n",
    "                          \n",
    "#train_features = np.delete(train_features, 21, 1)\n",
    "#test_features = np.delete(test_features, 21, 1)\n",
    "#val_features = np.delete(val_features,21,1)\n",
    "                          \n",
    "#print(train_features.shape)\n",
    "#print(test_features.shape)\n",
    "#print(val_features.shape)\n",
    "\n",
    "columns = {\"GP\":0, \"GS\":1, \"MIN\":2, \"FGM\":3,\"FGA\":4,\"FG%\":5,\"3PM\":6,\"3PA\":7,\"3P%\":8,\"FTM\":9,\"FTA\":10,\"FT%\":11,\"OFF\":12,\"DEF\":13,\n",
    "              \"TRB\":14,\"AST\":15,\"STL\":16,\"BLK\":17,\"PF\":18,\"TOV\":19,\"PTS\":20,\"YR\":21,\"POS\":22,\"W\":23,\"H\":24} \n"
   ]
  },
  {
   "cell_type": "code",
   "execution_count": 99,
   "metadata": {
    "collapsed": false
   },
   "outputs": [],
   "source": [
    "fl = [columns[\"GP\"],columns[\"GS\"],columns[\"MIN\"],columns[\"FG%\"],\n",
    "      columns[\"3P%\"],columns[\"FT%\"],columns[\"PTS\"],columns[\"YR\"],columns[\"POS\"],columns['3PM'],columns['FTM'],columns['FGM']]"
   ]
  },
  {
   "cell_type": "code",
   "execution_count": 98,
   "metadata": {
    "collapsed": false
   },
   "outputs": [],
   "source": [
    "train_features = np.delete(train_data,fl,1)\n",
    "test_features = np.delete(test_data,fl,1)\n",
    "val_features = np.delete(val_data,fl,1)\n"
   ]
  },
  {
   "cell_type": "code",
   "execution_count": 56,
   "metadata": {
    "collapsed": false
   },
   "outputs": [
    {
     "name": "stdout",
     "output_type": "stream",
     "text": [
      "Training features dimensions: \n",
      "(857L, 13L)\n",
      "Test features dimensions: \n",
      "(286L, 13L)\n",
      "Validation features dimensions: \n",
      "(286L, 13L)\n"
     ]
    }
   ],
   "source": [
    "print \"Training features dimensions: \"  \n",
    "print train_features.shape\n",
    "print \"Test features dimensions: \" \n",
    "print test_features.shape\n",
    "print \"Validation features dimensions: \"\n",
    "print val_features.shape"
   ]
  },
  {
   "cell_type": "markdown",
   "metadata": {},
   "source": [
    "# Labels"
   ]
  },
  {
   "cell_type": "code",
   "execution_count": 57,
   "metadata": {
    "collapsed": false
   },
   "outputs": [
    {
     "name": "stdout",
     "output_type": "stream",
     "text": [
      "(857L,)\n",
      "(286L,)\n",
      "(286L,)\n"
     ]
    }
   ],
   "source": [
    "train_labels = train_data[:,22]\n",
    "test_labels = test_data[:,22]\n",
    "val_labels = val_data[:,22]\n",
    "print(train_labels.shape)\n",
    "print(test_labels.shape)\n",
    "print(val_labels.shape)"
   ]
  },
  {
   "cell_type": "markdown",
   "metadata": {},
   "source": [
    "# Naive Bayes"
   ]
  },
  {
   "cell_type": "code",
   "execution_count": 58,
   "metadata": {
    "collapsed": true
   },
   "outputs": [],
   "source": [
    "clf = GaussianNB()"
   ]
  },
  {
   "cell_type": "code",
   "execution_count": 59,
   "metadata": {
    "collapsed": false
   },
   "outputs": [
    {
     "data": {
      "text/plain": [
       "GaussianNB()"
      ]
     },
     "execution_count": 59,
     "metadata": {},
     "output_type": "execute_result"
    }
   ],
   "source": [
    "clf.fit(train_features, train_labels)"
   ]
  },
  {
   "cell_type": "code",
   "execution_count": 60,
   "metadata": {
    "collapsed": false
   },
   "outputs": [
    {
     "data": {
      "text/plain": [
       "array([ 12.,   1.,   5.,  45.,   3.,  34.,   4.,   5.,  12.,  34.,  12.,\n",
       "        34.,   4.,   4.,  12.,  12.,  12.,   5.,  12.,   5.,  34.,   3.,\n",
       "         5.,  34.,  12.,  12.,  34.,   1.,  12.,   1.,   4.,  34.,  12.,\n",
       "        34.,  12.,  12.,   5.,  34.,  12.,  12.,   5.,   5.,  34.,  23.,\n",
       "         3.,  34.,  12.,  12.,   5.,  12.,   5.,  45.,  34.,  12.,   5.,\n",
       "         5.,  34.,  12.,   5.,  12.,   5.,   5.,   5.,  12.,  34.,  34.,\n",
       "        34.,  12.,  12.,  34.,  12.,   4.,   2.,   5.,  12.,  12.,  12.,\n",
       "        34.,  45.,   5.,  12.,  23.,  12.,   2.,   1.,   3.,  34.,  23.,\n",
       "         5.,  34.,  12.,   1.,  12.,   3.,  34.,  12.,  23.,  23.,  34.,\n",
       "         5.,  12.,  23.,  45.,   2.,   3.,   5.,  34.,   4.,  34.,  23.,\n",
       "         5.,   5.,  12.,  23.,   1.,  12.,   5.,  34.,   3.,   5.,  23.,\n",
       "         5.,  34.,   3.,   2.,   4.,   4.,  34.,   1.,   5.,  34.,   5.,\n",
       "         5.,   1.,  45.,   5.,   1.,   4.,  12.,  45.,   4.,   1.,  34.,\n",
       "        23.,   4.,   1.,  12.,   2.,  23.,   5.,   3.,  12.,   1.,   1.,\n",
       "         5.,   4.,   5.,   4.,  34.,  12.,   5.,  23.,   5.,   4.,  12.,\n",
       "        12.,  12.,  12.,   5.,  12.,   3.,  12.,   5.,   5.,   5.,  12.,\n",
       "         1.,   5.,   3.,  23.,  34.,  23.,   3.,  34.,   5.,   5.,   5.,\n",
       "         2.,   4.,   1.,  45.,   2.,  12.,  12.,  12.,  12.,  12.,   3.,\n",
       "        45.,  12.,  34.,  12.,  12.,   5.,  12.,  12.,  45.,   5.,   5.,\n",
       "        12.,  34.,  12.,   5.,  12.,  34.,  23.,   5.,  23.,  34.,   5.,\n",
       "        23.,   5.,  12.,   4.,  34.,  12.,  12.,  12.,   3.,   5.,  23.,\n",
       "        12.,   5.,   5.,  12.,  34.,  34.,  12.,  12.,  12.,  12.,   2.,\n",
       "        12.,  45.,  12.,  23.,  12.,   5.,  12.,   1.,  45.,  12.,   5.,\n",
       "         4.,  34.,   5.,   5.,   3.,  12.,   5.,  12.,   5.,  12.,  45.,\n",
       "        34.,   5.,  34.,  12.,  12.,   5.,   5.,   5.,   5.,   5.,  12.,\n",
       "        12.,   5.,  12.,  23.,  34.,  34.,   5.,  34.,  12.,  12.,  12.])"
      ]
     },
     "execution_count": 60,
     "metadata": {},
     "output_type": "execute_result"
    }
   ],
   "source": [
    "pred = clf.predict(test_features)\n",
    "pred"
   ]
  },
  {
   "cell_type": "code",
   "execution_count": 61,
   "metadata": {
    "collapsed": false
   },
   "outputs": [
    {
     "data": {
      "text/plain": [
       "array([  2.,   1.,   5.,   5.,   2.,   3.,   4.,  45.,  12.,   4.,  12.,\n",
       "        34.,   4.,  45.,  12.,   2.,  12.,  45.,   2.,  45.,  34.,   3.,\n",
       "         5.,  34.,   3.,   2.,  34.,   1.,  12.,   1.,   5.,  34.,  12.,\n",
       "         4.,  12.,   2.,   4.,  34.,   2.,  12.,   4.,  34.,  34.,   3.,\n",
       "         3.,   4.,  12.,  12.,   4.,   2.,   5.,  45.,  34.,  12.,   4.,\n",
       "         5.,  34.,  12.,  45.,  12.,   5.,   5.,   5.,  12.,  34.,  34.,\n",
       "        34.,  12.,  12.,   4.,   2.,   4.,   2.,   5.,  12.,   2.,   2.,\n",
       "        45.,   5.,   5.,  12.,   2.,   1.,   2.,   1.,   2.,  34.,  34.,\n",
       "         5.,  34.,  12.,   2.,   2.,   2.,  34.,  34.,   3.,  34.,   4.,\n",
       "         4.,  12.,  34.,  45.,   2.,  23.,   4.,  34.,   4.,  34.,  34.,\n",
       "        34.,   4.,  12.,  12.,   1.,  12.,   5.,  34.,   3.,   5.,   3.,\n",
       "        45.,  34.,   3.,   2.,   4.,   4.,  34.,   1.,   5.,   4.,   5.,\n",
       "         4.,   1.,   5.,   5.,   1.,   4.,   2.,   4.,   4.,   2.,  34.,\n",
       "         3.,   4.,  12.,  12.,   2.,   3.,   5.,  34.,   2.,   1.,  12.,\n",
       "         5.,   4.,  45.,   4.,   4.,  12.,   5.,  23.,   5.,   4.,  12.,\n",
       "        12.,   2.,   2.,   5.,   2.,   3.,  12.,   5.,   5.,   5.,   2.,\n",
       "         1.,   5.,   3.,  23.,   4.,   3.,  23.,   4.,   4.,  34.,  45.,\n",
       "         2.,   4.,   1.,   5.,   2.,   2.,   2.,  12.,  34.,  34.,   3.,\n",
       "         5.,  12.,  34.,  12.,  23.,   5.,  12.,   1.,   5.,  34.,  34.,\n",
       "        12.,   3.,  12.,  34.,  12.,  34.,  34.,   5.,  34.,  34.,   5.,\n",
       "        12.,   5.,  12.,   4.,  34.,  12.,  34.,  12.,   3.,   4.,   3.,\n",
       "        12.,   5.,   5.,  12.,  34.,  34.,  12.,  12.,  12.,  12.,  12.,\n",
       "        12.,   4.,  12.,  34.,  12.,   5.,  12.,   1.,   5.,  12.,  34.,\n",
       "         4.,  34.,   5.,   5.,   3.,  12.,   4.,   2.,  34.,  34.,   5.,\n",
       "        34.,   4.,  34.,  12.,  12.,   5.,   4.,   5.,   5.,  45.,  34.,\n",
       "        12.,   5.,  12.,   2.,  34.,  34.,   5.,   3.,   2.,  12.,   2.])"
      ]
     },
     "execution_count": 61,
     "metadata": {},
     "output_type": "execute_result"
    }
   ],
   "source": [
    "test_labels"
   ]
  },
  {
   "cell_type": "markdown",
   "metadata": {
    "collapsed": false
   },
   "source": [
    "# Accuracy"
   ]
  },
  {
   "cell_type": "code",
   "execution_count": 62,
   "metadata": {
    "collapsed": false
   },
   "outputs": [
    {
     "data": {
      "text/plain": [
       "0.59790209790209792"
      ]
     },
     "execution_count": 62,
     "metadata": {},
     "output_type": "execute_result"
    }
   ],
   "source": [
    "from sklearn.metrics import accuracy_score\n",
    "accuracy = accuracy_score(pred, test_labels)\n",
    "accuracy"
   ]
  },
  {
   "cell_type": "markdown",
   "metadata": {},
   "source": [
    "# Custom Accuracy function"
   ]
  },
  {
   "cell_type": "code",
   "execution_count": 63,
   "metadata": {
    "collapsed": false
   },
   "outputs": [],
   "source": [
    "def custom_acc(pred_labels, test_labels):\n",
    "    hit = 0\n",
    "    num = 0\n",
    "    j = 0\n",
    "    for i in pred_labels:\n",
    "        a = i\n",
    "        a = str(int(a))\n",
    "        b = test_labels[j]\n",
    "        b = str(int(b))\n",
    "        if a == b:\n",
    "            hit = hit+1\n",
    "        elif len(a) == 1 and len(b) == 2:\n",
    "            if a == b[0] or a == b[1]:\n",
    "                hit = hit+1\n",
    "        elif len(a) == 2 and len(b) == 1:\n",
    "            if a[0] == b or a[1] == b:\n",
    "                hit = hit+1\n",
    "        num = num+1\n",
    "        j = j+1\n",
    "    print num\n",
    "    print hit\n",
    "    return float(hit)/num\n"
   ]
  },
  {
   "cell_type": "markdown",
   "metadata": {},
   "source": [
    "# Custom Accuracy NB"
   ]
  },
  {
   "cell_type": "code",
   "execution_count": 64,
   "metadata": {
    "collapsed": false
   },
   "outputs": [
    {
     "name": "stdout",
     "output_type": "stream",
     "text": [
      "286\n",
      "241\n"
     ]
    },
    {
     "data": {
      "text/plain": [
       "0.8426573426573427"
      ]
     },
     "execution_count": 64,
     "metadata": {},
     "output_type": "execute_result"
    }
   ],
   "source": [
    "custom_acc(pred, test_labels)"
   ]
  },
  {
   "cell_type": "markdown",
   "metadata": {},
   "source": [
    "# Confusion matrix NB"
   ]
  },
  {
   "cell_type": "code",
   "execution_count": 88,
   "metadata": {
    "collapsed": true
   },
   "outputs": [],
   "source": [
    "from sklearn.metrics import confusion_matrix "
   ]
  },
  {
   "cell_type": "code",
   "execution_count": 90,
   "metadata": {
    "collapsed": false
   },
   "outputs": [
    {
     "data": {
      "text/plain": [
       "array([[12,  0,  0,  0,  0,  2,  0,  0,  0],\n",
       "       [ 2,  7,  3,  0,  0, 22,  2,  0,  0],\n",
       "       [ 0,  0,  9,  0,  0,  1,  7,  3,  0],\n",
       "       [ 0,  0,  0, 15, 13,  0,  0,  9,  2],\n",
       "       [ 0,  0,  0,  1, 38,  0,  0,  0,  8],\n",
       "       [ 2,  1,  0,  0,  0, 54,  2,  0,  0],\n",
       "       [ 0,  0,  2,  0,  0,  1,  2,  0,  0],\n",
       "       [ 0,  0,  1,  0,  8,  6,  7, 32,  0],\n",
       "       [ 0,  0,  0,  1,  8,  0,  0,  1,  2]])"
      ]
     },
     "execution_count": 90,
     "metadata": {},
     "output_type": "execute_result"
    }
   ],
   "source": [
    "confm_nb = confusion_matrix(test_labels, pred)\n",
    "confm_nb\n",
    "#  labels 1 - 2 - 3- 4 - 5 - 12- 23- 34 - 45"
   ]
  },
  {
   "cell_type": "markdown",
   "metadata": {
    "collapsed": false
   },
   "source": [
    "# Validation     "
   ]
  },
  {
   "cell_type": "code",
   "execution_count": 65,
   "metadata": {
    "collapsed": false
   },
   "outputs": [
    {
     "data": {
      "text/plain": [
       "array([ 12.,   1.,   5.,  45.,   3.,  34.,   4.,   5.,  12.,  34.,  12.,\n",
       "        34.,   4.,   4.,  12.,  12.,  12.,   5.,  12.,   5.,  34.,   3.,\n",
       "         5.,  34.,  12.,  12.,  34.,   1.,  12.,   1.,   4.,  34.,  12.,\n",
       "        34.,  12.,  12.,   5.,  34.,  12.,  12.,   5.,   5.,  34.,  23.,\n",
       "         3.,  34.,  12.,  12.,   5.,  12.,   5.,  45.,  34.,  12.,   5.,\n",
       "         5.,  34.,  12.,   5.,  12.,   5.,   5.,   5.,  12.,  34.,  34.,\n",
       "        34.,  12.,  12.,  34.,  12.,   4.,   2.,   5.,  12.,  12.,  12.,\n",
       "        34.,  45.,   5.,  12.,  23.,  12.,   2.,   1.,   3.,  34.,  23.,\n",
       "         5.,  34.,  12.,   1.,  12.,   3.,  34.,  12.,  23.,  23.,  34.,\n",
       "         5.,  12.,  23.,  45.,   2.,   3.,   5.,  34.,   4.,  34.,  23.,\n",
       "         5.,   5.,  12.,  23.,   1.,  12.,   5.,  34.,   3.,   5.,  23.,\n",
       "         5.,  34.,   3.,   2.,   4.,   4.,  34.,   1.,   5.,  34.,   5.,\n",
       "         5.,   1.,  45.,   5.,   1.,   4.,  12.,  45.,   4.,   1.,  34.,\n",
       "        23.,   4.,   1.,  12.,   2.,  23.,   5.,   3.,  12.,   1.,   1.,\n",
       "         5.,   4.,   5.,   4.,  34.,  12.,   5.,  23.,   5.,   4.,  12.,\n",
       "        12.,  12.,  12.,   5.,  12.,   3.,  12.,   5.,   5.,   5.,  12.,\n",
       "         1.,   5.,   3.,  23.,  34.,  23.,   3.,  34.,   5.,   5.,   5.,\n",
       "         2.,   4.,   1.,  45.,   2.,  12.,  12.,  12.,  12.,  12.,   3.,\n",
       "        45.,  12.,  34.,  12.,  12.,   5.,  12.,  12.,  45.,   5.,   5.,\n",
       "        12.,  34.,  12.,   5.,  12.,  34.,  23.,   5.,  23.,  34.,   5.,\n",
       "        23.,   5.,  12.,   4.,  34.,  12.,  12.,  12.,   3.,   5.,  23.,\n",
       "        12.,   5.,   5.,  12.,  34.,  34.,  12.,  12.,  12.,  12.,   2.,\n",
       "        12.,  45.,  12.,  23.,  12.,   5.,  12.,   1.,  45.,  12.,   5.,\n",
       "         4.,  34.,   5.,   5.,   3.,  12.,   5.,  12.,   5.,  12.,  45.,\n",
       "        34.,   5.,  34.,  12.,  12.,   5.,   5.,   5.,   5.,   5.,  12.,\n",
       "        12.,   5.,  12.,  23.,  34.,  34.,   5.,  34.,  12.,  12.,  12.])"
      ]
     },
     "execution_count": 65,
     "metadata": {},
     "output_type": "execute_result"
    }
   ],
   "source": [
    "pred2 = clf.predict(val_features)\n",
    "pred2"
   ]
  },
  {
   "cell_type": "code",
   "execution_count": 66,
   "metadata": {
    "collapsed": false
   },
   "outputs": [
    {
     "data": {
      "text/plain": [
       "0.59790209790209792"
      ]
     },
     "execution_count": 66,
     "metadata": {},
     "output_type": "execute_result"
    }
   ],
   "source": [
    "accuracy2 = accuracy_score(pred2, val_labels)\n",
    "accuracy2"
   ]
  },
  {
   "cell_type": "code",
   "execution_count": 67,
   "metadata": {
    "collapsed": false
   },
   "outputs": [
    {
     "name": "stdout",
     "output_type": "stream",
     "text": [
      "286\n",
      "241\n"
     ]
    },
    {
     "data": {
      "text/plain": [
       "0.8426573426573427"
      ]
     },
     "execution_count": 67,
     "metadata": {},
     "output_type": "execute_result"
    }
   ],
   "source": [
    "custom_acc(pred2, val_labels)"
   ]
  },
  {
   "cell_type": "markdown",
   "metadata": {},
   "source": [
    "# Feature selection with VarianceTheshold "
   ]
  },
  {
   "cell_type": "code",
   "execution_count": 68,
   "metadata": {
    "collapsed": true
   },
   "outputs": [],
   "source": [
    "from sklearn.feature_selection import VarianceThreshold\n",
    "sel = VarianceThreshold(threshold=(.8 * (1 - .8)))\n"
   ]
  },
  {
   "cell_type": "code",
   "execution_count": 69,
   "metadata": {
    "collapsed": false
   },
   "outputs": [
    {
     "data": {
      "text/plain": [
       "(857L, 13L)"
      ]
     },
     "execution_count": 69,
     "metadata": {},
     "output_type": "execute_result"
    }
   ],
   "source": [
    "train_features.shape"
   ]
  },
  {
   "cell_type": "code",
   "execution_count": 70,
   "metadata": {
    "collapsed": false
   },
   "outputs": [
    {
     "data": {
      "text/plain": [
       "array([[  7.65000000e+00,   4.00000000e-02,   3.45000000e+00,\n",
       "          1.98000000e+00,   3.03000000e+00,   5.01000000e+00,\n",
       "          6.80000000e-01,   4.10000000e-01,   2.39000000e+00,\n",
       "          1.22000000e+00,   1.12000000e+02,   2.06000000e+02]])"
      ]
     },
     "execution_count": 70,
     "metadata": {},
     "output_type": "execute_result"
    }
   ],
   "source": [
    "sel.fit_transform(train_features)[:1]"
   ]
  },
  {
   "cell_type": "code",
   "execution_count": 71,
   "metadata": {
    "collapsed": false
   },
   "outputs": [
    {
     "data": {
      "text/plain": [
       "(857L,)"
      ]
     },
     "execution_count": 71,
     "metadata": {},
     "output_type": "execute_result"
    }
   ],
   "source": [
    "train_features1 = sel.fit_transform(train_features)\n",
    "val_features1 = np.delete(val_features, 11, 1)\n",
    "train_features1.shape\n",
    "train_labels.shape"
   ]
  },
  {
   "cell_type": "code",
   "execution_count": 72,
   "metadata": {
    "collapsed": false
   },
   "outputs": [
    {
     "data": {
      "text/plain": [
       "GaussianNB()"
      ]
     },
     "execution_count": 72,
     "metadata": {},
     "output_type": "execute_result"
    }
   ],
   "source": [
    "clf.fit(val_features1, val_labels)"
   ]
  },
  {
   "cell_type": "markdown",
   "metadata": {},
   "source": [
    "# Accuracy with validation set NB"
   ]
  },
  {
   "cell_type": "code",
   "execution_count": 73,
   "metadata": {
    "collapsed": false
   },
   "outputs": [
    {
     "data": {
      "text/plain": [
       "0.61888111888111885"
      ]
     },
     "execution_count": 73,
     "metadata": {},
     "output_type": "execute_result"
    }
   ],
   "source": [
    "pred3 = clf.predict(val_features1)\n",
    "accuracy3 = accuracy_score(pred3, val_labels)\n",
    "accuracy3"
   ]
  },
  {
   "cell_type": "markdown",
   "metadata": {},
   "source": [
    "# Custom accuracy with validation set NB"
   ]
  },
  {
   "cell_type": "code",
   "execution_count": 91,
   "metadata": {
    "collapsed": false
   },
   "outputs": [
    {
     "name": "stdout",
     "output_type": "stream",
     "text": [
      "286\n",
      "244\n"
     ]
    },
    {
     "data": {
      "text/plain": [
       "0.8531468531468531"
      ]
     },
     "execution_count": 91,
     "metadata": {},
     "output_type": "execute_result"
    }
   ],
   "source": [
    "custom_acc(pred3, val_labels)"
   ]
  },
  {
   "cell_type": "markdown",
   "metadata": {},
   "source": [
    "# Confusion matrix with validation set "
   ]
  },
  {
   "cell_type": "code",
   "execution_count": 94,
   "metadata": {
    "collapsed": false
   },
   "outputs": [
    {
     "data": {
      "text/plain": [
       "array([[11,  0,  0,  0,  0,  3,  0,  0,  0],\n",
       "       [ 4,  9,  4,  0,  0, 16,  3,  0,  0],\n",
       "       [ 0,  1, 13,  0,  0,  2,  1,  3,  0],\n",
       "       [ 0,  0,  0, 16,  3,  0,  0, 15,  5],\n",
       "       [ 0,  0,  0,  2, 32,  0,  0,  6,  7],\n",
       "       [ 3,  4,  1,  0,  0, 51,  0,  0,  0],\n",
       "       [ 0,  0,  0,  0,  0,  2,  3,  0,  0],\n",
       "       [ 0,  0,  2,  2,  0,  6,  1, 39,  4],\n",
       "       [ 0,  0,  0,  2,  1,  0,  0,  6,  3]])"
      ]
     },
     "execution_count": 94,
     "metadata": {},
     "output_type": "execute_result"
    }
   ],
   "source": [
    "confm_nb_val = confusion_matrix(val_labels, pred3)\n",
    "confm_nb_val\n",
    "#  labels 1 - 2 - 3- 4 - 5 - 12- 23- 34 - 45"
   ]
  },
  {
   "cell_type": "markdown",
   "metadata": {
    "collapsed": true
   },
   "source": [
    "# SVM"
   ]
  },
  {
   "cell_type": "code",
   "execution_count": 74,
   "metadata": {
    "collapsed": true
   },
   "outputs": [],
   "source": [
    "from sklearn.svm import SVC"
   ]
  },
  {
   "cell_type": "code",
   "execution_count": 75,
   "metadata": {
    "collapsed": true
   },
   "outputs": [],
   "source": [
    "clfSVM= SVC()"
   ]
  },
  {
   "cell_type": "code",
   "execution_count": 76,
   "metadata": {
    "collapsed": false
   },
   "outputs": [
    {
     "data": {
      "text/plain": [
       "SVC(C=1.0, cache_size=200, class_weight=None, coef0=0.0, degree=3, gamma=0.0,\n",
       "  kernel='rbf', max_iter=-1, probability=False, random_state=None,\n",
       "  shrinking=True, tol=0.001, verbose=False)"
      ]
     },
     "execution_count": 76,
     "metadata": {},
     "output_type": "execute_result"
    }
   ],
   "source": [
    "clfSVM.fit(train_features, train_labels)"
   ]
  },
  {
   "cell_type": "code",
   "execution_count": 77,
   "metadata": {
    "collapsed": false,
    "scrolled": true
   },
   "outputs": [
    {
     "name": "stdout",
     "output_type": "stream",
     "text": [
      "(857L, 13L)\n",
      "(857L,)\n"
     ]
    }
   ],
   "source": [
    "print train_features.shape\n",
    "print train_labels.shape"
   ]
  },
  {
   "cell_type": "code",
   "execution_count": 78,
   "metadata": {
    "collapsed": false
   },
   "outputs": [
    {
     "data": {
      "text/plain": [
       "(286L, 13L)"
      ]
     },
     "execution_count": 78,
     "metadata": {},
     "output_type": "execute_result"
    }
   ],
   "source": [
    "test_features.shape"
   ]
  },
  {
   "cell_type": "code",
   "execution_count": 79,
   "metadata": {
    "collapsed": false
   },
   "outputs": [],
   "source": [
    "predSVM = clfSVM.predict(test_features)"
   ]
  },
  {
   "cell_type": "markdown",
   "metadata": {},
   "source": [
    "# Accuracy SVM"
   ]
  },
  {
   "cell_type": "code",
   "execution_count": 80,
   "metadata": {
    "collapsed": false
   },
   "outputs": [
    {
     "data": {
      "text/plain": [
       "0.50349650349650354"
      ]
     },
     "execution_count": 80,
     "metadata": {},
     "output_type": "execute_result"
    }
   ],
   "source": [
    "accuracySVM = accuracy_score(predSVM, test_labels)\n",
    "accuracySVM"
   ]
  },
  {
   "cell_type": "markdown",
   "metadata": {},
   "source": [
    "# Custom Accuracy SVM"
   ]
  },
  {
   "cell_type": "code",
   "execution_count": 81,
   "metadata": {
    "collapsed": false
   },
   "outputs": [
    {
     "name": "stdout",
     "output_type": "stream",
     "text": [
      "286\n",
      "247\n"
     ]
    },
    {
     "data": {
      "text/plain": [
       "0.8636363636363636"
      ]
     },
     "execution_count": 81,
     "metadata": {},
     "output_type": "execute_result"
    }
   ],
   "source": [
    "custom_acc(predSVM, test_labels)"
   ]
  },
  {
   "cell_type": "markdown",
   "metadata": {},
   "source": [
    "# Confusion matrix SVM"
   ]
  },
  {
   "cell_type": "code",
   "execution_count": 95,
   "metadata": {
    "collapsed": false
   },
   "outputs": [
    {
     "data": {
      "text/plain": [
       "array([[ 2,  0,  0,  0,  0, 12,  0,  0,  0],\n",
       "       [ 0,  3,  2,  0,  0, 30,  1,  0,  0],\n",
       "       [ 0,  2,  2,  0,  0,  4,  0, 12,  0],\n",
       "       [ 0,  0,  0,  9,  6,  2,  0, 18,  4],\n",
       "       [ 0,  0,  0,  4, 40,  1,  0,  1,  1],\n",
       "       [ 6,  0,  3,  0,  0, 50,  0,  0,  0],\n",
       "       [ 0,  3,  0,  0,  0,  1,  1,  0,  0],\n",
       "       [ 0,  0,  6,  3,  4,  2,  1, 36,  2],\n",
       "       [ 0,  0,  0,  2,  5,  0,  0,  4,  1]])"
      ]
     },
     "execution_count": 95,
     "metadata": {},
     "output_type": "execute_result"
    }
   ],
   "source": [
    "confm_svm = confusion_matrix(test_labels, predSVM)\n",
    "confm_svm\n",
    "#  labels 1 - 2 - 3- 4 - 5 - 12- 23- 34 - 45"
   ]
  },
  {
   "cell_type": "markdown",
   "metadata": {
    "collapsed": true
   },
   "source": [
    "# Logistic Regression"
   ]
  },
  {
   "cell_type": "code",
   "execution_count": 82,
   "metadata": {
    "collapsed": true
   },
   "outputs": [],
   "source": [
    "from sklearn import linear_model"
   ]
  },
  {
   "cell_type": "code",
   "execution_count": 83,
   "metadata": {
    "collapsed": true
   },
   "outputs": [],
   "source": [
    "logreg = linear_model.LogisticRegression(C=1e5)"
   ]
  },
  {
   "cell_type": "code",
   "execution_count": 84,
   "metadata": {
    "collapsed": false
   },
   "outputs": [
    {
     "data": {
      "text/plain": [
       "LogisticRegression(C=100000.0, class_weight=None, dual=False,\n",
       "          fit_intercept=True, intercept_scaling=1, max_iter=100,\n",
       "          multi_class='ovr', penalty='l2', random_state=None,\n",
       "          solver='liblinear', tol=0.0001, verbose=0)"
      ]
     },
     "execution_count": 84,
     "metadata": {},
     "output_type": "execute_result"
    }
   ],
   "source": [
    "logreg.fit(train_features, train_labels)"
   ]
  },
  {
   "cell_type": "code",
   "execution_count": 85,
   "metadata": {
    "collapsed": false
   },
   "outputs": [],
   "source": [
    "predLR = logreg.predict(test_features)"
   ]
  },
  {
   "cell_type": "markdown",
   "metadata": {},
   "source": [
    "# Logistic Regression Accuracy"
   ]
  },
  {
   "cell_type": "code",
   "execution_count": 86,
   "metadata": {
    "collapsed": false
   },
   "outputs": [
    {
     "data": {
      "text/plain": [
       "0.56993006993006989"
      ]
     },
     "execution_count": 86,
     "metadata": {},
     "output_type": "execute_result"
    }
   ],
   "source": [
    "accLR = accuracy_score(predLR, test_labels)\n",
    "accLR"
   ]
  },
  {
   "cell_type": "markdown",
   "metadata": {},
   "source": [
    "# Custom Accuracy SVM"
   ]
  },
  {
   "cell_type": "code",
   "execution_count": 87,
   "metadata": {
    "collapsed": false
   },
   "outputs": [
    {
     "name": "stdout",
     "output_type": "stream",
     "text": [
      "286\n",
      "240\n"
     ]
    },
    {
     "data": {
      "text/plain": [
       "0.8391608391608392"
      ]
     },
     "execution_count": 87,
     "metadata": {},
     "output_type": "execute_result"
    }
   ],
   "source": [
    "custom_acc(predLR, test_labels)"
   ]
  },
  {
   "cell_type": "markdown",
   "metadata": {
    "collapsed": true
   },
   "source": [
    "# Confusion matrix LR"
   ]
  },
  {
   "cell_type": "code",
   "execution_count": 96,
   "metadata": {
    "collapsed": false
   },
   "outputs": [
    {
     "data": {
      "text/plain": [
       "array([[ 7,  0,  0,  0,  0,  7,  0,  0,  0],\n",
       "       [ 0,  5,  1,  0,  0, 25,  1,  4,  0],\n",
       "       [ 1,  3,  1,  0,  0,  3,  0, 12,  0],\n",
       "       [ 0,  0,  0, 12,  9,  0,  0, 17,  1],\n",
       "       [ 0,  0,  0,  1, 43,  0,  0,  2,  1],\n",
       "       [ 2,  1,  0,  0,  0, 52,  0,  4,  0],\n",
       "       [ 0,  1,  0,  0,  0,  2,  0,  2,  0],\n",
       "       [ 0,  0,  0,  3,  2,  6,  1, 42,  0],\n",
       "       [ 0,  0,  0,  1,  5,  0,  0,  5,  1]])"
      ]
     },
     "execution_count": 96,
     "metadata": {},
     "output_type": "execute_result"
    }
   ],
   "source": [
    "confm_lr = confusion_matrix(test_labels, predLR)\n",
    "confm_lr\n",
    "#  labels 1 - 2 - 3- 4 - 5 - 12- 23- 34 - 45"
   ]
  },
  {
   "cell_type": "code",
   "execution_count": null,
   "metadata": {
    "collapsed": true
   },
   "outputs": [],
   "source": []
  }
 ],
 "metadata": {
  "kernelspec": {
   "display_name": "Python 2",
   "language": "python",
   "name": "python2"
  },
  "language_info": {
   "codemirror_mode": {
    "name": "ipython",
    "version": 2
   },
   "file_extension": ".py",
   "mimetype": "text/x-python",
   "name": "python",
   "nbconvert_exporter": "python",
   "pygments_lexer": "ipython2",
   "version": "2.7.11"
  }
 },
 "nbformat": 4,
 "nbformat_minor": 0
}
