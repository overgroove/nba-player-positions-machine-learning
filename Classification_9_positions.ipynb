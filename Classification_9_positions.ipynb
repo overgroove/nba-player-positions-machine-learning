{
 "cells": [
  {
   "cell_type": "code",
   "execution_count": 118,
   "metadata": {
    "collapsed": false
   },
   "outputs": [],
   "source": [
    "import numpy as np\n",
    "from pandas import DataFrame\n",
    "import pandas as pd\n",
    "import scipy as sp\n",
    "from sklearn import metrics\n",
    "from sklearn.naive_bayes import GaussianNB\n",
    "from sklearn import linear_model\n",
    "from sklearn.svm import SVC"
   ]
  },
  {
   "cell_type": "markdown",
   "metadata": {},
   "source": [
    "Reading files: "
   ]
  },
  {
   "cell_type": "code",
   "execution_count": 119,
   "metadata": {
    "collapsed": false
   },
   "outputs": [],
   "source": [
    "train_data = sp.genfromtxt(\"data/train_data.txt\", delimiter=\"\\t\")\n",
    "\n",
    "test_data = sp.genfromtxt(\"data/test_data.txt\", delimiter=\"\\t\")\n",
    "\n",
    "val_data =  sp.genfromtxt(\"data/val_data.txt\", delimiter=\"\\t\")"
   ]
  },
  {
   "cell_type": "markdown",
   "metadata": {},
   "source": [
    "Dimensions:"
   ]
  },
  {
   "cell_type": "code",
   "execution_count": 120,
   "metadata": {
    "collapsed": false
   },
   "outputs": [
    {
     "name": "stdout",
     "output_type": "stream",
     "text": [
      "(858L, 25L)\n",
      "(286L, 25L)\n",
      "(286L, 25L)\n"
     ]
    }
   ],
   "source": [
    "print(train_data.shape)\n",
    "print(test_data.shape)\n",
    "print(val_data.shape)"
   ]
  },
  {
   "cell_type": "code",
   "execution_count": 121,
   "metadata": {
    "collapsed": false
   },
   "outputs": [
    {
     "name": "stdout",
     "output_type": "stream",
     "text": [
      "(857L, 25L)\n",
      "(286L, 25L)\n",
      "(286L, 25L)\n"
     ]
    }
   ],
   "source": [
    "train_data = train_data[~np.isnan(train_data).any(axis=1)]\n",
    "test_data = test_data[~np.isnan(test_data).any(axis=1)]\n",
    "val_data = val_data[~np.isnan(val_data).any(axis=1)]\n",
    "print(train_data.shape)\n",
    "print(test_data.shape)\n",
    "print(val_data.shape)"
   ]
  },
  {
   "cell_type": "markdown",
   "metadata": {},
   "source": [
    "Brisanje proba: "
   ]
  },
  {
   "cell_type": "code",
   "execution_count": 122,
   "metadata": {
    "collapsed": false,
    "scrolled": true
   },
   "outputs": [
    {
     "data": {
      "text/plain": [
       "array([[  4.79000000e+02,   8.10000000e+01,   2.29000000e+01,\n",
       "          4.08000000e+00,   7.65000000e+00,   5.34000000e-01,\n",
       "          1.00000000e-02,   4.00000000e-02,   1.76000000e-01,\n",
       "          2.72000000e+00,   3.45000000e+00,   7.88000000e-01,\n",
       "          1.98000000e+00,   3.03000000e+00,   5.01000000e+00,\n",
       "          6.80000000e-01,   4.30000000e-01,   4.10000000e-01,\n",
       "          2.39000000e+00,   1.22000000e+00,   1.08900000e+01,\n",
       "          8.00000000e+00,   3.40000000e+01,   1.12000000e+02,\n",
       "          2.06000000e+02]])"
      ]
     },
     "execution_count": 122,
     "metadata": {},
     "output_type": "execute_result"
    }
   ],
   "source": [
    "train_data[:1]"
   ]
  },
  {
   "cell_type": "code",
   "execution_count": 123,
   "metadata": {
    "collapsed": false
   },
   "outputs": [
    {
     "data": {
      "text/plain": [
       "array([  4.79000000e+02,   2.29000000e+01,   4.08000000e+00,\n",
       "         7.65000000e+00,   5.34000000e-01,   1.00000000e-02,\n",
       "         4.00000000e-02,   1.76000000e-01,   2.72000000e+00,\n",
       "         3.45000000e+00,   7.88000000e-01,   1.98000000e+00,\n",
       "         3.03000000e+00,   5.01000000e+00,   6.80000000e-01,\n",
       "         4.30000000e-01,   4.10000000e-01,   2.39000000e+00,\n",
       "         1.22000000e+00,   1.08900000e+01,   8.00000000e+00,\n",
       "         3.40000000e+01,   1.12000000e+02,   2.06000000e+02])"
      ]
     },
     "execution_count": 123,
     "metadata": {},
     "output_type": "execute_result"
    }
   ],
   "source": [
    "np.delete(train_data[:1], 1)"
   ]
  },
  {
   "cell_type": "markdown",
   "metadata": {},
   "source": [
    "# Features"
   ]
  },
  {
   "cell_type": "code",
   "execution_count": 124,
   "metadata": {
    "collapsed": true
   },
   "outputs": [],
   "source": [
    "def np_featuriser(train, test, val,feature_list):\n",
    "    \n",
    "    train = np.delete(train,feature_list,1)\n",
    "    test = np.delete(test,feature_list,1)\n",
    "    val = np.delete(val,feature_list,1)\n",
    "    \n",
    "    return train, test, val\n"
   ]
  },
  {
   "cell_type": "code",
   "execution_count": 125,
   "metadata": {
    "collapsed": false
   },
   "outputs": [],
   "source": [
    "train_all, test_all, val_all = np_featuriser(train_data, test_data, val_data,22)"
   ]
  },
  {
   "cell_type": "markdown",
   "metadata": {},
   "source": [
    "# Labels"
   ]
  },
  {
   "cell_type": "code",
   "execution_count": 126,
   "metadata": {
    "collapsed": false
   },
   "outputs": [
    {
     "name": "stdout",
     "output_type": "stream",
     "text": [
      "(857L,)\n",
      "(286L,)\n",
      "(286L,)\n"
     ]
    }
   ],
   "source": [
    "train_labels = train_data[:,22]\n",
    "test_labels = test_data[:,22]\n",
    "val_labels = val_data[:,22]\n",
    "print(train_labels.shape)\n",
    "print(test_labels.shape)\n",
    "print(val_labels.shape)"
   ]
  },
  {
   "cell_type": "code",
   "execution_count": 127,
   "metadata": {
    "collapsed": false
   },
   "outputs": [],
   "source": [
    "feature_list = [22]\n",
    "train_features_nb, test_features_nb, val_features_nb = np_featuriser(train_data, test_data, val_data, feature_list )"
   ]
  },
  {
   "cell_type": "code",
   "execution_count": 128,
   "metadata": {
    "collapsed": false
   },
   "outputs": [],
   "source": [
    "#train_features = np.delete(train_data, 22, 1)\n",
    "#test_features = np.delete(test_data, 22, 1)\n",
    "#val_features = np.delete(val_data,22,1)\n",
    "                          \n",
    "#train_features = np.delete(train_features, 21, 1)\n",
    "#test_features = np.delete(test_features, 21, 1)\n",
    "#val_features = np.delete(val_features,21,1)\n",
    "                          \n",
    "#print(train_features.shape)\n",
    "#print(test_features.shape)\n",
    "#print(val_features.shape)\n",
    "\n",
    "columns = {\"GP\":0, \"GS\":1, \"MIN\":2, \"FGM\":3,\"FGA\":4,\"FG%\":5,\"3PM\":6,\"3PA\":7,\"3P%\":8,\"FTM\":9,\"FTA\":10,\"FT%\":11,\"OFF\":12,\"DEF\":13,\n",
    "              \"TRB\":14,\"AST\":15,\"STL\":16,\"BLK\":17,\"PF\":18,\"TOV\":19,\"PTS\":20,\"YR\":21,\"POS\":22,\"W\":23,\"H\":24} \n"
   ]
  },
  {
   "cell_type": "markdown",
   "metadata": {},
   "source": [
    "# Univariate feature selection"
   ]
  },
  {
   "cell_type": "code",
   "execution_count": 167,
   "metadata": {
    "collapsed": false
   },
   "outputs": [
    {
     "name": "stdout",
     "output_type": "stream",
     "text": [
      "[  11.11071711   64.4679563     1.82896326   73.92406058   27.41925933\n",
      "   42.04831989   75.91498997   28.98983588   59.2040295    12.51662655\n",
      "   10.79262582  218.66202788  287.90107153]\n",
      "[ 0.03859214  0.22392399  0.00635275  0.25676897  0.09523848  0.14605128\n",
      "  0.26368429  0.10069374  0.20564018  0.04347544  0.03748727  0.75950404\n",
      "  1.        ]\n",
      "Most valuable features: \n",
      "1 0.223923988737 GS\n",
      "3 0.256768966462 FGM\n",
      "6 0.263684291166 3PM\n",
      "8 0.205640184623 3P%\n",
      "11 0.759504043217 FT%\n",
      "12 1.0 OFF\n",
      "[0, 2, 4, 5, 7, 9, 10, 13, 14, 15, 16, 17, 18, 19, 20, 21, 22, 23, 24]\n"
     ]
    }
   ],
   "source": [
    "from sklearn.feature_selection import SelectPercentile, f_classif\n",
    "selector = SelectPercentile(f_classif, percentile=10)\n",
    "X = train_features_nb\n",
    "y = train_labels\n",
    "#print X[:1]\n",
    "selector.fit(X, y)\n",
    "scores = -np.log10(selector.pvalues_)\n",
    "print scores\n",
    "scores /= scores.max()\n",
    "print scores\n",
    "\n",
    "#for i in scores:\n",
    "#scores\n",
    "\n",
    "print \"Most valuable features: \"\n",
    "remove = []\n",
    "for i in range(0,25):\n",
    "    remove.append(i)\n",
    "    \n",
    "j = 0\n",
    "for i in scores:\n",
    "    \n",
    "    if i>0.19:\n",
    "        print j, i, columns.keys()[columns.values().index(j)]\n",
    "        remove.remove(j)\n",
    "    if j == 21:\n",
    "        j = j+2\n",
    "    else:\n",
    "        j = j+1\n",
    "#for i in range(0,25)\n",
    "print remove"
   ]
  },
  {
   "cell_type": "code",
   "execution_count": 130,
   "metadata": {
    "collapsed": true
   },
   "outputs": [],
   "source": [
    "#feature_list = [0, 1, 2, 3, 4, 5, 9, 10, 18, 19, 20, 21, 22]\n",
    "#train_features_nb, test_features_nb, val_features_nb = np_featuriser(train_data, test_data, val_data, feature_list )"
   ]
  },
  {
   "cell_type": "code",
   "execution_count": 131,
   "metadata": {
    "collapsed": false
   },
   "outputs": [],
   "source": [
    "feature_list = [columns[\"GP\"],columns[\"GS\"],columns[\"MIN\"],columns[\"FG%\"],\n",
    "      columns[\"3P%\"],columns[\"FT%\"],columns[\"PTS\"],columns[\"YR\"],columns[\"POS\"],columns['3PM'],columns['FTM'],columns['FGM']]\n",
    "\n",
    "train_features_nb, test_features_nb, val_features_nb = np_featuriser(train_data, test_data, val_data, feature_list )"
   ]
  },
  {
   "cell_type": "markdown",
   "metadata": {},
   "source": [
    "# Feature selection with VarianceThreshold "
   ]
  },
  {
   "cell_type": "code",
   "execution_count": 182,
   "metadata": {
    "collapsed": true
   },
   "outputs": [],
   "source": [
    "from sklearn.feature_selection import VarianceThreshold\n",
    "\n"
   ]
  },
  {
   "cell_type": "code",
   "execution_count": 185,
   "metadata": {
    "collapsed": false
   },
   "outputs": [],
   "source": [
    "def vt_fsel(train):\n",
    "    sel = VarianceThreshold(threshold=(.8 * (1 - .8)))\n",
    "    sel.fit_transform(train)\n",
    "    vt_list = sel.get_support()\n",
    "    l_vt = []\n",
    "    j = 0\n",
    "    for i in vt_list:\n",
    "        if i == False:\n",
    "            l_vt.append(j)\n",
    "            print \"%s. featue name: %s\" %(j, columns.keys()[columns.values().index(j)])\n",
    "        j = j+1\n",
    "    return l_vt    "
   ]
  },
  {
   "cell_type": "code",
   "execution_count": 187,
   "metadata": {
    "collapsed": false
   },
   "outputs": [
    {
     "name": "stdout",
     "output_type": "stream",
     "text": [
      "5. featue name: FG%\n",
      "8. featue name: 3P%\n",
      "11. featue name: FT%\n",
      "16. featue name: STL\n"
     ]
    }
   ],
   "source": [
    "list_vt = vt_fsel(train_data)"
   ]
  },
  {
   "cell_type": "code",
   "execution_count": 137,
   "metadata": {
    "collapsed": true
   },
   "outputs": [],
   "source": [
    "#train_features1 = sel.fit_transform(train_features)\n",
    "#val_features1 = np.delete(val_features, 11, 1)\n",
    "#train_features1.shape\n",
    "#train_labels.shape"
   ]
  },
  {
   "cell_type": "code",
   "execution_count": 138,
   "metadata": {
    "collapsed": false
   },
   "outputs": [
    {
     "name": "stdout",
     "output_type": "stream",
     "text": [
      "Training features dimensions: \n",
      "(857L, 13L)\n",
      "Test features dimensions: \n",
      "(286L, 13L)\n",
      "Validation features dimensions: \n",
      "(286L, 13L)\n"
     ]
    }
   ],
   "source": [
    "print \"Training features dimensions: \"  \n",
    "print train_features_nb.shape\n",
    "print \"Test features dimensions: \" \n",
    "print test_features_nb.shape\n",
    "print \"Validation features dimensions: \"\n",
    "print val_features_nb.shape"
   ]
  },
  {
   "cell_type": "markdown",
   "metadata": {},
   "source": [
    "# Naive Bayes"
   ]
  },
  {
   "cell_type": "code",
   "execution_count": 139,
   "metadata": {
    "collapsed": true
   },
   "outputs": [],
   "source": [
    "clf = GaussianNB()"
   ]
  },
  {
   "cell_type": "code",
   "execution_count": 140,
   "metadata": {
    "collapsed": false
   },
   "outputs": [
    {
     "data": {
      "text/plain": [
       "GaussianNB()"
      ]
     },
     "execution_count": 140,
     "metadata": {},
     "output_type": "execute_result"
    }
   ],
   "source": [
    "clf.fit(train_features_nb, train_labels)"
   ]
  },
  {
   "cell_type": "code",
   "execution_count": 141,
   "metadata": {
    "collapsed": false
   },
   "outputs": [],
   "source": [
    "pred = clf.predict(test_features_nb)"
   ]
  },
  {
   "cell_type": "markdown",
   "metadata": {
    "collapsed": false
   },
   "source": [
    "# Accuracy"
   ]
  },
  {
   "cell_type": "code",
   "execution_count": 142,
   "metadata": {
    "collapsed": false
   },
   "outputs": [
    {
     "data": {
      "text/plain": [
       "0.59790209790209792"
      ]
     },
     "execution_count": 142,
     "metadata": {},
     "output_type": "execute_result"
    }
   ],
   "source": [
    "from sklearn.metrics import accuracy_score\n",
    "accuracy = accuracy_score(pred, test_labels)\n",
    "accuracy\n",
    "#51% sa Variance Threshold\n",
    "#53% with Univariate feature selection \"SelectPercentile, f_classif\"\n",
    "#60% domensko znanjeI g"
   ]
  },
  {
   "cell_type": "markdown",
   "metadata": {},
   "source": [
    "# Custom Accuracy function"
   ]
  },
  {
   "cell_type": "code",
   "execution_count": 197,
   "metadata": {
    "collapsed": false
   },
   "outputs": [],
   "source": [
    "def custom_acc(pred_labels, test_labels):\n",
    "    hit = 0\n",
    "    num = 0\n",
    "    j = 0\n",
    "    for i in pred_labels:\n",
    "        a = i\n",
    "        a = str(int(a))\n",
    "        b = test_labels[j]\n",
    "        b = str(int(b))\n",
    "        if a == b:\n",
    "            hit = hit+1\n",
    "        elif len(a) == 1 and len(b) == 2:\n",
    "            if a == b[0] or a == b[1]:\n",
    "                hit = hit+1\n",
    "        elif len(a) == 2 and len(b) == 1:\n",
    "            if a[0] == b or a[1] == b:\n",
    "                hit = hit+1\n",
    "        num = num+1\n",
    "        j = j+1\n",
    "    #print num\n",
    "    #print hit\n",
    "    return float(hit)/num\n"
   ]
  },
  {
   "cell_type": "markdown",
   "metadata": {},
   "source": [
    "# Custom Accuracy NB"
   ]
  },
  {
   "cell_type": "code",
   "execution_count": 144,
   "metadata": {
    "collapsed": false
   },
   "outputs": [
    {
     "name": "stdout",
     "output_type": "stream",
     "text": [
      "286\n",
      "241\n"
     ]
    },
    {
     "data": {
      "text/plain": [
       "0.8426573426573427"
      ]
     },
     "execution_count": 144,
     "metadata": {},
     "output_type": "execute_result"
    }
   ],
   "source": [
    "custom_acc(pred, test_labels)"
   ]
  },
  {
   "cell_type": "markdown",
   "metadata": {},
   "source": [
    "# Confusion matrix NB"
   ]
  },
  {
   "cell_type": "code",
   "execution_count": 145,
   "metadata": {
    "collapsed": true
   },
   "outputs": [],
   "source": [
    "from sklearn.metrics import confusion_matrix "
   ]
  },
  {
   "cell_type": "code",
   "execution_count": 146,
   "metadata": {
    "collapsed": false
   },
   "outputs": [
    {
     "data": {
      "text/plain": [
       "array([[12,  0,  0,  0,  0,  2,  0,  0,  0],\n",
       "       [ 2,  7,  3,  0,  0, 22,  2,  0,  0],\n",
       "       [ 0,  0,  9,  0,  0,  1,  7,  3,  0],\n",
       "       [ 0,  0,  0, 15, 13,  0,  0,  9,  2],\n",
       "       [ 0,  0,  0,  1, 38,  0,  0,  0,  8],\n",
       "       [ 2,  1,  0,  0,  0, 54,  2,  0,  0],\n",
       "       [ 0,  0,  2,  0,  0,  1,  2,  0,  0],\n",
       "       [ 0,  0,  1,  0,  8,  6,  7, 32,  0],\n",
       "       [ 0,  0,  0,  1,  8,  0,  0,  1,  2]])"
      ]
     },
     "execution_count": 146,
     "metadata": {},
     "output_type": "execute_result"
    }
   ],
   "source": [
    "confm_nb = confusion_matrix(test_labels, pred)\n",
    "confm_nb\n",
    "#  labels 1 - 2 - 3- 4 - 5 - 12- 23- 34 - 45"
   ]
  },
  {
   "cell_type": "markdown",
   "metadata": {
    "collapsed": true
   },
   "source": [
    "# SVM"
   ]
  },
  {
   "cell_type": "code",
   "execution_count": 147,
   "metadata": {
    "collapsed": true
   },
   "outputs": [],
   "source": [
    "from sklearn.svm import SVC"
   ]
  },
  {
   "cell_type": "code",
   "execution_count": 148,
   "metadata": {
    "collapsed": true
   },
   "outputs": [],
   "source": [
    "clfSVM= SVC()"
   ]
  },
  {
   "cell_type": "code",
   "execution_count": 149,
   "metadata": {
    "collapsed": false
   },
   "outputs": [
    {
     "data": {
      "text/plain": [
       "SVC(C=1.0, cache_size=200, class_weight=None, coef0=0.0, degree=3, gamma=0.0,\n",
       "  kernel='linear', max_iter=-1, probability=False, random_state=None,\n",
       "  shrinking=True, tol=0.001, verbose=False)"
      ]
     },
     "execution_count": 149,
     "metadata": {},
     "output_type": "execute_result"
    }
   ],
   "source": [
    "clfSVM.set_params(kernel = 'linear')"
   ]
  },
  {
   "cell_type": "code",
   "execution_count": 150,
   "metadata": {
    "collapsed": false
   },
   "outputs": [
    {
     "data": {
      "text/plain": [
       "SVC(C=1.0, cache_size=200, class_weight=None, coef0=0.0, degree=3, gamma=0.0,\n",
       "  kernel='linear', max_iter=-1, probability=False, random_state=None,\n",
       "  shrinking=True, tol=0.001, verbose=False)"
      ]
     },
     "execution_count": 150,
     "metadata": {},
     "output_type": "execute_result"
    }
   ],
   "source": [
    "clfSVM.fit(train_features_nb, train_labels)"
   ]
  },
  {
   "cell_type": "code",
   "execution_count": 151,
   "metadata": {
    "collapsed": false
   },
   "outputs": [],
   "source": [
    "predSVM = clfSVM.predict(test_features_nb)"
   ]
  },
  {
   "cell_type": "markdown",
   "metadata": {},
   "source": [
    "# Accuracy SVM"
   ]
  },
  {
   "cell_type": "code",
   "execution_count": 152,
   "metadata": {
    "collapsed": false
   },
   "outputs": [
    {
     "data": {
      "text/plain": [
       "0.57692307692307687"
      ]
     },
     "execution_count": 152,
     "metadata": {},
     "output_type": "execute_result"
    }
   ],
   "source": [
    "accuracySVM = accuracy_score(predSVM, test_labels)\n",
    "accuracySVM\n",
    "# < 50% Variance threshold \n",
    "# 53% Univariate feature selection \"SelectPercentile, f_classif\"\n",
    "# 57% Domain knowledge"
   ]
  },
  {
   "cell_type": "markdown",
   "metadata": {},
   "source": [
    "# Custom Accuracy SVM"
   ]
  },
  {
   "cell_type": "code",
   "execution_count": 153,
   "metadata": {
    "collapsed": false
   },
   "outputs": [
    {
     "name": "stdout",
     "output_type": "stream",
     "text": [
      "286\n",
      "249\n"
     ]
    },
    {
     "data": {
      "text/plain": [
       "0.8706293706293706"
      ]
     },
     "execution_count": 153,
     "metadata": {},
     "output_type": "execute_result"
    }
   ],
   "source": [
    "custom_acc(predSVM, test_labels)"
   ]
  },
  {
   "cell_type": "markdown",
   "metadata": {},
   "source": [
    "# Confusion matrix SVM"
   ]
  },
  {
   "cell_type": "code",
   "execution_count": 154,
   "metadata": {
    "collapsed": false
   },
   "outputs": [
    {
     "data": {
      "text/plain": [
       "array([[ 8,  0,  0,  0,  0,  6,  0,  0,  0],\n",
       "       [ 0,  8,  3,  0,  0, 25,  0,  0,  0],\n",
       "       [ 0,  1, 11,  0,  0,  1,  2,  5,  0],\n",
       "       [ 0,  0,  1, 13,  6,  0,  0, 15,  4],\n",
       "       [ 0,  0,  0,  2, 42,  0,  0,  2,  1],\n",
       "       [ 5,  3,  1,  0,  0, 47,  3,  0,  0],\n",
       "       [ 0,  2,  1,  0,  0,  2,  0,  0,  0],\n",
       "       [ 0,  1,  7,  1,  1,  1,  7, 34,  2],\n",
       "       [ 0,  0,  0,  2,  5,  0,  0,  3,  2]])"
      ]
     },
     "execution_count": 154,
     "metadata": {},
     "output_type": "execute_result"
    }
   ],
   "source": [
    "confm_svm = confusion_matrix(test_labels, predSVM)\n",
    "confm_svm\n",
    "#  labels 1 - 2 - 3- 4 - 5 - 12- 23- 34 - 45"
   ]
  },
  {
   "cell_type": "markdown",
   "metadata": {
    "collapsed": true
   },
   "source": [
    "# Logistic Regression"
   ]
  },
  {
   "cell_type": "code",
   "execution_count": 155,
   "metadata": {
    "collapsed": true
   },
   "outputs": [],
   "source": [
    "from sklearn import linear_model"
   ]
  },
  {
   "cell_type": "code",
   "execution_count": 156,
   "metadata": {
    "collapsed": true
   },
   "outputs": [],
   "source": [
    "logreg = linear_model.LogisticRegression(C=1e5)"
   ]
  },
  {
   "cell_type": "code",
   "execution_count": 157,
   "metadata": {
    "collapsed": false
   },
   "outputs": [
    {
     "data": {
      "text/plain": [
       "LogisticRegression(C=100000.0, class_weight=None, dual=False,\n",
       "          fit_intercept=True, intercept_scaling=1, max_iter=100,\n",
       "          multi_class='ovr', penalty='l2', random_state=None,\n",
       "          solver='liblinear', tol=0.0001, verbose=0)"
      ]
     },
     "execution_count": 157,
     "metadata": {},
     "output_type": "execute_result"
    }
   ],
   "source": [
    "logreg.fit(train_features_nb, train_labels)"
   ]
  },
  {
   "cell_type": "code",
   "execution_count": 158,
   "metadata": {
    "collapsed": false
   },
   "outputs": [],
   "source": [
    "predLR = logreg.predict(test_features_nb)"
   ]
  },
  {
   "cell_type": "markdown",
   "metadata": {},
   "source": [
    "# Logistic Regression Accuracy"
   ]
  },
  {
   "cell_type": "code",
   "execution_count": 159,
   "metadata": {
    "collapsed": false
   },
   "outputs": [
    {
     "data": {
      "text/plain": [
       "0.56993006993006989"
      ]
     },
     "execution_count": 159,
     "metadata": {},
     "output_type": "execute_result"
    }
   ],
   "source": [
    "accLR = accuracy_score(predLR, test_labels)\n",
    "accLR\n",
    "#50% Variance Threshold\n",
    "#55% Univariate\n",
    "#57% domain knowledge"
   ]
  },
  {
   "cell_type": "markdown",
   "metadata": {},
   "source": [
    "# Custom Accuracy SVM"
   ]
  },
  {
   "cell_type": "code",
   "execution_count": 160,
   "metadata": {
    "collapsed": false
   },
   "outputs": [
    {
     "name": "stdout",
     "output_type": "stream",
     "text": [
      "286\n",
      "240\n"
     ]
    },
    {
     "data": {
      "text/plain": [
       "0.8391608391608392"
      ]
     },
     "execution_count": 160,
     "metadata": {},
     "output_type": "execute_result"
    }
   ],
   "source": [
    "custom_acc(predLR, test_labels)"
   ]
  },
  {
   "cell_type": "markdown",
   "metadata": {
    "collapsed": true
   },
   "source": [
    "# Confusion matrix LR"
   ]
  },
  {
   "cell_type": "code",
   "execution_count": 161,
   "metadata": {
    "collapsed": false
   },
   "outputs": [
    {
     "data": {
      "text/plain": [
       "array([[ 7,  0,  0,  0,  0,  7,  0,  0,  0],\n",
       "       [ 0,  5,  1,  0,  0, 25,  1,  4,  0],\n",
       "       [ 1,  3,  1,  0,  0,  3,  0, 12,  0],\n",
       "       [ 0,  0,  0, 12,  9,  0,  0, 17,  1],\n",
       "       [ 0,  0,  0,  1, 43,  0,  0,  2,  1],\n",
       "       [ 2,  1,  0,  0,  0, 52,  0,  4,  0],\n",
       "       [ 0,  1,  0,  0,  0,  2,  0,  2,  0],\n",
       "       [ 0,  0,  0,  3,  2,  6,  1, 42,  0],\n",
       "       [ 0,  0,  0,  1,  5,  0,  0,  5,  1]])"
      ]
     },
     "execution_count": 161,
     "metadata": {},
     "output_type": "execute_result"
    }
   ],
   "source": [
    "confm_lr = confusion_matrix(test_labels, predLR)\n",
    "confm_lr\n",
    "#  labels 1 - 2 - 3- 4 - 5 - 12- 23- 34 - 45"
   ]
  },
  {
   "cell_type": "code",
   "execution_count": 192,
   "metadata": {
    "collapsed": false
   },
   "outputs": [],
   "source": [
    "list_none = [22]\n",
    "list_domain = [columns[\"GP\"],columns[\"GS\"],columns[\"MIN\"],columns[\"FG%\"],\n",
    "      columns[\"3P%\"],columns[\"FT%\"],columns[\"PTS\"],columns[\"YR\"],columns[\"POS\"],columns['3PM'],columns['FTM'],columns['FGM']]\n",
    "list_uni = [0, 2, 4, 5, 7, 9, 10, 13, 14, 15, 16, 17, 18, 19, 20, 21, 22, 23, 24]"
   ]
  },
  {
   "cell_type": "code",
   "execution_count": 199,
   "metadata": {
    "collapsed": false
   },
   "outputs": [],
   "source": [
    "def print_metrics(name, accuracy, c_acc, conf_matrix):\n",
    "    print \"Feature selection: %s\\n\" %name\n",
    "    print \"Accuracy score: %s\\n\" %accuracy\n",
    "    print \"Custom Accuracy score: %s\\n\" %c_acc\n",
    "    print \"Confusion matrix:\"\n",
    "    print \"\\n%s\" %conf_matrix\n",
    "    print\"\\n\"\n",
    "    \n",
    "def clf(clf, tr, tr_labels, val, val_labels):\n",
    "        clf.fit(tr, tr_labels)\n",
    "        \n",
    "        pred = clf.predict(val)\n",
    "        \n",
    "        acc = metrics.accuracy_score(val_labels,pred)\n",
    "        c_acc = custom_acc(pred, val_labels)\n",
    "        conf = metrics.confusion_matrix(val_labels, pred)\n",
    "        \n",
    "        return acc, c_acc, conf"
   ]
  },
  {
   "cell_type": "code",
   "execution_count": 200,
   "metadata": {
    "collapsed": false
   },
   "outputs": [],
   "source": [
    "def clf_all(CLF, l_none, l_domain, l_uni, l_vt, train_all, test_all, val_all):\n",
    "    tr_none, ts_none, val_none = np_featuriser(train_all, test_all, val_all, l_none)\n",
    "    #print tr_none.shape\n",
    "    tr_domain, ts_domain, val_domain = np_featuriser(train_all, test_all, val_all, l_domain)\n",
    "    \n",
    "    tr_uni, ts_uni, val_uni = np_featuriser(train_all, test_all, val_all, l_uni)\n",
    "    \n",
    "    tr_vt, ts_vt, val_vt = np_featuriser(train_all, test_all, val_all, l_vt)\n",
    "    \n",
    "    #clfnb = GaussianNB()\n",
    "    #print \"Naive Bayes\\n\"\n",
    "    \n",
    "    acc_none, c_acc, conf_none = clf(CLF, tr_none, train_labels, val_none, val_labels)\n",
    "    print_metrics(\"None\", acc_none, c_acc, conf_none)\n",
    "    \n",
    "    acc_domain, c_acc, conf_domain = clf(CLF, tr_domain, train_labels, val_domain, val_labels)\n",
    "    print_metrics(\"Domain knowledge\", acc_domain, c_acc, conf_domain)\n",
    "\n",
    "    acc_uni,c_acc, conf_uni = clf(CLF, tr_uni, train_labels, val_uni, val_labels)\n",
    "    print_metrics(\"Univariate\", acc_uni, c_acc, conf_uni)\n",
    "    \n",
    "    acc_vt, c_acc, conf_vt = clf(CLF, tr_vt, train_labels, val_vt, val_labels)\n",
    "    print_metrics(\"Variance Threshold\", acc_vt, c_acc, conf_vt)"
   ]
  },
  {
   "cell_type": "code",
   "execution_count": 201,
   "metadata": {
    "collapsed": false
   },
   "outputs": [
    {
     "name": "stdout",
     "output_type": "stream",
     "text": [
      "Feature selection: None\n",
      "\n",
      "Accuracy score: 0.527972027972\n",
      "\n",
      "Custom Accuracy score: 0.741258741259\n",
      "\n",
      "Confusion matrix:\n",
      "\n",
      "[[10  0  0  0  0  4  0  0  0]\n",
      " [ 2 11  3  0  2 15  3  0  0]\n",
      " [ 0  1 10  0  0  1  4  4  0]\n",
      " [ 0  0  0 13 18  0  0  4  4]\n",
      " [ 0  0  0  3 36  0  0  0  8]\n",
      " [ 2  0  0  0  1 53  3  0  0]\n",
      " [ 0  1  2  0  0  1  1  0  0]\n",
      " [ 0  0  1  1 27  3  7 15  0]\n",
      " [ 0  0  0  0  8  0  0  2  2]]\n",
      "\n",
      "\n",
      "Feature selection: Domain knowledge\n",
      "\n",
      "Accuracy score: 0.583916083916\n",
      "\n",
      "Custom Accuracy score: 0.832167832168\n",
      "\n",
      "Confusion matrix:\n",
      "\n",
      "[[10  0  0  0  0  4  0  0  0]\n",
      " [ 1  8  3  0  0 23  1  0  0]\n",
      " [ 0  0 10  0  0  2  5  3  0]\n",
      " [ 0  0  0 14 11  0  0 11  3]\n",
      " [ 0  0  0  1 38  0  0  0  8]\n",
      " [ 2  1  0  0  0 55  1  0  0]\n",
      " [ 0  0  2  0  0  2  1  0  0]\n",
      " [ 0  0  1  1 12  5  6 29  0]\n",
      " [ 0  0  0  0  6  0  0  4  2]]\n",
      "\n",
      "\n",
      "Feature selection: Univariate\n",
      "\n",
      "Accuracy score: 0.381118881119\n",
      "\n",
      "Custom Accuracy score: 0.524475524476\n",
      "\n",
      "Confusion matrix:\n",
      "\n",
      "[[ 0  7  0  0  2  5  0  0  0]\n",
      " [ 0 10  4  0  2 19  0  1  0]\n",
      " [ 0  4  5  2  3  6  0  0  0]\n",
      " [ 0  0  1  6 27  2  1  2  0]\n",
      " [ 0  0  0  6 40  0  0  0  1]\n",
      " [ 0  0  0  0 15 41  1  2  0]\n",
      " [ 0  1  2  0  1  1  0  0  0]\n",
      " [ 0  1  0  1 37  8  0  7  0]\n",
      " [ 0  0  0  0 10  0  0  2  0]]\n",
      "\n",
      "\n",
      "Feature selection: Variance Threshold\n",
      "\n",
      "Accuracy score: 0.576923076923\n",
      "\n",
      "Custom Accuracy score: 0.804195804196\n",
      "\n",
      "Confusion matrix:\n",
      "\n",
      "[[12  0  0  0  0  2  0  0  0]\n",
      " [ 1  8  2  0  0 20  5  0  0]\n",
      " [ 0  0 10  0  0  1  6  3  0]\n",
      " [ 0  0  0 14 18  0  0  5  2]\n",
      " [ 0  0  0  2 38  0  0  0  7]\n",
      " [ 2  1  0  0  0 53  3  0  0]\n",
      " [ 0  1  2  0  0  1  1  0  0]\n",
      " [ 0  0  1  0 17  4  5 27  0]\n",
      " [ 0  0  0  0  8  0  0  2  2]]\n",
      "\n",
      "\n"
     ]
    }
   ],
   "source": [
    "clfnb = GaussianNB()\n",
    "clf_all(clfnb, list_none, list_domain, list_uni, list_vt, train_all, test_all, val_all)"
   ]
  },
  {
   "cell_type": "code",
   "execution_count": 202,
   "metadata": {
    "collapsed": false
   },
   "outputs": [
    {
     "name": "stdout",
     "output_type": "stream",
     "text": [
      "Feature selection: None\n",
      "\n",
      "Accuracy score: 0.618881118881\n",
      "\n",
      "Custom Accuracy score: 0.902097902098\n",
      "\n",
      "Confusion matrix:\n",
      "\n",
      "[[ 7  0  0  0  0  7  0  0  0]\n",
      " [ 0 14  0  0  0 21  1  0  0]\n",
      " [ 0  2  9  0  0  1  3  5  0]\n",
      " [ 0  0  0 17  5  0  0 14  3]\n",
      " [ 0  0  0  1 42  0  0  3  1]\n",
      " [ 3  3  2  0  0 51  0  0  0]\n",
      " [ 0  2  1  0  0  2  0  0  0]\n",
      " [ 0  0  6  4  3  2  2 37  0]\n",
      " [ 0  0  0  2  5  0  0  5  0]]\n",
      "\n",
      "\n",
      "Feature selection: Domain knowledge\n",
      "\n",
      "Accuracy score: 0.583916083916\n",
      "\n",
      "Custom Accuracy score: 0.877622377622\n",
      "\n",
      "Confusion matrix:\n",
      "\n",
      "[[ 8  0  0  0  0  6  0  0  0]\n",
      " [ 0  8  1  0  0 26  1  0  0]\n",
      " [ 0  1  9  0  0  2  4  4  0]\n",
      " [ 0  0  1 11  7  0  0 16  4]\n",
      " [ 0  0  0  3 42  0  0  1  1]\n",
      " [ 2  2  0  0  0 53  1  1  0]\n",
      " [ 0  2  1  0  0  2  0  0  0]\n",
      " [ 0  0  3  4  2  2  6 35  2]\n",
      " [ 0  0  0  3  5  0  0  3  1]]\n",
      "\n",
      "\n",
      "Feature selection: Univariate\n",
      "\n",
      "Accuracy score: 0.405594405594\n",
      "\n",
      "Custom Accuracy score: 0.629370629371\n",
      "\n",
      "Confusion matrix:\n",
      "\n",
      "[[ 0  0  1  0  0 13  0  0  0]\n",
      " [ 0  1  2  0  0 28  0  5  0]\n",
      " [ 0  0  2  1  2 10  0  5  0]\n",
      " [ 0  0  0  3 28  1  0  7  0]\n",
      " [ 0  0  0  0 44  2  0  1  0]\n",
      " [ 0  0  0  0  3 50  0  6  0]\n",
      " [ 0  0  1  0  1  1  0  2  0]\n",
      " [ 0  0  0  1 27 10  0 16  0]\n",
      " [ 0  0  0  0  9  0  0  3  0]]\n",
      "\n",
      "\n",
      "Feature selection: Variance Threshold\n",
      "\n",
      "Accuracy score: 0.618881118881\n",
      "\n",
      "Custom Accuracy score: 0.905594405594\n",
      "\n",
      "Confusion matrix:\n",
      "\n",
      "[[ 9  0  0  0  0  5  0  0  0]\n",
      " [ 0 14  0  0  0 21  1  0  0]\n",
      " [ 1  1 11  0  0  0  2  5  0]\n",
      " [ 0  0  0 18  5  0  0 14  2]\n",
      " [ 0  0  0  3 42  0  0  1  1]\n",
      " [ 6  2  3  0  0 47  1  0  0]\n",
      " [ 0  1  1  0  0  2  1  0  0]\n",
      " [ 0  0 10  5  1  2  2 33  1]\n",
      " [ 0  0  0  3  3  0  0  4  2]]\n",
      "\n",
      "\n"
     ]
    }
   ],
   "source": [
    "svm = SVC()\n",
    "svm.set_params(kernel='linear')\n",
    "clf_all(svm, list_none, list_domain, list_uni, list_vt, train_all, test_all, val_all)"
   ]
  },
  {
   "cell_type": "code",
   "execution_count": 203,
   "metadata": {
    "collapsed": false
   },
   "outputs": [
    {
     "name": "stdout",
     "output_type": "stream",
     "text": [
      "Feature selection: None\n",
      "\n",
      "Accuracy score: 0.548951048951\n",
      "\n",
      "Custom Accuracy score: 0.79020979021\n",
      "\n",
      "Confusion matrix:\n",
      "\n",
      "[[ 6  0  0  0  0  8  0  0  0]\n",
      " [ 1  8  3  0  0 20  0  4  0]\n",
      " [ 0  2  4  4  0  2  0  8  0]\n",
      " [ 0  0  0 14 12  0  0 12  1]\n",
      " [ 0  0  0  1 44  0  0  1  1]\n",
      " [ 8  0  0  0  0 43  1  7  0]\n",
      " [ 0  1  0  0  0  2  0  2  0]\n",
      " [ 0  0  0  4  5  6  1 38  0]\n",
      " [ 0  0  0  1  5  0  0  6  0]]\n",
      "\n",
      "\n",
      "Feature selection: Domain knowledge\n",
      "\n",
      "Accuracy score: 0.555944055944\n",
      "\n",
      "Custom Accuracy score: 0.818181818182\n",
      "\n",
      "Confusion matrix:\n",
      "\n",
      "[[ 5  0  0  0  0  9  0  0  0]\n",
      " [ 0  5  1  0  0 25  1  4  0]\n",
      " [ 0  2  1  2  0  3  0 12  0]\n",
      " [ 0  0  0 15 12  0  0 12  0]\n",
      " [ 0  0  0  0 43  0  0  3  1]\n",
      " [ 3  1  0  0  0 51  0  4  0]\n",
      " [ 0  0  0  0  0  2  0  3  0]\n",
      " [ 0  0  0  3  5  6  1 39  0]\n",
      " [ 0  0  0  2  6  0  0  4  0]]\n",
      "\n",
      "\n",
      "Feature selection: Univariate\n",
      "\n",
      "Accuracy score: 0.409090909091\n",
      "\n",
      "Custom Accuracy score: 0.622377622378\n",
      "\n",
      "Confusion matrix:\n",
      "\n",
      "[[ 1  0  1  0  0 12  0  0  0]\n",
      " [ 1  1  1  0  0 25  0  8  0]\n",
      " [ 0  0  3  1  2 10  0  4  0]\n",
      " [ 0  0  0  4 26  1  0  8  0]\n",
      " [ 0  0  0  3 40  1  0  3  0]\n",
      " [ 0  0  0  0  4 48  1  6  0]\n",
      " [ 0  0  2  0  0  1  0  2  0]\n",
      " [ 0  0  0  2 23  9  0 20  0]\n",
      " [ 0  0  0  0  8  0  0  4  0]]\n",
      "\n",
      "\n",
      "Feature selection: Variance Threshold\n",
      "\n",
      "Accuracy score: 0.559440559441\n",
      "\n",
      "Custom Accuracy score: 0.77972027972\n",
      "\n",
      "Confusion matrix:\n",
      "\n",
      "[[ 7  0  0  0  0  7  0  0  0]\n",
      " [ 0  7  3  1  0 21  0  4  0]\n",
      " [ 1  2  2  3  0  5  0  7  0]\n",
      " [ 0  0  0 15 10  0  0 11  3]\n",
      " [ 0  0  0  1 42  0  0  3  1]\n",
      " [ 6  0  0  0  0 46  1  6  0]\n",
      " [ 0  1  0  0  0  2  0  2  0]\n",
      " [ 0  0  0  2  4  7  1 40  0]\n",
      " [ 0  0  0  1  3  0  0  7  1]]\n",
      "\n",
      "\n"
     ]
    }
   ],
   "source": [
    "logreg = linear_model.LogisticRegression(C=1e5)\n",
    "clf_all(logreg, list_none, list_domain, list_uni, list_vt, train_all, test_all, val_all)"
   ]
  },
  {
   "cell_type": "code",
   "execution_count": null,
   "metadata": {
    "collapsed": true
   },
   "outputs": [],
   "source": []
  }
 ],
 "metadata": {
  "kernelspec": {
   "display_name": "Python 2",
   "language": "python",
   "name": "python2"
  },
  "language_info": {
   "codemirror_mode": {
    "name": "ipython",
    "version": 2
   },
   "file_extension": ".py",
   "mimetype": "text/x-python",
   "name": "python",
   "nbconvert_exporter": "python",
   "pygments_lexer": "ipython2",
   "version": "2.7.11"
  }
 },
 "nbformat": 4,
 "nbformat_minor": 0
}
