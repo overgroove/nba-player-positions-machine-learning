{
 "cells": [
  {
   "cell_type": "code",
   "execution_count": 53,
   "metadata": {
    "collapsed": true
   },
   "outputs": [],
   "source": [
    "import numpy as np\n",
    "from pandas import DataFrame\n",
    "import pandas as pd\n",
    "import scipy as sp\n",
    "from sklearn.naive_bayes import GaussianNB"
   ]
  },
  {
   "cell_type": "markdown",
   "metadata": {},
   "source": [
    "Učitavanje fajlova: "
   ]
  },
  {
   "cell_type": "code",
   "execution_count": 54,
   "metadata": {
    "collapsed": false
   },
   "outputs": [],
   "source": [
    "train_data = sp.genfromtxt(\"train_data.txt\", delimiter=\"\\t\")\n",
    "\n",
    "test_data = sp.genfromtxt(\"test_data.txt\", delimiter=\"\\t\")\n",
    "\n",
    "val_data =  sp.genfromtxt(\"val_data.txt\", delimiter=\"\\t\")"
   ]
  },
  {
   "cell_type": "markdown",
   "metadata": {},
   "source": [
    "Dimenzije:"
   ]
  },
  {
   "cell_type": "code",
   "execution_count": 55,
   "metadata": {
    "collapsed": false
   },
   "outputs": [
    {
     "name": "stdout",
     "output_type": "stream",
     "text": [
      "(858L, 25L)\n",
      "(286L, 25L)\n",
      "(286L, 25L)\n"
     ]
    }
   ],
   "source": [
    "print(train_data.shape)\n",
    "print(test_data.shape)\n",
    "print(val_data.shape)"
   ]
  },
  {
   "cell_type": "code",
   "execution_count": 56,
   "metadata": {
    "collapsed": false
   },
   "outputs": [
    {
     "name": "stdout",
     "output_type": "stream",
     "text": [
      "(857L, 25L)\n",
      "(286L, 25L)\n",
      "(286L, 25L)\n"
     ]
    }
   ],
   "source": [
    "train_data = train_data[~np.isnan(train_data).any(axis=1)]\n",
    "test_data = test_data[~np.isnan(test_data).any(axis=1)]\n",
    "val_data = val_data[~np.isnan(val_data).any(axis=1)]\n",
    "print(train_data.shape)\n",
    "print(test_data.shape)\n",
    "print(val_data.shape)"
   ]
  },
  {
   "cell_type": "markdown",
   "metadata": {},
   "source": [
    "Brisanje proba: "
   ]
  },
  {
   "cell_type": "code",
   "execution_count": 57,
   "metadata": {
    "collapsed": false
   },
   "outputs": [
    {
     "data": {
      "text/plain": [
       "array([[  4.79000000e+02,   8.10000000e+01,   2.29000000e+01,\n",
       "          4.08000000e+00,   7.65000000e+00,   5.34000000e-01,\n",
       "          1.00000000e-02,   4.00000000e-02,   1.76000000e-01,\n",
       "          2.72000000e+00,   3.45000000e+00,   7.88000000e-01,\n",
       "          1.98000000e+00,   3.03000000e+00,   5.01000000e+00,\n",
       "          6.80000000e-01,   4.30000000e-01,   4.10000000e-01,\n",
       "          2.39000000e+00,   1.22000000e+00,   1.08900000e+01,\n",
       "          8.00000000e+00,   3.40000000e+01,   1.12000000e+02,\n",
       "          2.06000000e+02]])"
      ]
     },
     "execution_count": 57,
     "metadata": {},
     "output_type": "execute_result"
    }
   ],
   "source": [
    "train_data[:1]"
   ]
  },
  {
   "cell_type": "code",
   "execution_count": 58,
   "metadata": {
    "collapsed": false
   },
   "outputs": [
    {
     "data": {
      "text/plain": [
       "array([  4.79000000e+02,   2.29000000e+01,   4.08000000e+00,\n",
       "         7.65000000e+00,   5.34000000e-01,   1.00000000e-02,\n",
       "         4.00000000e-02,   1.76000000e-01,   2.72000000e+00,\n",
       "         3.45000000e+00,   7.88000000e-01,   1.98000000e+00,\n",
       "         3.03000000e+00,   5.01000000e+00,   6.80000000e-01,\n",
       "         4.30000000e-01,   4.10000000e-01,   2.39000000e+00,\n",
       "         1.22000000e+00,   1.08900000e+01,   8.00000000e+00,\n",
       "         3.40000000e+01,   1.12000000e+02,   2.06000000e+02])"
      ]
     },
     "execution_count": 58,
     "metadata": {},
     "output_type": "execute_result"
    }
   ],
   "source": [
    "np.delete(train_data[:1], 1)"
   ]
  },
  {
   "cell_type": "markdown",
   "metadata": {},
   "source": [
    "# Features"
   ]
  },
  {
   "cell_type": "code",
   "execution_count": 59,
   "metadata": {
    "collapsed": false
   },
   "outputs": [],
   "source": [
    "#train_features = np.delete(train_data, 22, 1)\n",
    "#test_features = np.delete(test_data, 22, 1)\n",
    "#val_features = np.delete(val_data,22,1)\n",
    "                          \n",
    "#train_features = np.delete(train_features, 21, 1)\n",
    "#test_features = np.delete(test_features, 21, 1)\n",
    "#val_features = np.delete(val_features,21,1)\n",
    "                          \n",
    "#print(train_features.shape)\n",
    "#print(test_features.shape)\n",
    "#print(val_features.shape)\n",
    "\n",
    "columns = {\"GP\":0, \"GS\":1, \"MIN\":2, \"FGM\":3,\"FGA\":4,\"FG%\":5,\"3PM\":6,\"3PA\":7,\"3P%\":8,\"FTM\":9,\"FTA\":10,\"FT%\":11,\"OFF\":12,\"DEF\":13,\n",
    "              \"TRB\":14,\"AST\":15,\"STL\":16,\"BLK\":17,\"PF\":18,\"TOV\":19,\"PTS\":20,\"YR\":21,\"POS\":22,\"W\":23,\"H\":24} \n"
   ]
  },
  {
   "cell_type": "code",
   "execution_count": 60,
   "metadata": {
    "collapsed": true
   },
   "outputs": [],
   "source": [
    "def remove_multiple_features(feature_list):\n",
    "    \n",
    "    fl = sorted(feature_list,reverse=True)\n",
    "    #print fl\n",
    "    train_features = train_data\n",
    "    test_features = test_data\n",
    "    val_features = val_data\n",
    "    \n",
    "    for i in fl:\n",
    "        #print i\n",
    "        train_features = np.delete(train_features, i, 1)\n",
    "        #print i\n",
    "        test_features = np.delete(test_features, i, 1)\n",
    "        #print i\n",
    "        val_features = np.delete(val_features,i,1)\n",
    "        \n",
    "    print(train_features.shape)\n",
    "    print(test_features.shape)\n",
    "    print(val_features.shape)\n",
    "    return [train_features, test_features, val_features]"
   ]
  },
  {
   "cell_type": "code",
   "execution_count": 61,
   "metadata": {
    "collapsed": false
   },
   "outputs": [
    {
     "name": "stdout",
     "output_type": "stream",
     "text": [
      "(857L, 25L)\n",
      "(286L, 25L)\n",
      "(286L, 25L)\n"
     ]
    }
   ],
   "source": [
    "print(train_data.shape)\n",
    "print(test_data.shape)\n",
    "print(val_data.shape)"
   ]
  },
  {
   "cell_type": "code",
   "execution_count": 62,
   "metadata": {
    "collapsed": false
   },
   "outputs": [],
   "source": [
    "fl = [columns[\"GP\"],columns[\"GS\"],columns[\"MIN\"],columns[\"FG%\"],\n",
    "      columns[\"3P%\"],columns[\"FT%\"],columns[\"PTS\"],columns[\"YR\"],columns[\"POS\"]]"
   ]
  },
  {
   "cell_type": "code",
   "execution_count": 63,
   "metadata": {
    "collapsed": false
   },
   "outputs": [
    {
     "name": "stdout",
     "output_type": "stream",
     "text": [
      "(857L, 16L)\n",
      "(286L, 16L)\n",
      "(286L, 16L)\n"
     ]
    }
   ],
   "source": [
    "features = remove_multiple_features(fl)\n",
    "train_features = features[0]\n",
    "test_features = features[1]\n",
    "val_features = features[2]"
   ]
  },
  {
   "cell_type": "markdown",
   "metadata": {},
   "source": [
    "# Labels"
   ]
  },
  {
   "cell_type": "code",
   "execution_count": 65,
   "metadata": {
    "collapsed": false
   },
   "outputs": [
    {
     "name": "stdout",
     "output_type": "stream",
     "text": [
      "(857L,)\n",
      "(286L,)\n",
      "(286L,)\n"
     ]
    }
   ],
   "source": [
    "train_labels = train_data[:,22]\n",
    "test_labels = test_data[:,22]\n",
    "val_labels = val_data[:,22]\n",
    "print(train_labels.shape)\n",
    "print(test_labels.shape)\n",
    "print(val_labels.shape)"
   ]
  },
  {
   "cell_type": "markdown",
   "metadata": {},
   "source": [
    "# Naive Bayes"
   ]
  },
  {
   "cell_type": "code",
   "execution_count": 66,
   "metadata": {
    "collapsed": true
   },
   "outputs": [],
   "source": [
    "clf = GaussianNB()"
   ]
  },
  {
   "cell_type": "code",
   "execution_count": 67,
   "metadata": {
    "collapsed": false
   },
   "outputs": [
    {
     "data": {
      "text/plain": [
       "GaussianNB()"
      ]
     },
     "execution_count": 67,
     "metadata": {},
     "output_type": "execute_result"
    }
   ],
   "source": [
    "clf.fit(train_features, train_labels)"
   ]
  },
  {
   "cell_type": "code",
   "execution_count": 68,
   "metadata": {
    "collapsed": false
   },
   "outputs": [
    {
     "data": {
      "text/plain": [
       "array([ 12.,   1.,   5.,  45.,   3.,   3.,   4.,   5.,  12.,  34.,  12.,\n",
       "         5.,   4.,  45.,  12.,  12.,  12.,   5.,  12.,   5.,   5.,   3.,\n",
       "         5.,  34.,  12.,  12.,  34.,   1.,  12.,   1.,   4.,  34.,  12.,\n",
       "         5.,  12.,  12.,   5.,  34.,  12.,  12.,   5.,   5.,  34.,  23.,\n",
       "         3.,   5.,  12.,  12.,   5.,  12.,   5.,  45.,  34.,  12.,   5.,\n",
       "         5.,  34.,  12.,   5.,  12.,   5.,   5.,   5.,  12.,   5.,  34.,\n",
       "        34.,  12.,  12.,   5.,  12.,   4.,   2.,   5.,  12.,  12.,  12.,\n",
       "         5.,  45.,   5.,  12.,  23.,  12.,  23.,   1.,   3.,  34.,  23.,\n",
       "         5.,   5.,  12.,   1.,  12.,   3.,   5.,  12.,  23.,  23.,   5.,\n",
       "         5.,  23.,  23.,  45.,   2.,   3.,   5.,   5.,   5.,   5.,  34.,\n",
       "         5.,   5.,  12.,  23.,   1.,  12.,   5.,   5.,   3.,   5.,  34.,\n",
       "         5.,  34.,   3.,   2.,   4.,   4.,  34.,   1.,   5.,  34.,   5.,\n",
       "         5.,   1.,  45.,   5.,   1.,   4.,  12.,  45.,   4.,   1.,   5.,\n",
       "        34.,   4.,   1.,  12.,   2.,  23.,   5.,   3.,  12.,   1.,   1.,\n",
       "         5.,   4.,   5.,   4.,  34.,  12.,   5.,  23.,   5.,   4.,  12.,\n",
       "        12.,  12.,  12.,   5.,  12.,   3.,  12.,   5.,   5.,   5.,  12.,\n",
       "         1.,   5.,   3.,   2.,  34.,  23.,   3.,   5.,   5.,   5.,   5.,\n",
       "         2.,   4.,   1.,  45.,   2.,   2.,  12.,  12.,  12.,  34.,   3.,\n",
       "         5.,  12.,  34.,  12.,  12.,   5.,  12.,  12.,  45.,   5.,   5.,\n",
       "        12.,  34.,  12.,   5.,  12.,  34.,  23.,   5.,  23.,  34.,   5.,\n",
       "        23.,   5.,  12.,   4.,  34.,  12.,  12.,  12.,   3.,   5.,  23.,\n",
       "        12.,   5.,   5.,  12.,  34.,  34.,  12.,  12.,  12.,  12.,   2.,\n",
       "        12.,  45.,  12.,  23.,  12.,   5.,  12.,   1.,   5.,  12.,   5.,\n",
       "         4.,   5.,   5.,   5.,   3.,  12.,   5.,  12.,   5.,  12.,  45.,\n",
       "        34.,   5.,  34.,  12.,  12.,   5.,   5.,   5.,   5.,   5.,  12.,\n",
       "        12.,   5.,  12.,  23.,  34.,   5.,   5.,  34.,  12.,  12.,  12.])"
      ]
     },
     "execution_count": 68,
     "metadata": {},
     "output_type": "execute_result"
    }
   ],
   "source": [
    "pred = clf.predict(test_features)\n",
    "pred"
   ]
  },
  {
   "cell_type": "code",
   "execution_count": 69,
   "metadata": {
    "collapsed": false
   },
   "outputs": [
    {
     "data": {
      "text/plain": [
       "array([  2.,   1.,   5.,   5.,   2.,   3.,   4.,  45.,  12.,   4.,  12.,\n",
       "        34.,   4.,  45.,  12.,   2.,  12.,  45.,   2.,  45.,  34.,   3.,\n",
       "         5.,  34.,   3.,   2.,  34.,   1.,  12.,   1.,   5.,  34.,  12.,\n",
       "         4.,  12.,   2.,   4.,  34.,   2.,  12.,   4.,  34.,  34.,   3.,\n",
       "         3.,   4.,  12.,  12.,   4.,   2.,   5.,  45.,  34.,  12.,   4.,\n",
       "         5.,  34.,  12.,  45.,  12.,   5.,   5.,   5.,  12.,  34.,  34.,\n",
       "        34.,  12.,  12.,   4.,   2.,   4.,   2.,   5.,  12.,   2.,   2.,\n",
       "        45.,   5.,   5.,  12.,   2.,   1.,   2.,   1.,   2.,  34.,  34.,\n",
       "         5.,  34.,  12.,   2.,   2.,   2.,  34.,  34.,   3.,  34.,   4.,\n",
       "         4.,  12.,  34.,  45.,   2.,  23.,   4.,  34.,   4.,  34.,  34.,\n",
       "        34.,   4.,  12.,  12.,   1.,  12.,   5.,  34.,   3.,   5.,   3.,\n",
       "        45.,  34.,   3.,   2.,   4.,   4.,  34.,   1.,   5.,   4.,   5.,\n",
       "         4.,   1.,   5.,   5.,   1.,   4.,   2.,   4.,   4.,   2.,  34.,\n",
       "         3.,   4.,  12.,  12.,   2.,   3.,   5.,  34.,   2.,   1.,  12.,\n",
       "         5.,   4.,  45.,   4.,   4.,  12.,   5.,  23.,   5.,   4.,  12.,\n",
       "        12.,   2.,   2.,   5.,   2.,   3.,  12.,   5.,   5.,   5.,   2.,\n",
       "         1.,   5.,   3.,  23.,   4.,   3.,  23.,   4.,   4.,  34.,  45.,\n",
       "         2.,   4.,   1.,   5.,   2.,   2.,   2.,  12.,  34.,  34.,   3.,\n",
       "         5.,  12.,  34.,  12.,  23.,   5.,  12.,   1.,   5.,  34.,  34.,\n",
       "        12.,   3.,  12.,  34.,  12.,  34.,  34.,   5.,  34.,  34.,   5.,\n",
       "        12.,   5.,  12.,   4.,  34.,  12.,  34.,  12.,   3.,   4.,   3.,\n",
       "        12.,   5.,   5.,  12.,  34.,  34.,  12.,  12.,  12.,  12.,  12.,\n",
       "        12.,   4.,  12.,  34.,  12.,   5.,  12.,   1.,   5.,  12.,  34.,\n",
       "         4.,  34.,   5.,   5.,   3.,  12.,   4.,   2.,  34.,  34.,   5.,\n",
       "        34.,   4.,  34.,  12.,  12.,   5.,   4.,   5.,   5.,  45.,  34.,\n",
       "        12.,   5.,  12.,   2.,  34.,  34.,   5.,   3.,   2.,  12.,   2.])"
      ]
     },
     "execution_count": 69,
     "metadata": {},
     "output_type": "execute_result"
    }
   ],
   "source": [
    "test_labels"
   ]
  },
  {
   "cell_type": "markdown",
   "metadata": {
    "collapsed": false
   },
   "source": [
    "# Preciznost"
   ]
  },
  {
   "cell_type": "code",
   "execution_count": 70,
   "metadata": {
    "collapsed": false
   },
   "outputs": [
    {
     "data": {
      "text/plain": [
       "0.56993006993006989"
      ]
     },
     "execution_count": 70,
     "metadata": {},
     "output_type": "execute_result"
    }
   ],
   "source": [
    "from sklearn.metrics import accuracy_score\n",
    "accuracy = accuracy_score(pred, test_labels)\n",
    "accuracy"
   ]
  },
  {
   "cell_type": "markdown",
   "metadata": {},
   "source": [
    "# Custom preciznost"
   ]
  },
  {
   "cell_type": "code",
   "execution_count": 71,
   "metadata": {
    "collapsed": false
   },
   "outputs": [],
   "source": [
    "def custom_acc(pred_labels, test_labels):\n",
    "    hit = 0\n",
    "    num = 0\n",
    "    j = 0\n",
    "    for i in pred_labels:\n",
    "        a = i\n",
    "        a = str(int(a))\n",
    "        b = test_labels[j]\n",
    "        b = str(int(b))\n",
    "        if a == b:\n",
    "            hit = hit+1\n",
    "        elif len(a) == 1 and len(b) == 2:\n",
    "            if a == b[0] or a == b[1]:\n",
    "                hit = hit+1\n",
    "        elif len(a) == 2 and len(b) == 1:\n",
    "            if a[0] == b or a[1] == b:\n",
    "                hit = hit+1\n",
    "        num = num+1\n",
    "        j = j+1\n",
    "    print num\n",
    "    print hit\n",
    "    return float(hit)/num\n"
   ]
  },
  {
   "cell_type": "code",
   "execution_count": 72,
   "metadata": {
    "collapsed": false
   },
   "outputs": [
    {
     "name": "stdout",
     "output_type": "stream",
     "text": [
      "286\n",
      "226\n"
     ]
    },
    {
     "data": {
      "text/plain": [
       "0.7902097902097902"
      ]
     },
     "execution_count": 72,
     "metadata": {},
     "output_type": "execute_result"
    }
   ],
   "source": [
    "custom_acc(pred, test_labels)"
   ]
  },
  {
   "cell_type": "markdown",
   "metadata": {
    "collapsed": false
   },
   "source": [
    "# Validation     "
   ]
  },
  {
   "cell_type": "code",
   "execution_count": 73,
   "metadata": {
    "collapsed": false
   },
   "outputs": [
    {
     "data": {
      "text/plain": [
       "array([ 12.,   1.,   5.,  45.,   3.,   3.,   4.,   5.,  12.,  34.,  12.,\n",
       "         5.,   4.,  45.,  12.,  12.,  12.,   5.,  12.,   5.,   5.,   3.,\n",
       "         5.,  34.,  12.,  12.,  34.,   1.,  12.,   1.,   4.,  34.,  12.,\n",
       "         5.,  12.,  12.,   5.,  34.,  12.,  12.,   5.,   5.,  34.,  23.,\n",
       "         3.,   5.,  12.,  12.,   5.,  12.,   5.,  45.,  34.,  12.,   5.,\n",
       "         5.,  34.,  12.,   5.,  12.,   5.,   5.,   5.,  12.,   5.,  34.,\n",
       "        34.,  12.,  12.,   5.,  12.,   4.,   2.,   5.,  12.,  12.,  12.,\n",
       "         5.,  45.,   5.,  12.,  23.,  12.,  23.,   1.,   3.,  34.,  23.,\n",
       "         5.,   5.,  12.,   1.,  12.,   3.,   5.,  12.,  23.,  23.,   5.,\n",
       "         5.,  23.,  23.,  45.,   2.,   3.,   5.,   5.,   5.,   5.,  34.,\n",
       "         5.,   5.,  12.,  23.,   1.,  12.,   5.,   5.,   3.,   5.,  34.,\n",
       "         5.,  34.,   3.,   2.,   4.,   4.,  34.,   1.,   5.,  34.,   5.,\n",
       "         5.,   1.,  45.,   5.,   1.,   4.,  12.,  45.,   4.,   1.,   5.,\n",
       "        34.,   4.,   1.,  12.,   2.,  23.,   5.,   3.,  12.,   1.,   1.,\n",
       "         5.,   4.,   5.,   4.,  34.,  12.,   5.,  23.,   5.,   4.,  12.,\n",
       "        12.,  12.,  12.,   5.,  12.,   3.,  12.,   5.,   5.,   5.,  12.,\n",
       "         1.,   5.,   3.,   2.,  34.,  23.,   3.,   5.,   5.,   5.,   5.,\n",
       "         2.,   4.,   1.,  45.,   2.,   2.,  12.,  12.,  12.,  34.,   3.,\n",
       "         5.,  12.,  34.,  12.,  12.,   5.,  12.,  12.,  45.,   5.,   5.,\n",
       "        12.,  34.,  12.,   5.,  12.,  34.,  23.,   5.,  23.,  34.,   5.,\n",
       "        23.,   5.,  12.,   4.,  34.,  12.,  12.,  12.,   3.,   5.,  23.,\n",
       "        12.,   5.,   5.,  12.,  34.,  34.,  12.,  12.,  12.,  12.,   2.,\n",
       "        12.,  45.,  12.,  23.,  12.,   5.,  12.,   1.,   5.,  12.,   5.,\n",
       "         4.,   5.,   5.,   5.,   3.,  12.,   5.,  12.,   5.,  12.,  45.,\n",
       "        34.,   5.,  34.,  12.,  12.,   5.,   5.,   5.,   5.,   5.,  12.,\n",
       "        12.,   5.,  12.,  23.,  34.,   5.,   5.,  34.,  12.,  12.,  12.])"
      ]
     },
     "execution_count": 73,
     "metadata": {},
     "output_type": "execute_result"
    }
   ],
   "source": [
    "pred2 = clf.predict(val_features)\n",
    "pred2"
   ]
  },
  {
   "cell_type": "code",
   "execution_count": 74,
   "metadata": {
    "collapsed": false
   },
   "outputs": [
    {
     "data": {
      "text/plain": [
       "0.56993006993006989"
      ]
     },
     "execution_count": 74,
     "metadata": {},
     "output_type": "execute_result"
    }
   ],
   "source": [
    "accuracy2 = accuracy_score(pred2, val_labels)\n",
    "accuracy2"
   ]
  },
  {
   "cell_type": "code",
   "execution_count": 75,
   "metadata": {
    "collapsed": false
   },
   "outputs": [
    {
     "name": "stdout",
     "output_type": "stream",
     "text": [
      "286\n",
      "226\n"
     ]
    },
    {
     "data": {
      "text/plain": [
       "0.7902097902097902"
      ]
     },
     "execution_count": 75,
     "metadata": {},
     "output_type": "execute_result"
    }
   ],
   "source": [
    "custom_acc(pred2, val_labels)"
   ]
  },
  {
   "cell_type": "markdown",
   "metadata": {
    "collapsed": true
   },
   "source": [
    "# SVM"
   ]
  },
  {
   "cell_type": "code",
   "execution_count": 71,
   "metadata": {
    "collapsed": true
   },
   "outputs": [],
   "source": [
    "from sklearn.svm import SVC"
   ]
  },
  {
   "cell_type": "code",
   "execution_count": 73,
   "metadata": {
    "collapsed": true
   },
   "outputs": [],
   "source": [
    "clf2 = SVC()"
   ]
  },
  {
   "cell_type": "code",
   "execution_count": 75,
   "metadata": {
    "collapsed": false
   },
   "outputs": [
    {
     "data": {
      "text/plain": [
       "SVC(C=1.0, cache_size=200, class_weight=None, coef0=0.0, degree=3, gamma=0.0,\n",
       "  kernel='rbf', max_iter=-1, probability=False, random_state=None,\n",
       "  shrinking=True, tol=0.001, verbose=False)"
      ]
     },
     "execution_count": 75,
     "metadata": {},
     "output_type": "execute_result"
    }
   ],
   "source": [
    "clf2.fit(train_features, train_labels)"
   ]
  },
  {
   "cell_type": "code",
   "execution_count": 79,
   "metadata": {
    "collapsed": false
   },
   "outputs": [],
   "source": [
    "pred2 = clf2.predict(test_features)"
   ]
  },
  {
   "cell_type": "code",
   "execution_count": 80,
   "metadata": {
    "collapsed": false
   },
   "outputs": [
    {
     "data": {
      "text/plain": [
       "0.20820189274447951"
      ]
     },
     "execution_count": 80,
     "metadata": {},
     "output_type": "execute_result"
    }
   ],
   "source": [
    "accuracy2 = accuracy_score(pred2, test_labels)\n",
    "accuracy2"
   ]
  },
  {
   "cell_type": "code",
   "execution_count": null,
   "metadata": {
    "collapsed": true
   },
   "outputs": [],
   "source": []
  }
 ],
 "metadata": {
  "kernelspec": {
   "display_name": "Python 2",
   "language": "python",
   "name": "python2"
  },
  "language_info": {
   "codemirror_mode": {
    "name": "ipython",
    "version": 2
   },
   "file_extension": ".py",
   "mimetype": "text/x-python",
   "name": "python",
   "nbconvert_exporter": "python",
   "pygments_lexer": "ipython2",
   "version": "2.7.11"
  }
 },
 "nbformat": 4,
 "nbformat_minor": 0
}
