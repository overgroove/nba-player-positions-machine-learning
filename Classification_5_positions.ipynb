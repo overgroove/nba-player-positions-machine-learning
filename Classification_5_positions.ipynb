{
 "cells": [
  {
   "cell_type": "code",
   "execution_count": 2,
   "metadata": {
    "collapsed": false
   },
   "outputs": [],
   "source": [
    "import numpy as np\n",
    "from pandas import DataFrame\n",
    "import pandas as pd\n",
    "import scipy as sp\n",
    "from sklearn import metrics\n",
    "from sklearn.naive_bayes import GaussianNB\n",
    "from sklearn import linear_model\n",
    "from sklearn.svm import SVC\n",
    "from sklearn.feature_selection import VarianceThreshold\n",
    "from sklearn.pipeline import Pipeline\n",
    "from sklearn.feature_selection import SelectPercentile, f_classif\n",
    "from sklearn import cross_validation"
   ]
  },
  {
   "cell_type": "code",
   "execution_count": 3,
   "metadata": {
    "collapsed": true
   },
   "outputs": [],
   "source": [
    "np.set_printoptions(precision=5,suppress=True)"
   ]
  },
  {
   "cell_type": "markdown",
   "metadata": {},
   "source": [
    "Reading data:"
   ]
  },
  {
   "cell_type": "code",
   "execution_count": 4,
   "metadata": {
    "collapsed": false
   },
   "outputs": [
    {
     "data": {
      "text/plain": [
       "(712L, 26L)"
      ]
     },
     "execution_count": 4,
     "metadata": {},
     "output_type": "execute_result"
    }
   ],
   "source": [
    "dataset = sp.genfromtxt(\"data5/cleaned.txt\", delimiter=\"\\t\")\n",
    "dataset.shape"
   ]
  },
  {
   "cell_type": "code",
   "execution_count": 5,
   "metadata": {
    "collapsed": false
   },
   "outputs": [
    {
     "data": {
      "text/plain": [
       "(712L, 25L)"
      ]
     },
     "execution_count": 5,
     "metadata": {},
     "output_type": "execute_result"
    }
   ],
   "source": [
    "dataset = np.delete(dataset,[25],1)\n",
    "dataset.shape"
   ]
  },
  {
   "cell_type": "code",
   "execution_count": 6,
   "metadata": {
    "collapsed": false
   },
   "outputs": [
    {
     "data": {
      "text/plain": [
       "(712L, 25L)"
      ]
     },
     "execution_count": 6,
     "metadata": {},
     "output_type": "execute_result"
    }
   ],
   "source": [
    "dataset = dataset[~np.isnan(dataset).any(axis=1)]\n",
    "dataset.shape"
   ]
  },
  {
   "cell_type": "code",
   "execution_count": 7,
   "metadata": {
    "collapsed": true
   },
   "outputs": [],
   "source": [
    "columns = {\"GP\":0, \"GS\":1, \"MIN\":2, \"FGM\":3,\"FGA\":4,\"FG%\":5,\"3PM\":6,\"3PA\":7,\"3P%\":8,\"FTM\":9,\"FTA\":10,\"FT%\":11,\"OFF\":12,\"DEF\":13,\n",
    "              \"TRB\":14,\"AST\":15,\"STL\":16,\"BLK\":17,\"PF\":18,\"TOV\":19,\"PTS\":20,\"YR\":21,\"W\":22,\"H\":23} "
   ]
  },
  {
   "cell_type": "markdown",
   "metadata": {},
   "source": [
    "# Labels"
   ]
  },
  {
   "cell_type": "code",
   "execution_count": 8,
   "metadata": {
    "collapsed": true
   },
   "outputs": [],
   "source": [
    "def np_labeliser(data,col):\n",
    "    labels = data[:,col]\n",
    "    return labels"
   ]
  },
  {
   "cell_type": "code",
   "execution_count": 9,
   "metadata": {
    "collapsed": false
   },
   "outputs": [
    {
     "data": {
      "text/plain": [
       "array([ 4.,  4.,  4.,  5.,  5.,  4.,  1.,  5.,  3.,  1.])"
      ]
     },
     "execution_count": 9,
     "metadata": {},
     "output_type": "execute_result"
    }
   ],
   "source": [
    "labels = np_labeliser(dataset,22)\n",
    "labels[:10]"
   ]
  },
  {
   "cell_type": "markdown",
   "metadata": {},
   "source": [
    "# Feature Selection"
   ]
  },
  {
   "cell_type": "code",
   "execution_count": 10,
   "metadata": {
    "collapsed": true
   },
   "outputs": [],
   "source": [
    "def np_featuriser(dataset, feature_list):\n",
    "    \n",
    "    features = np.delete(dataset,feature_list,1)\n",
    "    return features"
   ]
  },
  {
   "cell_type": "code",
   "execution_count": 11,
   "metadata": {
    "collapsed": false
   },
   "outputs": [
    {
     "name": "stdout",
     "output_type": "stream",
     "text": [
      "25\n",
      "24\n"
     ]
    }
   ],
   "source": [
    "feature_list = [22]\n",
    "print len(dataset[0])\n",
    "features = np_featuriser(dataset, feature_list)\n",
    "print len(features[0])"
   ]
  },
  {
   "cell_type": "code",
   "execution_count": 12,
   "metadata": {
    "collapsed": true
   },
   "outputs": [],
   "source": [
    "def sup_features(usp_list,x):\n",
    "    remove = []\n",
    "    j = 0\n",
    "    for i in usp_list:\n",
    "        if i == False:\n",
    "            remove.append(j)\n",
    "            if x==\"vt\":\n",
    "                print \"%s. feature name: %s\" %(j, columns.keys()[columns.values().index(j)])\n",
    "        elif x == \"uni\":\n",
    "            print \"%s. feature name: %s\" %(j, columns.keys()[columns.values().index(j)])\n",
    "        j = j+1  \n",
    "\n",
    "    return remove"
   ]
  },
  {
   "cell_type": "code",
   "execution_count": 13,
   "metadata": {
    "collapsed": false
   },
   "outputs": [],
   "source": [
    "def feature_selection(clf, features, labels, domain):\n",
    "    none = features\n",
    "    #print none[0]\n",
    "    domain = np_featuriser(features, domain)\n",
    "    #print domain[0]\n",
    "    clf = Pipeline([('feature_selection',SelectPercentile(f_classif, percentile=20)),\n",
    "  ('classification', clf)])\n",
    "    clf.fit(features, labels)\n",
    "    print \"\\nUnivariate - valuable features \\n\"\n",
    "    uni = sup_features(clf.named_steps['feature_selection'].get_support(),\"uni\")\n",
    "    uni = np_featuriser(features, uni)\n",
    "    #print uni[0]\n",
    "    clf = Pipeline([('feature_selection',VarianceThreshold(threshold=(.8 * (1 - .8)))),\n",
    "  ('classification', clf)])\n",
    "    clf.fit(features, labels)\n",
    "    print \"\\nVariance Threshold - removed \\n\"\n",
    "    v_th = sup_features(clf.named_steps['feature_selection'].get_support(), \"vt\")\n",
    "    #print v_th[0]\n",
    "    v_th = np_featuriser(features, v_th)\n",
    "    return none, domain, uni, v_th  \n",
    "\n",
    "domain = [columns[\"GP\"],columns[\"GS\"],columns[\"MIN\"],columns[\"FG%\"],\n",
    "     columns[\"3P%\"],columns[\"FT%\"],columns[\"PTS\"],columns[\"YR\"],columns['3PM'],columns['FTM'],columns['FGM']]\n"
   ]
  },
  {
   "cell_type": "code",
   "execution_count": 14,
   "metadata": {
    "collapsed": true
   },
   "outputs": [],
   "source": [
    "def cross_val(clf, f, l, name):\n",
    "    print \"\\nFeature selection: %s\" %name\n",
    "    scores = cross_validation.cross_val_score(clf, f, l, cv=10)\n",
    "    print(\"Accuracy: %0.2f (+/- %0.2f)\" % (scores.mean(), scores.std() * 2))"
   ]
  },
  {
   "cell_type": "code",
   "execution_count": 15,
   "metadata": {
    "collapsed": true
   },
   "outputs": [],
   "source": [
    "def clf_all(clf, features, labels, domain):\n",
    "    none, domain, uni, vth = feature_selection(clf, features, labels, domain)\n",
    "    \n",
    "    cross_val(clf, none, labels, \"None\")\n",
    "    print \"Number of features left: %s\" %none.shape[1]\n",
    "    cross_val(clf, domain, labels, \"Domain\")\n",
    "    print \"Number of features left: %s\" %domain.shape[1]\n",
    "    cross_val(clf, uni, labels, \"Univariate\")\n",
    "    print \"Number of features left: %s\" %uni.shape[1]\n",
    "    cross_val(clf, vth, labels, \"Variance Threshold\")\n",
    "    print \"Number of features left: %s\" %vth.shape[1]"
   ]
  },
  {
   "cell_type": "markdown",
   "metadata": {},
   "source": [
    "# All Results"
   ]
  },
  {
   "cell_type": "code",
   "execution_count": 16,
   "metadata": {
    "collapsed": false
   },
   "outputs": [],
   "source": [
    "#feature_list = [columns[\"GP\"],columns[\"GS\"],columns[\"MIN\"],columns[\"PTS\"],columns[\"FG%\"],\n",
    "#     columns[\"3P%\"],columns[\"FT%\"],columns[\"YR\"],columns[\"POS\"],columns['3PM'],columns['FTM'],columns['FGM']]\n",
    "#train_features_nb, test_features_nb, val_features_nb = np_featuriser(train_set_nb, test_set_nb, val_set_nb, feature_list)"
   ]
  },
  {
   "cell_type": "code",
   "execution_count": 17,
   "metadata": {
    "collapsed": false
   },
   "outputs": [
    {
     "name": "stdout",
     "output_type": "stream",
     "text": [
      "\n",
      "Univariate - valuable features \n",
      "\n",
      "7. feature name: 3PA\n",
      "8. feature name: 3P%\n",
      "15. feature name: AST\n",
      "22. feature name: W\n",
      "23. feature name: H\n",
      "\n",
      "Variance Threshold - removed \n",
      "\n",
      "5. feature name: FG%\n",
      "8. feature name: 3P%\n",
      "11. feature name: FT%\n",
      "\n",
      "Feature selection: None\n",
      "Accuracy: 0.70 (+/- 0.15)\n",
      "Number of features left: 24\n",
      "\n",
      "Feature selection: Domain\n",
      "Accuracy: 0.74 (+/- 0.09)\n",
      "Number of features left: 13\n",
      "\n",
      "Feature selection: Univariate\n",
      "Accuracy: 0.77 (+/- 0.11)\n",
      "Number of features left: 5\n",
      "\n",
      "Feature selection: Variance Threshold\n",
      "Accuracy: 0.71 (+/- 0.11)\n",
      "Number of features left: 21\n"
     ]
    }
   ],
   "source": [
    "clf_all(GaussianNB(), features, labels, domain)"
   ]
  },
  {
   "cell_type": "code",
   "execution_count": 18,
   "metadata": {
    "collapsed": false
   },
   "outputs": [
    {
     "name": "stdout",
     "output_type": "stream",
     "text": [
      "\n",
      "Univariate - valuable features \n",
      "\n",
      "7. feature name: 3PA\n",
      "8. feature name: 3P%\n",
      "15. feature name: AST\n",
      "22. feature name: W\n",
      "23. feature name: H\n",
      "\n",
      "Variance Threshold - removed \n",
      "\n",
      "5. feature name: FG%\n",
      "8. feature name: 3P%\n",
      "11. feature name: FT%\n",
      "\n",
      "Feature selection: None\n",
      "Accuracy: 0.82 (+/- 0.12)\n",
      "Number of features left: 24\n",
      "\n",
      "Feature selection: Domain\n",
      "Accuracy: 0.82 (+/- 0.09)\n",
      "Number of features left: 13\n",
      "\n",
      "Feature selection: Univariate\n",
      "Accuracy: 0.81 (+/- 0.09)\n",
      "Number of features left: 5\n",
      "\n",
      "Feature selection: Variance Threshold\n",
      "Accuracy: 0.82 (+/- 0.10)\n",
      "Number of features left: 21\n"
     ]
    }
   ],
   "source": [
    "svm = SVC()\n",
    "svm = svm.set_params(kernel='linear')\n",
    "clf_all(svm, features, labels, domain) "
   ]
  },
  {
   "cell_type": "code",
   "execution_count": 19,
   "metadata": {
    "collapsed": false
   },
   "outputs": [
    {
     "name": "stdout",
     "output_type": "stream",
     "text": [
      "\n",
      "Univariate - valuable features \n",
      "\n",
      "7. feature name: 3PA\n",
      "8. feature name: 3P%\n",
      "15. feature name: AST\n",
      "22. feature name: W\n",
      "23. feature name: H\n",
      "\n",
      "Variance Threshold - removed \n",
      "\n",
      "5. feature name: FG%\n",
      "8. feature name: 3P%\n",
      "11. feature name: FT%\n",
      "\n",
      "Feature selection: None\n",
      "Accuracy: 0.69 (+/- 0.15)\n",
      "Number of features left: 24\n",
      "\n",
      "Feature selection: Domain\n",
      "Accuracy: 0.72 (+/- 0.11)\n",
      "Number of features left: 13\n",
      "\n",
      "Feature selection: Univariate\n",
      "Accuracy: 0.72 (+/- 0.08)\n",
      "Number of features left: 5\n",
      "\n",
      "Feature selection: Variance Threshold\n",
      "Accuracy: 0.70 (+/- 0.12)\n",
      "Number of features left: 21\n"
     ]
    }
   ],
   "source": [
    "logreg = linear_model.LogisticRegression(C=1e5)\n",
    "clf_all(logreg, features, labels, domain)"
   ]
  },
  {
   "cell_type": "code",
   "execution_count": null,
   "metadata": {
    "collapsed": true
   },
   "outputs": [],
   "source": []
  }
 ],
 "metadata": {
  "kernelspec": {
   "display_name": "Python 2",
   "language": "python",
   "name": "python2"
  },
  "language_info": {
   "codemirror_mode": {
    "name": "ipython",
    "version": 2
   },
   "file_extension": ".py",
   "mimetype": "text/x-python",
   "name": "python",
   "nbconvert_exporter": "python",
   "pygments_lexer": "ipython2",
   "version": "2.7.11"
  }
 },
 "nbformat": 4,
 "nbformat_minor": 0
}
