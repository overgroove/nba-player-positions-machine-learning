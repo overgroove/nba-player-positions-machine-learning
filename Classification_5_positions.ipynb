{
 "cells": [
  {
   "cell_type": "code",
   "execution_count": 28,
   "metadata": {
    "collapsed": true
   },
   "outputs": [],
   "source": [
    "import numpy as np\n",
    "from pandas import DataFrame\n",
    "import pandas as pd\n",
    "import scipy as sp\n",
    "from sklearn import metrics\n",
    "from sklearn.naive_bayes import GaussianNB\n",
    "from sklearn import linear_model\n",
    "from sklearn import svm"
   ]
  },
  {
   "cell_type": "markdown",
   "metadata": {},
   "source": [
    "Reading data:"
   ]
  },
  {
   "cell_type": "code",
   "execution_count": 29,
   "metadata": {
    "collapsed": true
   },
   "outputs": [],
   "source": [
    "def read_data(folder, name1, name2, name3):\n",
    "    loc = \"%s/%s.txt\" %(folder, name1)\n",
    "    train_set = pd.read_csv(loc, sep=\"\\t\")\n",
    "    print \"Training set has %s rows and %s coumns\" %(train_set.shape[0], train_set.shape[1])\n",
    "    loc = \"%s/%s.txt\" %(folder, name2)\n",
    "    test_set = pd.read_csv(loc, sep=\"\\t\")\n",
    "    print \"Testing set has %s rows and %s coumns\" %(test_set.shape[0], test_set.shape[1])\n",
    "    loc = \"%s/%s.txt\" %(folder, name3)\n",
    "    val_set = pd.read_csv(loc, sep=\"\\t\")\n",
    "    print \"Validation set has %s rows and %s coumns\" %(val_set.shape[0], val_set.shape[1])\n",
    "    return train_set, test_set, val_set\n",
    "\n"
   ]
  },
  {
   "cell_type": "code",
   "execution_count": 30,
   "metadata": {
    "collapsed": false
   },
   "outputs": [
    {
     "name": "stdout",
     "output_type": "stream",
     "text": [
      "Training set has 428 rows and 25 coumns\n",
      "Testing set has 142 rows and 25 coumns\n",
      "Validation set has 142 rows and 25 coumns\n"
     ]
    }
   ],
   "source": [
    "train_set, test_set, val_set = read_data(\"data5\", \"train_data\", \"test_data\", \"valid_data\")"
   ]
  },
  {
   "cell_type": "code",
   "execution_count": 42,
   "metadata": {
    "collapsed": false
   },
   "outputs": [],
   "source": [
    "train_set_np = train_set.values\n",
    "test_set_np = test_set.values\n",
    "val_set_np = val_set.values"
   ]
  },
  {
   "cell_type": "code",
   "execution_count": 44,
   "metadata": {
    "collapsed": true
   },
   "outputs": [],
   "source": [
    "def np_cleaner(train, test, val):\n",
    "    train = train[~np.isnan(train).any(axis=1)]\n",
    "    print \"Training set has %s rows and %s coumns\" %(train.shape[0], train.shape[1])\n",
    "    test = test[~np.isnan(test).any(axis=1)]\n",
    "    print \"Testing set has %s rows and %s coumns\" %(test.shape[0], test.shape[1])\n",
    "    val = val[~np.isnan(val).any(axis=1)]\n",
    "    print \"Validation set has %s rows and %s coumns\" %(val.shape[0], val.shape[1])\n",
    "    return train, test, val"
   ]
  },
  {
   "cell_type": "code",
   "execution_count": 56,
   "metadata": {
    "collapsed": false
   },
   "outputs": [
    {
     "name": "stdout",
     "output_type": "stream",
     "text": [
      "Training set has 428 rows and 25 coumns\n",
      "Testing set has 142 rows and 25 coumns\n",
      "Validation set has 142 rows and 25 coumns\n"
     ]
    }
   ],
   "source": [
    "train_set_nb, test_set_nb, val_set_nb = np_cleaner(train_set_np, test_set_np, val_set_np)"
   ]
  },
  {
   "cell_type": "code",
   "execution_count": 52,
   "metadata": {
    "collapsed": false
   },
   "outputs": [
    {
     "data": {
      "text/plain": [
       "Index([u'GP', u'GS', u'MIN', u'FGM', u'FGA', u'FG%', u'3PM', u'3PA', u'3P%',\n",
       "       u'FTM', u'FTA', u'FT%', u'OFF', u'DEF', u'TRB', u'AST', u'STL', u'BLK',\n",
       "       u'PF', u'TOV', u'PTS', u'YR', u'POS', u'W', u'H'],\n",
       "      dtype='object')"
      ]
     },
     "execution_count": 52,
     "metadata": {},
     "output_type": "execute_result"
    }
   ],
   "source": [
    "train_set.columns"
   ]
  },
  {
   "cell_type": "code",
   "execution_count": 48,
   "metadata": {
    "collapsed": true
   },
   "outputs": [],
   "source": [
    "columns = {\"GP\":0, \"GS\":1, \"MIN\":2, \"FGM\":3,\"FGA\":4,\"FG%\":5,\"3PM\":6,\"3PA\":7,\"3P%\":8,\"FTM\":9,\"FTA\":10,\"FT%\":11,\"OFF\":12,\"DEF\":13,\n",
    "              \"TRB\":14,\"AST\":15,\"STL\":16,\"BLK\":17,\"PF\":18,\"TOV\":19,\"PTS\":20,\"YR\":21,\"POS\":22,\"W\":23,\"H\":24} "
   ]
  },
  {
   "cell_type": "code",
   "execution_count": 53,
   "metadata": {
    "collapsed": true
   },
   "outputs": [],
   "source": [
    "def np_labeliser(train, test, val, col):\n",
    "    train = train[:,col]\n",
    "    test = test[:,col]\n",
    "    val = val[:,col]\n",
    "    return train, test, val"
   ]
  },
  {
   "cell_type": "code",
   "execution_count": 54,
   "metadata": {
    "collapsed": false
   },
   "outputs": [],
   "source": [
    " train_labels, test_labels, val_labels = np_labeliser(train_set_np, test_set_np, val_set_np, 22)"
   ]
  },
  {
   "cell_type": "code",
   "execution_count": 55,
   "metadata": {
    "collapsed": false
   },
   "outputs": [
    {
     "data": {
      "text/plain": [
       "array([ 4.,  4.,  4.,  5.,  5.,  4.,  1.,  5.,  3.,  1.,  3.,  2.,  5.,\n",
       "        3.,  4.,  2.,  5.,  5.,  3.,  1.,  1.,  1.,  3.,  4.,  3.,  4.,\n",
       "        3.,  5.,  5.,  5.,  1.,  5.,  1.,  1.,  4.,  3.,  3.,  3.,  4.,\n",
       "        5.,  4.,  5.,  5.,  4.,  1.,  4.,  5.,  5.,  4.,  4.,  4.,  5.,\n",
       "        3.,  2.,  5.,  2.,  2.,  5.,  4.,  5.,  4.,  5.,  5.,  5.,  4.,\n",
       "        4.,  5.,  5.,  5.,  4.,  2.,  2.,  4.,  3.,  2.,  5.,  2.,  2.,\n",
       "        5.,  3.,  5.,  4.,  2.,  5.,  2.,  5.,  2.,  1.,  3.,  5.,  3.,\n",
       "        5.,  5.,  5.,  5.,  2.,  4.,  3.,  3.,  5.,  1.,  5.,  1.,  5.,\n",
       "        1.,  5.,  4.,  5.,  1.,  3.,  5.,  4.,  3.,  3.,  5.,  4.,  4.,\n",
       "        5.,  4.,  1.,  4.,  1.,  2.,  4.,  1.,  5.,  4.,  4.,  5.,  5.,\n",
       "        5.,  1.,  3.,  5.,  2.,  5.,  5.,  3.,  3.,  5.,  1.,  4.,  2.,\n",
       "        5.,  2.,  2.,  3.,  5.,  2.,  5.,  5.,  5.,  4.,  2.,  1.,  5.,\n",
       "        2.,  4.,  4.,  4.,  4.,  5.,  3.,  4.,  5.,  2.,  5.,  3.,  3.,\n",
       "        5.,  5.,  4.,  5.,  4.,  3.,  4.,  4.,  1.,  5.,  2.,  2.,  2.,\n",
       "        4.,  4.,  5.,  1.,  5.,  5.,  5.,  5.,  5.,  2.,  5.,  3.,  4.,\n",
       "        4.,  1.,  5.,  1.,  4.,  4.,  3.,  1.,  3.,  4.,  5.,  3.,  5.,\n",
       "        5.,  2.,  2.,  5.,  3.,  2.,  4.,  2.,  5.,  3.,  5.,  5.,  2.,\n",
       "        5.,  2.,  5.,  2.,  4.,  5.,  2.,  4.,  5.,  5.,  5.,  1.,  5.,\n",
       "        4.,  2.,  5.,  5.,  4.,  4.,  3.,  5.,  5.,  4.,  5.,  1.,  5.,\n",
       "        1.,  5.,  5.,  1.,  1.,  4.,  4.,  1.,  5.,  2.,  1.,  1.,  5.,\n",
       "        3.,  4.,  3.,  1.,  5.,  1.,  5.,  5.,  2.,  5.,  5.,  5.,  5.,\n",
       "        3.,  2.,  3.,  4.,  4.,  2.,  2.,  5.,  5.,  5.,  3.,  4.,  4.,\n",
       "        3.,  4.,  5.,  1.,  4.,  2.,  3.,  3.,  4.,  2.,  5.,  5.,  5.,\n",
       "        5.,  4.,  5.,  4.,  2.,  5.,  5.,  4.,  4.,  3.,  5.,  5.,  1.,\n",
       "        3.,  1.,  5.,  4.,  5.,  2.,  3.,  5.,  3.,  5.,  3.,  2.,  4.,\n",
       "        4.,  5.,  1.,  5.,  3.,  3.,  3.,  5.,  4.,  3.,  3.,  1.,  2.,\n",
       "        4.,  3.,  5.,  5.,  5.,  2.,  5.,  5.,  3.,  5.,  5.,  4.,  1.,\n",
       "        5.,  4.,  5.,  3.,  4.,  4.,  4.,  5.,  1.,  1.,  2.,  2.,  5.,\n",
       "        2.,  3.,  1.,  2.,  2.,  5.,  4.,  2.,  5.,  2.,  5.,  1.,  5.,\n",
       "        2.,  3.,  5.,  1.,  1.,  3.,  5.,  5.,  3.,  5.,  5.,  4.,  4.,\n",
       "        5.,  2.,  1.,  2.,  5.,  4.,  5.,  3.,  4.,  2.,  5.,  5.,  2.,\n",
       "        5.,  3.,  3.,  5.,  1.,  2.,  1.,  5.,  3.,  4.,  4.,  1.,  3.,\n",
       "        5.,  1.,  3.,  2.,  1.,  5.,  5.,  2.,  3.,  4.,  4.,  4.])"
      ]
     },
     "execution_count": 55,
     "metadata": {},
     "output_type": "execute_result"
    }
   ],
   "source": []
  },
  {
   "cell_type": "code",
   "execution_count": null,
   "metadata": {
    "collapsed": true
   },
   "outputs": [],
   "source": []
  }
 ],
 "metadata": {
  "kernelspec": {
   "display_name": "Python 2",
   "language": "python",
   "name": "python2"
  },
  "language_info": {
   "codemirror_mode": {
    "name": "ipython",
    "version": 2
   },
   "file_extension": ".py",
   "mimetype": "text/x-python",
   "name": "python",
   "nbconvert_exporter": "python",
   "pygments_lexer": "ipython2",
   "version": "2.7.11"
  }
 },
 "nbformat": 4,
 "nbformat_minor": 0
}
